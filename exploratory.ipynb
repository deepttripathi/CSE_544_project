{
  "nbformat": 4,
  "nbformat_minor": 0,
  "metadata": {
    "colab": {
      "name": "exploratory (1).ipynb",
      "provenance": [],
      "collapsed_sections": []
    },
    "kernelspec": {
      "name": "python3",
      "display_name": "Python 3"
    },
    "language_info": {
      "name": "python"
    }
  },
  "cells": [
    {
      "cell_type": "markdown",
      "metadata": {
        "id": "FX6Wg0_Qm27U"
      },
      "source": [
        "***Exploratory Tasks***"
      ]
    },
    {
      "cell_type": "code",
      "metadata": {
        "id": "ZvUjuDpC0a1h"
      },
      "source": [
        "import pandas as pd\n",
        "import numpy as np\n",
        "import matplotlib.pyplot as plt"
      ],
      "execution_count": 94,
      "outputs": []
    },
    {
      "cell_type": "markdown",
      "metadata": {
        "id": "WCzzUmRRbFKo"
      },
      "source": [
        "Loading the exploratory dataset (NY arrests data)"
      ]
    },
    {
      "cell_type": "code",
      "metadata": {
        "colab": {
          "base_uri": "https://localhost:8080/",
          "height": 204
        },
        "id": "m2Ktp2ZS0gXI",
        "outputId": "f882fe1b-cde3-4bca-a88e-de52e1b27fbb"
      },
      "source": [
        "arrests_df = pd.read_csv('nypd_arrests_data.csv').drop(columns=['ARREST_KEY', 'PD_CD', 'PD_DESC', 'KY_CD', 'LAW_CODE', 'LAW_CAT_CD', 'ARREST_BORO', 'ARREST_PRECINCT', 'JURISDICTION_CODE', 'X_COORD_CD', 'Y_COORD_CD', 'Latitude', 'Longitude', 'Lon_Lat'])\n",
        "arrests_df.head()"
      ],
      "execution_count": 95,
      "outputs": [
        {
          "output_type": "execute_result",
          "data": {
            "text/html": [
              "<div>\n",
              "<style scoped>\n",
              "    .dataframe tbody tr th:only-of-type {\n",
              "        vertical-align: middle;\n",
              "    }\n",
              "\n",
              "    .dataframe tbody tr th {\n",
              "        vertical-align: top;\n",
              "    }\n",
              "\n",
              "    .dataframe thead th {\n",
              "        text-align: right;\n",
              "    }\n",
              "</style>\n",
              "<table border=\"1\" class=\"dataframe\">\n",
              "  <thead>\n",
              "    <tr style=\"text-align: right;\">\n",
              "      <th></th>\n",
              "      <th>ARREST_DATE</th>\n",
              "      <th>OFNS_DESC</th>\n",
              "      <th>AGE_GROUP</th>\n",
              "      <th>PERP_SEX</th>\n",
              "      <th>PERP_RACE</th>\n",
              "    </tr>\n",
              "  </thead>\n",
              "  <tbody>\n",
              "    <tr>\n",
              "      <th>0</th>\n",
              "      <td>1/1/20</td>\n",
              "      <td>SEX CRIMES</td>\n",
              "      <td>25-44</td>\n",
              "      <td>M</td>\n",
              "      <td>WHITE HISPANIC</td>\n",
              "    </tr>\n",
              "    <tr>\n",
              "      <th>1</th>\n",
              "      <td>1/1/20</td>\n",
              "      <td>ASSAULT 3 &amp; RELATED OFFENSES</td>\n",
              "      <td>18-24</td>\n",
              "      <td>F</td>\n",
              "      <td>BLACK</td>\n",
              "    </tr>\n",
              "    <tr>\n",
              "      <th>2</th>\n",
              "      <td>1/1/20</td>\n",
              "      <td>POSSESSION OF STOLEN PROPERTY</td>\n",
              "      <td>&lt;18</td>\n",
              "      <td>M</td>\n",
              "      <td>BLACK</td>\n",
              "    </tr>\n",
              "    <tr>\n",
              "      <th>3</th>\n",
              "      <td>1/1/20</td>\n",
              "      <td>ASSAULT 3 &amp; RELATED OFFENSES</td>\n",
              "      <td>45-64</td>\n",
              "      <td>M</td>\n",
              "      <td>BLACK</td>\n",
              "    </tr>\n",
              "    <tr>\n",
              "      <th>4</th>\n",
              "      <td>1/1/20</td>\n",
              "      <td>ASSAULT 3 &amp; RELATED OFFENSES</td>\n",
              "      <td>18-24</td>\n",
              "      <td>M</td>\n",
              "      <td>BLACK</td>\n",
              "    </tr>\n",
              "  </tbody>\n",
              "</table>\n",
              "</div>"
            ],
            "text/plain": [
              "  ARREST_DATE                      OFNS_DESC AGE_GROUP PERP_SEX       PERP_RACE\n",
              "0      1/1/20                     SEX CRIMES     25-44        M  WHITE HISPANIC\n",
              "1      1/1/20   ASSAULT 3 & RELATED OFFENSES     18-24        F           BLACK\n",
              "2      1/1/20  POSSESSION OF STOLEN PROPERTY       <18        M           BLACK\n",
              "3      1/1/20   ASSAULT 3 & RELATED OFFENSES     45-64        M           BLACK\n",
              "4      1/1/20   ASSAULT 3 & RELATED OFFENSES     18-24        M           BLACK"
            ]
          },
          "metadata": {
            "tags": []
          },
          "execution_count": 95
        }
      ]
    },
    {
      "cell_type": "markdown",
      "metadata": {
        "id": "QaHkflP3bM9_"
      },
      "source": [
        "Loading the US-all confirmed cases dataset"
      ]
    },
    {
      "cell_type": "code",
      "metadata": {
        "colab": {
          "base_uri": "https://localhost:8080/",
          "height": 270
        },
        "id": "Y4Lw08LsTKS9",
        "outputId": "f3e820a5-03d0-4194-f6d4-b4b08aae45cf"
      },
      "source": [
        "confirmed_df = pd.read_csv('US_confirmed.csv')\n",
        "confirmed_df.head()"
      ],
      "execution_count": 96,
      "outputs": [
        {
          "output_type": "execute_result",
          "data": {
            "text/html": [
              "<div>\n",
              "<style scoped>\n",
              "    .dataframe tbody tr th:only-of-type {\n",
              "        vertical-align: middle;\n",
              "    }\n",
              "\n",
              "    .dataframe tbody tr th {\n",
              "        vertical-align: top;\n",
              "    }\n",
              "\n",
              "    .dataframe thead th {\n",
              "        text-align: right;\n",
              "    }\n",
              "</style>\n",
              "<table border=\"1\" class=\"dataframe\">\n",
              "  <thead>\n",
              "    <tr style=\"text-align: right;\">\n",
              "      <th></th>\n",
              "      <th>State</th>\n",
              "      <th>2020-01-22</th>\n",
              "      <th>2020-01-23</th>\n",
              "      <th>2020-01-24</th>\n",
              "      <th>2020-01-25</th>\n",
              "      <th>2020-01-26</th>\n",
              "      <th>2020-01-27</th>\n",
              "      <th>2020-01-28</th>\n",
              "      <th>2020-01-29</th>\n",
              "      <th>2020-01-30</th>\n",
              "      <th>2020-01-31</th>\n",
              "      <th>2020-02-01</th>\n",
              "      <th>2020-02-02</th>\n",
              "      <th>2020-02-03</th>\n",
              "      <th>2020-02-04</th>\n",
              "      <th>2020-02-05</th>\n",
              "      <th>2020-02-06</th>\n",
              "      <th>2020-02-07</th>\n",
              "      <th>2020-02-08</th>\n",
              "      <th>2020-02-09</th>\n",
              "      <th>2020-02-10</th>\n",
              "      <th>2020-02-11</th>\n",
              "      <th>2020-02-12</th>\n",
              "      <th>2020-02-13</th>\n",
              "      <th>2020-02-14</th>\n",
              "      <th>2020-02-15</th>\n",
              "      <th>2020-02-16</th>\n",
              "      <th>2020-02-17</th>\n",
              "      <th>2020-02-18</th>\n",
              "      <th>2020-02-19</th>\n",
              "      <th>2020-02-20</th>\n",
              "      <th>2020-02-21</th>\n",
              "      <th>2020-02-22</th>\n",
              "      <th>2020-02-23</th>\n",
              "      <th>2020-02-24</th>\n",
              "      <th>2020-02-25</th>\n",
              "      <th>2020-02-26</th>\n",
              "      <th>2020-02-27</th>\n",
              "      <th>2020-02-28</th>\n",
              "      <th>2020-02-29</th>\n",
              "      <th>...</th>\n",
              "      <th>2021-02-23</th>\n",
              "      <th>2021-02-24</th>\n",
              "      <th>2021-02-25</th>\n",
              "      <th>2021-02-26</th>\n",
              "      <th>2021-02-27</th>\n",
              "      <th>2021-02-28</th>\n",
              "      <th>2021-03-01</th>\n",
              "      <th>2021-03-02</th>\n",
              "      <th>2021-03-03</th>\n",
              "      <th>2021-03-04</th>\n",
              "      <th>2021-03-05</th>\n",
              "      <th>2021-03-06</th>\n",
              "      <th>2021-03-07</th>\n",
              "      <th>2021-03-08</th>\n",
              "      <th>2021-03-09</th>\n",
              "      <th>2021-03-10</th>\n",
              "      <th>2021-03-11</th>\n",
              "      <th>2021-03-12</th>\n",
              "      <th>2021-03-13</th>\n",
              "      <th>2021-03-14</th>\n",
              "      <th>2021-03-15</th>\n",
              "      <th>2021-03-16</th>\n",
              "      <th>2021-03-17</th>\n",
              "      <th>2021-03-18</th>\n",
              "      <th>2021-03-19</th>\n",
              "      <th>2021-03-20</th>\n",
              "      <th>2021-03-21</th>\n",
              "      <th>2021-03-22</th>\n",
              "      <th>2021-03-23</th>\n",
              "      <th>2021-03-24</th>\n",
              "      <th>2021-03-25</th>\n",
              "      <th>2021-03-26</th>\n",
              "      <th>2021-03-27</th>\n",
              "      <th>2021-03-28</th>\n",
              "      <th>2021-03-29</th>\n",
              "      <th>2021-03-30</th>\n",
              "      <th>2021-03-31</th>\n",
              "      <th>2021-04-01</th>\n",
              "      <th>2021-04-02</th>\n",
              "      <th>2021-04-03</th>\n",
              "    </tr>\n",
              "  </thead>\n",
              "  <tbody>\n",
              "    <tr>\n",
              "      <th>0</th>\n",
              "      <td>AK</td>\n",
              "      <td>0</td>\n",
              "      <td>0</td>\n",
              "      <td>0</td>\n",
              "      <td>0</td>\n",
              "      <td>0</td>\n",
              "      <td>0</td>\n",
              "      <td>0</td>\n",
              "      <td>0</td>\n",
              "      <td>0</td>\n",
              "      <td>0</td>\n",
              "      <td>0</td>\n",
              "      <td>0</td>\n",
              "      <td>0</td>\n",
              "      <td>0</td>\n",
              "      <td>0</td>\n",
              "      <td>0</td>\n",
              "      <td>0</td>\n",
              "      <td>0</td>\n",
              "      <td>0</td>\n",
              "      <td>0</td>\n",
              "      <td>0</td>\n",
              "      <td>0</td>\n",
              "      <td>0</td>\n",
              "      <td>0</td>\n",
              "      <td>0</td>\n",
              "      <td>0</td>\n",
              "      <td>0</td>\n",
              "      <td>0</td>\n",
              "      <td>0</td>\n",
              "      <td>0</td>\n",
              "      <td>0</td>\n",
              "      <td>0</td>\n",
              "      <td>0</td>\n",
              "      <td>0</td>\n",
              "      <td>0</td>\n",
              "      <td>0</td>\n",
              "      <td>0</td>\n",
              "      <td>0</td>\n",
              "      <td>0</td>\n",
              "      <td>...</td>\n",
              "      <td>55538</td>\n",
              "      <td>55710</td>\n",
              "      <td>55847</td>\n",
              "      <td>55947</td>\n",
              "      <td>55947</td>\n",
              "      <td>55947</td>\n",
              "      <td>56290</td>\n",
              "      <td>56409</td>\n",
              "      <td>56582</td>\n",
              "      <td>56717</td>\n",
              "      <td>56853</td>\n",
              "      <td>56853</td>\n",
              "      <td>56853</td>\n",
              "      <td>57180</td>\n",
              "      <td>57267</td>\n",
              "      <td>57410</td>\n",
              "      <td>57635</td>\n",
              "      <td>57740</td>\n",
              "      <td>57740</td>\n",
              "      <td>57740</td>\n",
              "      <td>58104</td>\n",
              "      <td>58204</td>\n",
              "      <td>58371</td>\n",
              "      <td>58520</td>\n",
              "      <td>58594</td>\n",
              "      <td>58594</td>\n",
              "      <td>58594</td>\n",
              "      <td>58934</td>\n",
              "      <td>59106</td>\n",
              "      <td>59303</td>\n",
              "      <td>59448</td>\n",
              "      <td>59627</td>\n",
              "      <td>59627</td>\n",
              "      <td>59627</td>\n",
              "      <td>59627</td>\n",
              "      <td>60248</td>\n",
              "      <td>60248</td>\n",
              "      <td>60628</td>\n",
              "      <td>60823</td>\n",
              "      <td>60823</td>\n",
              "    </tr>\n",
              "    <tr>\n",
              "      <th>1</th>\n",
              "      <td>AL</td>\n",
              "      <td>0</td>\n",
              "      <td>0</td>\n",
              "      <td>0</td>\n",
              "      <td>0</td>\n",
              "      <td>0</td>\n",
              "      <td>0</td>\n",
              "      <td>0</td>\n",
              "      <td>0</td>\n",
              "      <td>0</td>\n",
              "      <td>0</td>\n",
              "      <td>0</td>\n",
              "      <td>0</td>\n",
              "      <td>0</td>\n",
              "      <td>0</td>\n",
              "      <td>0</td>\n",
              "      <td>0</td>\n",
              "      <td>0</td>\n",
              "      <td>0</td>\n",
              "      <td>0</td>\n",
              "      <td>0</td>\n",
              "      <td>0</td>\n",
              "      <td>0</td>\n",
              "      <td>0</td>\n",
              "      <td>0</td>\n",
              "      <td>0</td>\n",
              "      <td>0</td>\n",
              "      <td>0</td>\n",
              "      <td>0</td>\n",
              "      <td>0</td>\n",
              "      <td>0</td>\n",
              "      <td>0</td>\n",
              "      <td>0</td>\n",
              "      <td>0</td>\n",
              "      <td>0</td>\n",
              "      <td>0</td>\n",
              "      <td>0</td>\n",
              "      <td>0</td>\n",
              "      <td>0</td>\n",
              "      <td>0</td>\n",
              "      <td>...</td>\n",
              "      <td>488842</td>\n",
              "      <td>490138</td>\n",
              "      <td>491116</td>\n",
              "      <td>491868</td>\n",
              "      <td>492696</td>\n",
              "      <td>493257</td>\n",
              "      <td>493770</td>\n",
              "      <td>494442</td>\n",
              "      <td>497161</td>\n",
              "      <td>498085</td>\n",
              "      <td>498898</td>\n",
              "      <td>499445</td>\n",
              "      <td>499831</td>\n",
              "      <td>500098</td>\n",
              "      <td>500623</td>\n",
              "      <td>501403</td>\n",
              "      <td>502265</td>\n",
              "      <td>502726</td>\n",
              "      <td>503311</td>\n",
              "      <td>503680</td>\n",
              "      <td>508230</td>\n",
              "      <td>508733</td>\n",
              "      <td>509493</td>\n",
              "      <td>510060</td>\n",
              "      <td>510588</td>\n",
              "      <td>511098</td>\n",
              "      <td>511463</td>\n",
              "      <td>511782</td>\n",
              "      <td>511881</td>\n",
              "      <td>512718</td>\n",
              "      <td>513161</td>\n",
              "      <td>513605</td>\n",
              "      <td>514098</td>\n",
              "      <td>514415</td>\n",
              "      <td>514642</td>\n",
              "      <td>515015</td>\n",
              "      <td>515423</td>\n",
              "      <td>515893</td>\n",
              "      <td>516309</td>\n",
              "      <td>516662</td>\n",
              "    </tr>\n",
              "    <tr>\n",
              "      <th>2</th>\n",
              "      <td>AR</td>\n",
              "      <td>0</td>\n",
              "      <td>0</td>\n",
              "      <td>0</td>\n",
              "      <td>0</td>\n",
              "      <td>0</td>\n",
              "      <td>0</td>\n",
              "      <td>0</td>\n",
              "      <td>0</td>\n",
              "      <td>0</td>\n",
              "      <td>0</td>\n",
              "      <td>0</td>\n",
              "      <td>0</td>\n",
              "      <td>0</td>\n",
              "      <td>0</td>\n",
              "      <td>0</td>\n",
              "      <td>0</td>\n",
              "      <td>0</td>\n",
              "      <td>0</td>\n",
              "      <td>0</td>\n",
              "      <td>0</td>\n",
              "      <td>0</td>\n",
              "      <td>0</td>\n",
              "      <td>0</td>\n",
              "      <td>0</td>\n",
              "      <td>0</td>\n",
              "      <td>0</td>\n",
              "      <td>0</td>\n",
              "      <td>0</td>\n",
              "      <td>0</td>\n",
              "      <td>0</td>\n",
              "      <td>0</td>\n",
              "      <td>0</td>\n",
              "      <td>0</td>\n",
              "      <td>0</td>\n",
              "      <td>0</td>\n",
              "      <td>0</td>\n",
              "      <td>0</td>\n",
              "      <td>0</td>\n",
              "      <td>0</td>\n",
              "      <td>...</td>\n",
              "      <td>316612</td>\n",
              "      <td>317410</td>\n",
              "      <td>318135</td>\n",
              "      <td>318646</td>\n",
              "      <td>319203</td>\n",
              "      <td>322511</td>\n",
              "      <td>322594</td>\n",
              "      <td>323010</td>\n",
              "      <td>323399</td>\n",
              "      <td>323791</td>\n",
              "      <td>324351</td>\n",
              "      <td>324677</td>\n",
              "      <td>324843</td>\n",
              "      <td>324974</td>\n",
              "      <td>325404</td>\n",
              "      <td>325719</td>\n",
              "      <td>326055</td>\n",
              "      <td>326513</td>\n",
              "      <td>326825</td>\n",
              "      <td>326954</td>\n",
              "      <td>327073</td>\n",
              "      <td>327467</td>\n",
              "      <td>327793</td>\n",
              "      <td>328055</td>\n",
              "      <td>328281</td>\n",
              "      <td>328555</td>\n",
              "      <td>328667</td>\n",
              "      <td>328719</td>\n",
              "      <td>328952</td>\n",
              "      <td>329178</td>\n",
              "      <td>329515</td>\n",
              "      <td>329700</td>\n",
              "      <td>329865</td>\n",
              "      <td>329934</td>\n",
              "      <td>330013</td>\n",
              "      <td>330188</td>\n",
              "      <td>330401</td>\n",
              "      <td>330611</td>\n",
              "      <td>330756</td>\n",
              "      <td>330972</td>\n",
              "    </tr>\n",
              "    <tr>\n",
              "      <th>3</th>\n",
              "      <td>AZ</td>\n",
              "      <td>0</td>\n",
              "      <td>0</td>\n",
              "      <td>0</td>\n",
              "      <td>0</td>\n",
              "      <td>1</td>\n",
              "      <td>1</td>\n",
              "      <td>1</td>\n",
              "      <td>1</td>\n",
              "      <td>1</td>\n",
              "      <td>1</td>\n",
              "      <td>1</td>\n",
              "      <td>1</td>\n",
              "      <td>1</td>\n",
              "      <td>1</td>\n",
              "      <td>1</td>\n",
              "      <td>1</td>\n",
              "      <td>1</td>\n",
              "      <td>1</td>\n",
              "      <td>1</td>\n",
              "      <td>1</td>\n",
              "      <td>1</td>\n",
              "      <td>1</td>\n",
              "      <td>1</td>\n",
              "      <td>1</td>\n",
              "      <td>1</td>\n",
              "      <td>1</td>\n",
              "      <td>1</td>\n",
              "      <td>1</td>\n",
              "      <td>1</td>\n",
              "      <td>1</td>\n",
              "      <td>1</td>\n",
              "      <td>1</td>\n",
              "      <td>1</td>\n",
              "      <td>1</td>\n",
              "      <td>1</td>\n",
              "      <td>1</td>\n",
              "      <td>1</td>\n",
              "      <td>1</td>\n",
              "      <td>1</td>\n",
              "      <td>...</td>\n",
              "      <td>811968</td>\n",
              "      <td>811968</td>\n",
              "      <td>814528</td>\n",
              "      <td>814528</td>\n",
              "      <td>816782</td>\n",
              "      <td>817821</td>\n",
              "      <td>817821</td>\n",
              "      <td>818670</td>\n",
              "      <td>819954</td>\n",
              "      <td>821109</td>\n",
              "      <td>823385</td>\n",
              "      <td>823385</td>\n",
              "      <td>827237</td>\n",
              "      <td>827802</td>\n",
              "      <td>827802</td>\n",
              "      <td>828701</td>\n",
              "      <td>830720</td>\n",
              "      <td>832090</td>\n",
              "      <td>832904</td>\n",
              "      <td>832904</td>\n",
              "      <td>833582</td>\n",
              "      <td>834073</td>\n",
              "      <td>835056</td>\n",
              "      <td>835387</td>\n",
              "      <td>835549</td>\n",
              "      <td>835549</td>\n",
              "      <td>836906</td>\n",
              "      <td>836906</td>\n",
              "      <td>837416</td>\n",
              "      <td>838016</td>\n",
              "      <td>838016</td>\n",
              "      <td>838719</td>\n",
              "      <td>839892</td>\n",
              "      <td>840492</td>\n",
              "      <td>840614</td>\n",
              "      <td>841192</td>\n",
              "      <td>841884</td>\n",
              "      <td>842273</td>\n",
              "      <td>843174</td>\n",
              "      <td>844328</td>\n",
              "    </tr>\n",
              "    <tr>\n",
              "      <th>4</th>\n",
              "      <td>CA</td>\n",
              "      <td>0</td>\n",
              "      <td>0</td>\n",
              "      <td>0</td>\n",
              "      <td>0</td>\n",
              "      <td>2</td>\n",
              "      <td>3</td>\n",
              "      <td>3</td>\n",
              "      <td>4</td>\n",
              "      <td>4</td>\n",
              "      <td>4</td>\n",
              "      <td>4</td>\n",
              "      <td>4</td>\n",
              "      <td>6</td>\n",
              "      <td>6</td>\n",
              "      <td>6</td>\n",
              "      <td>6</td>\n",
              "      <td>6</td>\n",
              "      <td>6</td>\n",
              "      <td>6</td>\n",
              "      <td>6</td>\n",
              "      <td>7</td>\n",
              "      <td>7</td>\n",
              "      <td>8</td>\n",
              "      <td>8</td>\n",
              "      <td>8</td>\n",
              "      <td>8</td>\n",
              "      <td>8</td>\n",
              "      <td>9</td>\n",
              "      <td>9</td>\n",
              "      <td>9</td>\n",
              "      <td>12</td>\n",
              "      <td>12</td>\n",
              "      <td>12</td>\n",
              "      <td>13</td>\n",
              "      <td>13</td>\n",
              "      <td>15</td>\n",
              "      <td>16</td>\n",
              "      <td>18</td>\n",
              "      <td>22</td>\n",
              "      <td>...</td>\n",
              "      <td>3450075</td>\n",
              "      <td>3455375</td>\n",
              "      <td>3460338</td>\n",
              "      <td>3465734</td>\n",
              "      <td>3470880</td>\n",
              "      <td>3475564</td>\n",
              "      <td>3509158</td>\n",
              "      <td>3512368</td>\n",
              "      <td>3515499</td>\n",
              "      <td>3518362</td>\n",
              "      <td>3521268</td>\n",
              "      <td>3523381</td>\n",
              "      <td>3525251</td>\n",
              "      <td>3528464</td>\n",
              "      <td>3531204</td>\n",
              "      <td>3533904</td>\n",
              "      <td>3536431</td>\n",
              "      <td>3538799</td>\n",
              "      <td>3540578</td>\n",
              "      <td>3542026</td>\n",
              "      <td>3544665</td>\n",
              "      <td>3546902</td>\n",
              "      <td>3549066</td>\n",
              "      <td>3550931</td>\n",
              "      <td>3552725</td>\n",
              "      <td>3553989</td>\n",
              "      <td>3555092</td>\n",
              "      <td>3557289</td>\n",
              "      <td>3559373</td>\n",
              "      <td>3561678</td>\n",
              "      <td>3563340</td>\n",
              "      <td>3564383</td>\n",
              "      <td>3564476</td>\n",
              "      <td>3564476</td>\n",
              "      <td>3564476</td>\n",
              "      <td>3564476</td>\n",
              "      <td>3564476</td>\n",
              "      <td>3570718</td>\n",
              "      <td>3573028</td>\n",
              "      <td>3577951</td>\n",
              "    </tr>\n",
              "  </tbody>\n",
              "</table>\n",
              "<p>5 rows × 439 columns</p>\n",
              "</div>"
            ],
            "text/plain": [
              "  State  2020-01-22  2020-01-23  ...  2021-04-01  2021-04-02  2021-04-03\n",
              "0    AK           0           0  ...       60628       60823       60823\n",
              "1    AL           0           0  ...      515893      516309      516662\n",
              "2    AR           0           0  ...      330611      330756      330972\n",
              "3    AZ           0           0  ...      842273      843174      844328\n",
              "4    CA           0           0  ...     3570718     3573028     3577951\n",
              "\n",
              "[5 rows x 439 columns]"
            ]
          },
          "metadata": {
            "tags": []
          },
          "execution_count": 96
        }
      ]
    },
    {
      "cell_type": "markdown",
      "metadata": {
        "id": "Lx23upMvbQzt"
      },
      "source": [
        "Loading the US-all deaths dataset"
      ]
    },
    {
      "cell_type": "code",
      "metadata": {
        "colab": {
          "base_uri": "https://localhost:8080/",
          "height": 270
        },
        "id": "RBXbOpIeBDR4",
        "outputId": "5b54c5df-91d3-4495-9d0f-6b303b41a04b"
      },
      "source": [
        "deaths_df = pd.read_csv('US_deaths.csv')\n",
        "deaths_df.head()"
      ],
      "execution_count": 97,
      "outputs": [
        {
          "output_type": "execute_result",
          "data": {
            "text/html": [
              "<div>\n",
              "<style scoped>\n",
              "    .dataframe tbody tr th:only-of-type {\n",
              "        vertical-align: middle;\n",
              "    }\n",
              "\n",
              "    .dataframe tbody tr th {\n",
              "        vertical-align: top;\n",
              "    }\n",
              "\n",
              "    .dataframe thead th {\n",
              "        text-align: right;\n",
              "    }\n",
              "</style>\n",
              "<table border=\"1\" class=\"dataframe\">\n",
              "  <thead>\n",
              "    <tr style=\"text-align: right;\">\n",
              "      <th></th>\n",
              "      <th>State</th>\n",
              "      <th>2020-01-22</th>\n",
              "      <th>2020-01-23</th>\n",
              "      <th>2020-01-24</th>\n",
              "      <th>2020-01-25</th>\n",
              "      <th>2020-01-26</th>\n",
              "      <th>2020-01-27</th>\n",
              "      <th>2020-01-28</th>\n",
              "      <th>2020-01-29</th>\n",
              "      <th>2020-01-30</th>\n",
              "      <th>2020-01-31</th>\n",
              "      <th>2020-02-01</th>\n",
              "      <th>2020-02-02</th>\n",
              "      <th>2020-02-03</th>\n",
              "      <th>2020-02-04</th>\n",
              "      <th>2020-02-05</th>\n",
              "      <th>2020-02-06</th>\n",
              "      <th>2020-02-07</th>\n",
              "      <th>2020-02-08</th>\n",
              "      <th>2020-02-09</th>\n",
              "      <th>2020-02-10</th>\n",
              "      <th>2020-02-11</th>\n",
              "      <th>2020-02-12</th>\n",
              "      <th>2020-02-13</th>\n",
              "      <th>2020-02-14</th>\n",
              "      <th>2020-02-15</th>\n",
              "      <th>2020-02-16</th>\n",
              "      <th>2020-02-17</th>\n",
              "      <th>2020-02-18</th>\n",
              "      <th>2020-02-19</th>\n",
              "      <th>2020-02-20</th>\n",
              "      <th>2020-02-21</th>\n",
              "      <th>2020-02-22</th>\n",
              "      <th>2020-02-23</th>\n",
              "      <th>2020-02-24</th>\n",
              "      <th>2020-02-25</th>\n",
              "      <th>2020-02-26</th>\n",
              "      <th>2020-02-27</th>\n",
              "      <th>2020-02-28</th>\n",
              "      <th>2020-02-29</th>\n",
              "      <th>...</th>\n",
              "      <th>2021-02-23</th>\n",
              "      <th>2021-02-24</th>\n",
              "      <th>2021-02-25</th>\n",
              "      <th>2021-02-26</th>\n",
              "      <th>2021-02-27</th>\n",
              "      <th>2021-02-28</th>\n",
              "      <th>2021-03-01</th>\n",
              "      <th>2021-03-02</th>\n",
              "      <th>2021-03-03</th>\n",
              "      <th>2021-03-04</th>\n",
              "      <th>2021-03-05</th>\n",
              "      <th>2021-03-06</th>\n",
              "      <th>2021-03-07</th>\n",
              "      <th>2021-03-08</th>\n",
              "      <th>2021-03-09</th>\n",
              "      <th>2021-03-10</th>\n",
              "      <th>2021-03-11</th>\n",
              "      <th>2021-03-12</th>\n",
              "      <th>2021-03-13</th>\n",
              "      <th>2021-03-14</th>\n",
              "      <th>2021-03-15</th>\n",
              "      <th>2021-03-16</th>\n",
              "      <th>2021-03-17</th>\n",
              "      <th>2021-03-18</th>\n",
              "      <th>2021-03-19</th>\n",
              "      <th>2021-03-20</th>\n",
              "      <th>2021-03-21</th>\n",
              "      <th>2021-03-22</th>\n",
              "      <th>2021-03-23</th>\n",
              "      <th>2021-03-24</th>\n",
              "      <th>2021-03-25</th>\n",
              "      <th>2021-03-26</th>\n",
              "      <th>2021-03-27</th>\n",
              "      <th>2021-03-28</th>\n",
              "      <th>2021-03-29</th>\n",
              "      <th>2021-03-30</th>\n",
              "      <th>2021-03-31</th>\n",
              "      <th>2021-04-01</th>\n",
              "      <th>2021-04-02</th>\n",
              "      <th>2021-04-03</th>\n",
              "    </tr>\n",
              "  </thead>\n",
              "  <tbody>\n",
              "    <tr>\n",
              "      <th>0</th>\n",
              "      <td>AK</td>\n",
              "      <td>0</td>\n",
              "      <td>0</td>\n",
              "      <td>0</td>\n",
              "      <td>0</td>\n",
              "      <td>0</td>\n",
              "      <td>0</td>\n",
              "      <td>0</td>\n",
              "      <td>0</td>\n",
              "      <td>0</td>\n",
              "      <td>0</td>\n",
              "      <td>0</td>\n",
              "      <td>0</td>\n",
              "      <td>0</td>\n",
              "      <td>0</td>\n",
              "      <td>0</td>\n",
              "      <td>0</td>\n",
              "      <td>0</td>\n",
              "      <td>0</td>\n",
              "      <td>0</td>\n",
              "      <td>0</td>\n",
              "      <td>0</td>\n",
              "      <td>0</td>\n",
              "      <td>0</td>\n",
              "      <td>0</td>\n",
              "      <td>0</td>\n",
              "      <td>0</td>\n",
              "      <td>0</td>\n",
              "      <td>0</td>\n",
              "      <td>0</td>\n",
              "      <td>0</td>\n",
              "      <td>0</td>\n",
              "      <td>0</td>\n",
              "      <td>0</td>\n",
              "      <td>0</td>\n",
              "      <td>0</td>\n",
              "      <td>0</td>\n",
              "      <td>0</td>\n",
              "      <td>0</td>\n",
              "      <td>0</td>\n",
              "      <td>...</td>\n",
              "      <td>278</td>\n",
              "      <td>278</td>\n",
              "      <td>278</td>\n",
              "      <td>278</td>\n",
              "      <td>278</td>\n",
              "      <td>278</td>\n",
              "      <td>288</td>\n",
              "      <td>289</td>\n",
              "      <td>289</td>\n",
              "      <td>289</td>\n",
              "      <td>290</td>\n",
              "      <td>290</td>\n",
              "      <td>290</td>\n",
              "      <td>290</td>\n",
              "      <td>290</td>\n",
              "      <td>290</td>\n",
              "      <td>290</td>\n",
              "      <td>291</td>\n",
              "      <td>291</td>\n",
              "      <td>291</td>\n",
              "      <td>291</td>\n",
              "      <td>291</td>\n",
              "      <td>292</td>\n",
              "      <td>295</td>\n",
              "      <td>295</td>\n",
              "      <td>295</td>\n",
              "      <td>295</td>\n",
              "      <td>295</td>\n",
              "      <td>297</td>\n",
              "      <td>297</td>\n",
              "      <td>298</td>\n",
              "      <td>298</td>\n",
              "      <td>298</td>\n",
              "      <td>298</td>\n",
              "      <td>298</td>\n",
              "      <td>298</td>\n",
              "      <td>298</td>\n",
              "      <td>298</td>\n",
              "      <td>298</td>\n",
              "      <td>298</td>\n",
              "    </tr>\n",
              "    <tr>\n",
              "      <th>1</th>\n",
              "      <td>AL</td>\n",
              "      <td>0</td>\n",
              "      <td>0</td>\n",
              "      <td>0</td>\n",
              "      <td>0</td>\n",
              "      <td>0</td>\n",
              "      <td>0</td>\n",
              "      <td>0</td>\n",
              "      <td>0</td>\n",
              "      <td>0</td>\n",
              "      <td>0</td>\n",
              "      <td>0</td>\n",
              "      <td>0</td>\n",
              "      <td>0</td>\n",
              "      <td>0</td>\n",
              "      <td>0</td>\n",
              "      <td>0</td>\n",
              "      <td>0</td>\n",
              "      <td>0</td>\n",
              "      <td>0</td>\n",
              "      <td>0</td>\n",
              "      <td>0</td>\n",
              "      <td>0</td>\n",
              "      <td>0</td>\n",
              "      <td>0</td>\n",
              "      <td>0</td>\n",
              "      <td>0</td>\n",
              "      <td>0</td>\n",
              "      <td>0</td>\n",
              "      <td>0</td>\n",
              "      <td>0</td>\n",
              "      <td>0</td>\n",
              "      <td>0</td>\n",
              "      <td>0</td>\n",
              "      <td>0</td>\n",
              "      <td>0</td>\n",
              "      <td>0</td>\n",
              "      <td>0</td>\n",
              "      <td>0</td>\n",
              "      <td>0</td>\n",
              "      <td>...</td>\n",
              "      <td>9663</td>\n",
              "      <td>9747</td>\n",
              "      <td>9835</td>\n",
              "      <td>9875</td>\n",
              "      <td>9934</td>\n",
              "      <td>9934</td>\n",
              "      <td>9936</td>\n",
              "      <td>9995</td>\n",
              "      <td>10033</td>\n",
              "      <td>10095</td>\n",
              "      <td>10125</td>\n",
              "      <td>10152</td>\n",
              "      <td>10152</td>\n",
              "      <td>10152</td>\n",
              "      <td>10189</td>\n",
              "      <td>10225</td>\n",
              "      <td>10279</td>\n",
              "      <td>10305</td>\n",
              "      <td>10333</td>\n",
              "      <td>10333</td>\n",
              "      <td>10335</td>\n",
              "      <td>10343</td>\n",
              "      <td>10368</td>\n",
              "      <td>10397</td>\n",
              "      <td>10429</td>\n",
              "      <td>10441</td>\n",
              "      <td>10441</td>\n",
              "      <td>10441</td>\n",
              "      <td>10456</td>\n",
              "      <td>10491</td>\n",
              "      <td>10511</td>\n",
              "      <td>10527</td>\n",
              "      <td>10530</td>\n",
              "      <td>10530</td>\n",
              "      <td>10530</td>\n",
              "      <td>10532</td>\n",
              "      <td>10558</td>\n",
              "      <td>10558</td>\n",
              "      <td>10611</td>\n",
              "      <td>10640</td>\n",
              "    </tr>\n",
              "    <tr>\n",
              "      <th>2</th>\n",
              "      <td>AR</td>\n",
              "      <td>0</td>\n",
              "      <td>0</td>\n",
              "      <td>0</td>\n",
              "      <td>0</td>\n",
              "      <td>0</td>\n",
              "      <td>0</td>\n",
              "      <td>0</td>\n",
              "      <td>0</td>\n",
              "      <td>0</td>\n",
              "      <td>0</td>\n",
              "      <td>0</td>\n",
              "      <td>0</td>\n",
              "      <td>0</td>\n",
              "      <td>0</td>\n",
              "      <td>0</td>\n",
              "      <td>0</td>\n",
              "      <td>0</td>\n",
              "      <td>0</td>\n",
              "      <td>0</td>\n",
              "      <td>0</td>\n",
              "      <td>0</td>\n",
              "      <td>0</td>\n",
              "      <td>0</td>\n",
              "      <td>0</td>\n",
              "      <td>0</td>\n",
              "      <td>0</td>\n",
              "      <td>0</td>\n",
              "      <td>0</td>\n",
              "      <td>0</td>\n",
              "      <td>0</td>\n",
              "      <td>0</td>\n",
              "      <td>0</td>\n",
              "      <td>0</td>\n",
              "      <td>0</td>\n",
              "      <td>0</td>\n",
              "      <td>0</td>\n",
              "      <td>0</td>\n",
              "      <td>0</td>\n",
              "      <td>0</td>\n",
              "      <td>...</td>\n",
              "      <td>5378</td>\n",
              "      <td>5388</td>\n",
              "      <td>5400</td>\n",
              "      <td>5410</td>\n",
              "      <td>5420</td>\n",
              "      <td>5429</td>\n",
              "      <td>5432</td>\n",
              "      <td>5432</td>\n",
              "      <td>5434</td>\n",
              "      <td>5436</td>\n",
              "      <td>5438</td>\n",
              "      <td>5439</td>\n",
              "      <td>5449</td>\n",
              "      <td>5457</td>\n",
              "      <td>5463</td>\n",
              "      <td>5476</td>\n",
              "      <td>5494</td>\n",
              "      <td>5514</td>\n",
              "      <td>5526</td>\n",
              "      <td>5541</td>\n",
              "      <td>5547</td>\n",
              "      <td>5555</td>\n",
              "      <td>5566</td>\n",
              "      <td>5573</td>\n",
              "      <td>5587</td>\n",
              "      <td>5593</td>\n",
              "      <td>5601</td>\n",
              "      <td>5606</td>\n",
              "      <td>5608</td>\n",
              "      <td>5617</td>\n",
              "      <td>5625</td>\n",
              "      <td>5636</td>\n",
              "      <td>5642</td>\n",
              "      <td>5646</td>\n",
              "      <td>5649</td>\n",
              "      <td>5661</td>\n",
              "      <td>5669</td>\n",
              "      <td>5678</td>\n",
              "      <td>5679</td>\n",
              "      <td>5681</td>\n",
              "    </tr>\n",
              "    <tr>\n",
              "      <th>3</th>\n",
              "      <td>AZ</td>\n",
              "      <td>0</td>\n",
              "      <td>0</td>\n",
              "      <td>0</td>\n",
              "      <td>0</td>\n",
              "      <td>0</td>\n",
              "      <td>0</td>\n",
              "      <td>0</td>\n",
              "      <td>0</td>\n",
              "      <td>0</td>\n",
              "      <td>0</td>\n",
              "      <td>0</td>\n",
              "      <td>0</td>\n",
              "      <td>0</td>\n",
              "      <td>0</td>\n",
              "      <td>0</td>\n",
              "      <td>0</td>\n",
              "      <td>0</td>\n",
              "      <td>0</td>\n",
              "      <td>0</td>\n",
              "      <td>0</td>\n",
              "      <td>0</td>\n",
              "      <td>0</td>\n",
              "      <td>0</td>\n",
              "      <td>0</td>\n",
              "      <td>0</td>\n",
              "      <td>0</td>\n",
              "      <td>0</td>\n",
              "      <td>0</td>\n",
              "      <td>0</td>\n",
              "      <td>0</td>\n",
              "      <td>0</td>\n",
              "      <td>0</td>\n",
              "      <td>0</td>\n",
              "      <td>0</td>\n",
              "      <td>0</td>\n",
              "      <td>0</td>\n",
              "      <td>0</td>\n",
              "      <td>0</td>\n",
              "      <td>0</td>\n",
              "      <td>...</td>\n",
              "      <td>15693</td>\n",
              "      <td>15693</td>\n",
              "      <td>15897</td>\n",
              "      <td>15897</td>\n",
              "      <td>15980</td>\n",
              "      <td>15980</td>\n",
              "      <td>15980</td>\n",
              "      <td>16061</td>\n",
              "      <td>16091</td>\n",
              "      <td>16185</td>\n",
              "      <td>16269</td>\n",
              "      <td>16269</td>\n",
              "      <td>16328</td>\n",
              "      <td>16332</td>\n",
              "      <td>16332</td>\n",
              "      <td>16407</td>\n",
              "      <td>16464</td>\n",
              "      <td>16519</td>\n",
              "      <td>16553</td>\n",
              "      <td>16553</td>\n",
              "      <td>16554</td>\n",
              "      <td>16574</td>\n",
              "      <td>16586</td>\n",
              "      <td>16646</td>\n",
              "      <td>16692</td>\n",
              "      <td>16692</td>\n",
              "      <td>16746</td>\n",
              "      <td>16746</td>\n",
              "      <td>16799</td>\n",
              "      <td>16843</td>\n",
              "      <td>16843</td>\n",
              "      <td>16900</td>\n",
              "      <td>16918</td>\n",
              "      <td>16918</td>\n",
              "      <td>16921</td>\n",
              "      <td>16942</td>\n",
              "      <td>16968</td>\n",
              "      <td>16979</td>\n",
              "      <td>16998</td>\n",
              "      <td>17005</td>\n",
              "    </tr>\n",
              "    <tr>\n",
              "      <th>4</th>\n",
              "      <td>CA</td>\n",
              "      <td>0</td>\n",
              "      <td>0</td>\n",
              "      <td>0</td>\n",
              "      <td>0</td>\n",
              "      <td>0</td>\n",
              "      <td>0</td>\n",
              "      <td>0</td>\n",
              "      <td>0</td>\n",
              "      <td>0</td>\n",
              "      <td>0</td>\n",
              "      <td>0</td>\n",
              "      <td>0</td>\n",
              "      <td>0</td>\n",
              "      <td>0</td>\n",
              "      <td>0</td>\n",
              "      <td>1</td>\n",
              "      <td>1</td>\n",
              "      <td>1</td>\n",
              "      <td>1</td>\n",
              "      <td>1</td>\n",
              "      <td>1</td>\n",
              "      <td>1</td>\n",
              "      <td>1</td>\n",
              "      <td>1</td>\n",
              "      <td>1</td>\n",
              "      <td>1</td>\n",
              "      <td>2</td>\n",
              "      <td>2</td>\n",
              "      <td>2</td>\n",
              "      <td>2</td>\n",
              "      <td>2</td>\n",
              "      <td>2</td>\n",
              "      <td>2</td>\n",
              "      <td>2</td>\n",
              "      <td>2</td>\n",
              "      <td>2</td>\n",
              "      <td>2</td>\n",
              "      <td>2</td>\n",
              "      <td>2</td>\n",
              "      <td>...</td>\n",
              "      <td>49565</td>\n",
              "      <td>49880</td>\n",
              "      <td>50991</td>\n",
              "      <td>51382</td>\n",
              "      <td>51821</td>\n",
              "      <td>51979</td>\n",
              "      <td>52129</td>\n",
              "      <td>52429</td>\n",
              "      <td>52823</td>\n",
              "      <td>53194</td>\n",
              "      <td>53464</td>\n",
              "      <td>53722</td>\n",
              "      <td>53828</td>\n",
              "      <td>53878</td>\n",
              "      <td>54320</td>\n",
              "      <td>54590</td>\n",
              "      <td>54878</td>\n",
              "      <td>55095</td>\n",
              "      <td>55235</td>\n",
              "      <td>55330</td>\n",
              "      <td>55372</td>\n",
              "      <td>55577</td>\n",
              "      <td>55795</td>\n",
              "      <td>56027</td>\n",
              "      <td>56072</td>\n",
              "      <td>56118</td>\n",
              "      <td>56545</td>\n",
              "      <td>56596</td>\n",
              "      <td>56850</td>\n",
              "      <td>57091</td>\n",
              "      <td>57336</td>\n",
              "      <td>57551</td>\n",
              "      <td>57746</td>\n",
              "      <td>57778</td>\n",
              "      <td>57778</td>\n",
              "      <td>57778</td>\n",
              "      <td>57778</td>\n",
              "      <td>58094</td>\n",
              "      <td>58271</td>\n",
              "      <td>58429</td>\n",
              "    </tr>\n",
              "  </tbody>\n",
              "</table>\n",
              "<p>5 rows × 439 columns</p>\n",
              "</div>"
            ],
            "text/plain": [
              "  State  2020-01-22  2020-01-23  ...  2021-04-01  2021-04-02  2021-04-03\n",
              "0    AK           0           0  ...         298         298         298\n",
              "1    AL           0           0  ...       10558       10611       10640\n",
              "2    AR           0           0  ...        5678        5679        5681\n",
              "3    AZ           0           0  ...       16979       16998       17005\n",
              "4    CA           0           0  ...       58094       58271       58429\n",
              "\n",
              "[5 rows x 439 columns]"
            ]
          },
          "metadata": {
            "tags": []
          },
          "execution_count": 97
        }
      ]
    },
    {
      "cell_type": "markdown",
      "metadata": {
        "id": "TptJ42kYbdod"
      },
      "source": [
        "Parsing the confirmed data to get daily number of confirmed cases"
      ]
    },
    {
      "cell_type": "code",
      "metadata": {
        "id": "x7SDLep455dg",
        "colab": {
          "base_uri": "https://localhost:8080/"
        },
        "outputId": "dc466de3-973d-4558-f606-700bc33acc62"
      },
      "source": [
        "def getPerDayData_confirmed(data):\n",
        "  states=['Confirmed_Count']\n",
        "  for m_state in states:\n",
        "    data[m_state]=data[m_state].diff().fillna(data[m_state])\n",
        "  return data\n",
        "\n",
        "ny_confirmed_count_df = pd.DataFrame()\n",
        "ny_confirmed_count_df['Date'] = pd.to_datetime(confirmed_df.columns[1:].to_list())\n",
        "ny_confirmed_count_df['Confirmed_Count'] = np.array(confirmed_df.iloc[34].iloc[1:])\n",
        "getPerDayData_confirmed(ny_confirmed_count_df)\n",
        "len(ny_confirmed_count_df)"
      ],
      "execution_count": 98,
      "outputs": [
        {
          "output_type": "execute_result",
          "data": {
            "text/plain": [
              "438"
            ]
          },
          "metadata": {
            "tags": []
          },
          "execution_count": 98
        }
      ]
    },
    {
      "cell_type": "markdown",
      "metadata": {
        "id": "iLhfSC4RbzmT"
      },
      "source": [
        "Parsing the deaths data to get daily number of deaths"
      ]
    },
    {
      "cell_type": "code",
      "metadata": {
        "colab": {
          "base_uri": "https://localhost:8080/"
        },
        "id": "f3ZFF1mjCDgC",
        "outputId": "72a942ec-221c-49ef-afb2-5a7f755ed9e1"
      },
      "source": [
        "def getPerDayData_deaths(data):\n",
        "  states=['Deaths_Count']\n",
        "  for m_state in states:\n",
        "    data[m_state]=data[m_state].diff().fillna(data[m_state])\n",
        "  return data\n",
        "\n",
        "ny_deaths_count_df = pd.DataFrame()\n",
        "ny_deaths_count_df['Date'] = pd.to_datetime(deaths_df.columns[1:].to_list())\n",
        "ny_deaths_count_df['Deaths_Count'] = np.array(deaths_df.iloc[34].iloc[1:])\n",
        "getPerDayData_deaths(ny_deaths_count_df)\n",
        "len(ny_deaths_count_df)"
      ],
      "execution_count": 99,
      "outputs": [
        {
          "output_type": "execute_result",
          "data": {
            "text/plain": [
              "438"
            ]
          },
          "metadata": {
            "tags": []
          },
          "execution_count": 99
        }
      ]
    },
    {
      "cell_type": "markdown",
      "metadata": {
        "id": "rsSyIlkOb8r_"
      },
      "source": [
        "Parsing the arrests data to get daily count of all types of \n",
        "arrests"
      ]
    },
    {
      "cell_type": "code",
      "metadata": {
        "colab": {
          "base_uri": "https://localhost:8080/"
        },
        "id": "_P3XJBN6Vht5",
        "outputId": "ce5768f3-c658-406e-cc9e-a1dba03d5807"
      },
      "source": [
        "arrests_df['ARREST_DATE'] = pd.to_datetime(arrests_df[\"ARREST_DATE\"])\n",
        "arrests_df.sort_values(by='ARREST_DATE')\n",
        "counts = arrests_df.groupby('ARREST_DATE')['OFNS_DESC'].count()\n",
        "arrests_count_df = pd.DataFrame()\n",
        "arrests_count_df['ARREST_DATE'] = arrests_df['ARREST_DATE'].drop_duplicates()\n",
        "arrests_count_df['Counts'] = np.array(counts)\n",
        "len(arrests_count_df)"
      ],
      "execution_count": 100,
      "outputs": [
        {
          "output_type": "execute_result",
          "data": {
            "text/plain": [
              "456"
            ]
          },
          "metadata": {
            "tags": []
          },
          "execution_count": 100
        }
      ]
    },
    {
      "cell_type": "markdown",
      "metadata": {
        "id": "_lDe3mLtc_6S"
      },
      "source": [
        "Parsing the arrests data to get daily count of burglary and serious crimes"
      ]
    },
    {
      "cell_type": "code",
      "metadata": {
        "id": "ccPHCef0arwC"
      },
      "source": [
        "arrests_burglary_df = arrests_df[arrests_df['OFNS_DESC'].isin(['BURGLARY'])]\n",
        "arrests_serious_crimes_df = arrests_df[arrests_df['OFNS_DESC'].isin(['MURDER & NON-NEGL. MANSLAUGHTE', 'FELONY ASSAULT', 'KIDNAPPING & RELATED OFFENSES'])]"
      ],
      "execution_count": 101,
      "outputs": []
    },
    {
      "cell_type": "code",
      "metadata": {
        "colab": {
          "base_uri": "https://localhost:8080/",
          "height": 204
        },
        "id": "NJawNg58jknv",
        "outputId": "b318048d-4503-4f0b-bbe7-1fa470af227c"
      },
      "source": [
        "counts = arrests_burglary_df.groupby('ARREST_DATE')['OFNS_DESC'].count()\n",
        "arrests_burglary_count_df = pd.DataFrame()\n",
        "arrests_burglary_count_df['ARREST_DATE'] = arrests_burglary_df['ARREST_DATE'].drop_duplicates()\n",
        "arrests_burglary_count_df['Counts'] = np.array(counts)\n",
        "arrests_burglary_count_df.head()"
      ],
      "execution_count": 102,
      "outputs": [
        {
          "output_type": "execute_result",
          "data": {
            "text/html": [
              "<div>\n",
              "<style scoped>\n",
              "    .dataframe tbody tr th:only-of-type {\n",
              "        vertical-align: middle;\n",
              "    }\n",
              "\n",
              "    .dataframe tbody tr th {\n",
              "        vertical-align: top;\n",
              "    }\n",
              "\n",
              "    .dataframe thead th {\n",
              "        text-align: right;\n",
              "    }\n",
              "</style>\n",
              "<table border=\"1\" class=\"dataframe\">\n",
              "  <thead>\n",
              "    <tr style=\"text-align: right;\">\n",
              "      <th></th>\n",
              "      <th>ARREST_DATE</th>\n",
              "      <th>Counts</th>\n",
              "    </tr>\n",
              "  </thead>\n",
              "  <tbody>\n",
              "    <tr>\n",
              "      <th>19</th>\n",
              "      <td>2020-01-01</td>\n",
              "      <td>14</td>\n",
              "    </tr>\n",
              "    <tr>\n",
              "      <th>491</th>\n",
              "      <td>2020-01-02</td>\n",
              "      <td>15</td>\n",
              "    </tr>\n",
              "    <tr>\n",
              "      <th>1147</th>\n",
              "      <td>2020-01-03</td>\n",
              "      <td>18</td>\n",
              "    </tr>\n",
              "    <tr>\n",
              "      <th>1620</th>\n",
              "      <td>2020-01-04</td>\n",
              "      <td>23</td>\n",
              "    </tr>\n",
              "    <tr>\n",
              "      <th>2178</th>\n",
              "      <td>2020-01-05</td>\n",
              "      <td>5</td>\n",
              "    </tr>\n",
              "  </tbody>\n",
              "</table>\n",
              "</div>"
            ],
            "text/plain": [
              "     ARREST_DATE  Counts\n",
              "19    2020-01-01      14\n",
              "491   2020-01-02      15\n",
              "1147  2020-01-03      18\n",
              "1620  2020-01-04      23\n",
              "2178  2020-01-05       5"
            ]
          },
          "metadata": {
            "tags": []
          },
          "execution_count": 102
        }
      ]
    },
    {
      "cell_type": "code",
      "metadata": {
        "colab": {
          "base_uri": "https://localhost:8080/",
          "height": 419
        },
        "id": "HsfIUT9HD6nf",
        "outputId": "41860931-83a8-4ccc-f42e-4b0827ed29e0"
      },
      "source": [
        "counts = arrests_serious_crimes_df.groupby('ARREST_DATE')['OFNS_DESC'].count()\n",
        "arrests_serious_crimes_count_df = pd.DataFrame()\n",
        "arrests_serious_crimes_count_df['ARREST_DATE'] = arrests_serious_crimes_df['ARREST_DATE'].drop_duplicates()\n",
        "arrests_serious_crimes_count_df['Counts'] = np.array(counts)\n",
        "arrests_serious_crimes_count_df"
      ],
      "execution_count": 103,
      "outputs": [
        {
          "output_type": "execute_result",
          "data": {
            "text/html": [
              "<div>\n",
              "<style scoped>\n",
              "    .dataframe tbody tr th:only-of-type {\n",
              "        vertical-align: middle;\n",
              "    }\n",
              "\n",
              "    .dataframe tbody tr th {\n",
              "        vertical-align: top;\n",
              "    }\n",
              "\n",
              "    .dataframe thead th {\n",
              "        text-align: right;\n",
              "    }\n",
              "</style>\n",
              "<table border=\"1\" class=\"dataframe\">\n",
              "  <thead>\n",
              "    <tr style=\"text-align: right;\">\n",
              "      <th></th>\n",
              "      <th>ARREST_DATE</th>\n",
              "      <th>Counts</th>\n",
              "    </tr>\n",
              "  </thead>\n",
              "  <tbody>\n",
              "    <tr>\n",
              "      <th>10</th>\n",
              "      <td>2020-01-01</td>\n",
              "      <td>60</td>\n",
              "    </tr>\n",
              "    <tr>\n",
              "      <th>492</th>\n",
              "      <td>2020-01-02</td>\n",
              "      <td>60</td>\n",
              "    </tr>\n",
              "    <tr>\n",
              "      <th>1132</th>\n",
              "      <td>2020-01-03</td>\n",
              "      <td>38</td>\n",
              "    </tr>\n",
              "    <tr>\n",
              "      <th>1604</th>\n",
              "      <td>2020-01-04</td>\n",
              "      <td>27</td>\n",
              "    </tr>\n",
              "    <tr>\n",
              "      <th>2005</th>\n",
              "      <td>2020-01-05</td>\n",
              "      <td>30</td>\n",
              "    </tr>\n",
              "    <tr>\n",
              "      <th>...</th>\n",
              "      <td>...</td>\n",
              "      <td>...</td>\n",
              "    </tr>\n",
              "    <tr>\n",
              "      <th>177941</th>\n",
              "      <td>2021-03-27</td>\n",
              "      <td>35</td>\n",
              "    </tr>\n",
              "    <tr>\n",
              "      <th>178238</th>\n",
              "      <td>2021-03-28</td>\n",
              "      <td>31</td>\n",
              "    </tr>\n",
              "    <tr>\n",
              "      <th>178502</th>\n",
              "      <td>2021-03-29</td>\n",
              "      <td>37</td>\n",
              "    </tr>\n",
              "    <tr>\n",
              "      <th>178803</th>\n",
              "      <td>2021-03-30</td>\n",
              "      <td>33</td>\n",
              "    </tr>\n",
              "    <tr>\n",
              "      <th>179228</th>\n",
              "      <td>2021-03-31</td>\n",
              "      <td>53</td>\n",
              "    </tr>\n",
              "  </tbody>\n",
              "</table>\n",
              "<p>456 rows × 2 columns</p>\n",
              "</div>"
            ],
            "text/plain": [
              "       ARREST_DATE  Counts\n",
              "10      2020-01-01      60\n",
              "492     2020-01-02      60\n",
              "1132    2020-01-03      38\n",
              "1604    2020-01-04      27\n",
              "2005    2020-01-05      30\n",
              "...            ...     ...\n",
              "177941  2021-03-27      35\n",
              "178238  2021-03-28      31\n",
              "178502  2021-03-29      37\n",
              "178803  2021-03-30      33\n",
              "179228  2021-03-31      53\n",
              "\n",
              "[456 rows x 2 columns]"
            ]
          },
          "metadata": {
            "tags": []
          },
          "execution_count": 103
        }
      ]
    },
    {
      "cell_type": "markdown",
      "metadata": {
        "id": "6HdmtmhfeT_B"
      },
      "source": [
        "These functions below are used to calculate Pearson Coefficients of two datasets. We use these to check if datasets related to our X dataset is independent of datasets in US_all_confirm and US_all_death"
      ]
    },
    {
      "cell_type": "code",
      "metadata": {
        "id": "3AJ5tjmGxC_R"
      },
      "source": [
        "def calculate_sample_mean(X):\n",
        "    return sum(X) / len(X)"
      ],
      "execution_count": 104,
      "outputs": []
    },
    {
      "cell_type": "code",
      "metadata": {
        "id": "BJb_fkqAnLce"
      },
      "source": [
        "p_value = 0.5\n",
        "def calculate_pearsons_coefficient(X, Y):\n",
        "    x_mean = calculate_sample_mean(X)\n",
        "    print(\"X mean =\", x_mean)\n",
        "    y_mean = calculate_sample_mean(Y)\n",
        "    print(\"Y mean =\", y_mean)\n",
        "    numer = sum([(x_i - x_mean) * (y_i - y_mean) for x_i, y_i in zip(X, Y)])\n",
        "    print(\"numerator =\", numer)\n",
        "    denom = (sum([(x_i - x_mean)**2 for x_i in X]) * sum([(y_i - y_mean)**2 for y_i in Y])) ** 0.5\n",
        "    print(\"denominator =\", denom)\n",
        "    return numer / denom"
      ],
      "execution_count": 105,
      "outputs": []
    },
    {
      "cell_type": "markdown",
      "metadata": {
        "id": "JEAXr-upyPPa"
      },
      "source": [
        "Lockdown was imposed in NY to reduce the impact of covid. Below are the details\n",
        "\n",
        "**March 7, 2020**\tState of emergency declared.\n",
        "\n",
        "**May 15, 2020**\tPhase 1 of reopening allowed for counties that met qualifications. Five counties met qualifications and began reopening on this date.\n",
        "**May 15, 2020**\tDrive-in theaters, landscaping/gardening businesses allowed to reopen state-wide (regardless of Phase 1 qualifications).\n",
        "\n",
        "source: https://en.wikipedia.org/wiki/COVID-19_pandemic_in_New_York_(state)#Government_response"
      ]
    },
    {
      "cell_type": "markdown",
      "metadata": {
        "id": "qgMps1ukfNiF"
      },
      "source": [
        "We obtain count of confirmed cases during the lockdown period as below."
      ]
    },
    {
      "cell_type": "code",
      "metadata": {
        "colab": {
          "base_uri": "https://localhost:8080/",
          "height": 204
        },
        "id": "D3aOQxmdxElh",
        "outputId": "a4af94bd-fbc6-4ff0-e65a-20bbf25a8875"
      },
      "source": [
        "mask_1 = (ny_confirmed_count_df['Date'] >= '2020-3-7') & (ny_confirmed_count_df['Date'] < '2020-05-15')\n",
        "\n",
        "ny_confirmed_count_df_lockdown = ny_confirmed_count_df.loc[mask_1]\n",
        "ny_confirmed_count_df_lockdown.head()"
      ],
      "execution_count": 106,
      "outputs": [
        {
          "output_type": "execute_result",
          "data": {
            "text/html": [
              "<div>\n",
              "<style scoped>\n",
              "    .dataframe tbody tr th:only-of-type {\n",
              "        vertical-align: middle;\n",
              "    }\n",
              "\n",
              "    .dataframe tbody tr th {\n",
              "        vertical-align: top;\n",
              "    }\n",
              "\n",
              "    .dataframe thead th {\n",
              "        text-align: right;\n",
              "    }\n",
              "</style>\n",
              "<table border=\"1\" class=\"dataframe\">\n",
              "  <thead>\n",
              "    <tr style=\"text-align: right;\">\n",
              "      <th></th>\n",
              "      <th>Date</th>\n",
              "      <th>Confirmed_Count</th>\n",
              "    </tr>\n",
              "  </thead>\n",
              "  <tbody>\n",
              "    <tr>\n",
              "      <th>45</th>\n",
              "      <td>2020-03-07</td>\n",
              "      <td>52</td>\n",
              "    </tr>\n",
              "    <tr>\n",
              "      <th>46</th>\n",
              "      <td>2020-03-08</td>\n",
              "      <td>30</td>\n",
              "    </tr>\n",
              "    <tr>\n",
              "      <th>47</th>\n",
              "      <td>2020-03-09</td>\n",
              "      <td>38</td>\n",
              "    </tr>\n",
              "    <tr>\n",
              "      <th>48</th>\n",
              "      <td>2020-03-10</td>\n",
              "      <td>28</td>\n",
              "    </tr>\n",
              "    <tr>\n",
              "      <th>49</th>\n",
              "      <td>2020-03-11</td>\n",
              "      <td>34</td>\n",
              "    </tr>\n",
              "  </tbody>\n",
              "</table>\n",
              "</div>"
            ],
            "text/plain": [
              "         Date  Confirmed_Count\n",
              "45 2020-03-07               52\n",
              "46 2020-03-08               30\n",
              "47 2020-03-09               38\n",
              "48 2020-03-10               28\n",
              "49 2020-03-11               34"
            ]
          },
          "metadata": {
            "tags": []
          },
          "execution_count": 106
        }
      ]
    },
    {
      "cell_type": "markdown",
      "metadata": {
        "id": "kbEt9cmAfZj1"
      },
      "source": [
        "We obtain count of death cases during the lockdown period as below."
      ]
    },
    {
      "cell_type": "code",
      "metadata": {
        "colab": {
          "base_uri": "https://localhost:8080/",
          "height": 204
        },
        "id": "ijWMNmJ3HC00",
        "outputId": "5f0dce71-56e8-49f3-9f71-8b787590eed3"
      },
      "source": [
        "mask_1 = (ny_deaths_count_df['Date'] >= '2020-3-7') & (ny_deaths_count_df['Date'] < '2020-05-15')\n",
        "\n",
        "ny_deaths_count_df_lockdown = ny_deaths_count_df.loc[mask_1]\n",
        "ny_deaths_count_df_lockdown.head()"
      ],
      "execution_count": 107,
      "outputs": [
        {
          "output_type": "execute_result",
          "data": {
            "text/html": [
              "<div>\n",
              "<style scoped>\n",
              "    .dataframe tbody tr th:only-of-type {\n",
              "        vertical-align: middle;\n",
              "    }\n",
              "\n",
              "    .dataframe tbody tr th {\n",
              "        vertical-align: top;\n",
              "    }\n",
              "\n",
              "    .dataframe thead th {\n",
              "        text-align: right;\n",
              "    }\n",
              "</style>\n",
              "<table border=\"1\" class=\"dataframe\">\n",
              "  <thead>\n",
              "    <tr style=\"text-align: right;\">\n",
              "      <th></th>\n",
              "      <th>Date</th>\n",
              "      <th>Deaths_Count</th>\n",
              "    </tr>\n",
              "  </thead>\n",
              "  <tbody>\n",
              "    <tr>\n",
              "      <th>45</th>\n",
              "      <td>2020-03-07</td>\n",
              "      <td>0</td>\n",
              "    </tr>\n",
              "    <tr>\n",
              "      <th>46</th>\n",
              "      <td>2020-03-08</td>\n",
              "      <td>0</td>\n",
              "    </tr>\n",
              "    <tr>\n",
              "      <th>47</th>\n",
              "      <td>2020-03-09</td>\n",
              "      <td>0</td>\n",
              "    </tr>\n",
              "    <tr>\n",
              "      <th>48</th>\n",
              "      <td>2020-03-10</td>\n",
              "      <td>0</td>\n",
              "    </tr>\n",
              "    <tr>\n",
              "      <th>49</th>\n",
              "      <td>2020-03-11</td>\n",
              "      <td>0</td>\n",
              "    </tr>\n",
              "  </tbody>\n",
              "</table>\n",
              "</div>"
            ],
            "text/plain": [
              "         Date  Deaths_Count\n",
              "45 2020-03-07             0\n",
              "46 2020-03-08             0\n",
              "47 2020-03-09             0\n",
              "48 2020-03-10             0\n",
              "49 2020-03-11             0"
            ]
          },
          "metadata": {
            "tags": []
          },
          "execution_count": 107
        }
      ]
    },
    {
      "cell_type": "markdown",
      "metadata": {
        "id": "MXSjKIvEfdPT"
      },
      "source": [
        "We obtain count of arrests during the lockdown period as below."
      ]
    },
    {
      "cell_type": "code",
      "metadata": {
        "colab": {
          "base_uri": "https://localhost:8080/"
        },
        "id": "qKC8bcQgxhdy",
        "outputId": "2c239599-50db-4067-ae6c-a45e0d86f407"
      },
      "source": [
        "mask_1 = (arrests_count_df['ARREST_DATE'] >= '2020-3-7') & (arrests_count_df['ARREST_DATE'] < '2020-05-15')\n",
        "\n",
        "arrests_count_df_lockdown = arrests_count_df.loc[mask_1]\n",
        "arrests_count_df_lockdown.head()\n",
        "print(len(arrests_count_df_lockdown))"
      ],
      "execution_count": 108,
      "outputs": [
        {
          "output_type": "stream",
          "text": [
            "69\n"
          ],
          "name": "stdout"
        }
      ]
    },
    {
      "cell_type": "markdown",
      "metadata": {
        "id": "xBpv60JjJUIG"
      },
      "source": [
        "**Inference 1** <br>\n",
        "*Relation of #arrests with #confimed cases during stay-at-home order*<br>\n",
        "*Relation of # burglary arrests with #confimed cases during stay-at-home order*\n",
        "<br>\n",
        "<br>\n",
        "We check if arrests during lockdown are correlated with confirmed cases during lockdown. We found a negative correlation between #arrests and #confirmed cases. \n",
        "<br><br><br><br>\n",
        "This implicates that as # of covid cases increased, the arrests numbers decreased. This sounds just. "
      ]
    },
    {
      "cell_type": "code",
      "metadata": {
        "colab": {
          "base_uri": "https://localhost:8080/"
        },
        "id": "ES_4hN-77dfm",
        "outputId": "c32242af-c08c-4508-c780-c50d0fe3eeb0"
      },
      "source": [
        "corr_arrest_cases_lockdown = calculate_pearsons_coefficient(arrests_count_df_lockdown.loc[:,'Counts'].values,ny_confirmed_count_df_lockdown.loc[:,'Confirmed_Count'].values)\n",
        "print(corr_arrest_cases_lockdown)\n",
        "print(\"Correlation\" if (np.abs(corr_arrest_cases_lockdown)>p_value) else \"No Correlation\")"
      ],
      "execution_count": 109,
      "outputs": [
        {
          "output_type": "stream",
          "text": [
            "X mean = 344.84057971014494\n",
            "Y mean = 4972.391304347826\n",
            "numerator = -21907247.695652176\n",
            "denominator = 31456636.806513343\n",
            "-0.6964268885577783\n",
            "Correlation\n"
          ],
          "name": "stdout"
        }
      ]
    },
    {
      "cell_type": "markdown",
      "metadata": {
        "id": "b63BiRt6gaEi"
      },
      "source": [
        "We obtain count of arrests pertaining to burglary during the lockdown period as below."
      ]
    },
    {
      "cell_type": "code",
      "metadata": {
        "colab": {
          "base_uri": "https://localhost:8080/"
        },
        "id": "UtBc7a749Egh",
        "outputId": "fa307ce6-a247-47ea-88d9-5a7edaf3bef2"
      },
      "source": [
        "mask_1 = (arrests_burglary_count_df['ARREST_DATE'] >= '2020-3-7') & (arrests_burglary_count_df['ARREST_DATE'] < '2020-05-15')\n",
        "\n",
        "arrests_burglary_count_df_lockdown = arrests_burglary_count_df.loc[mask_1]\n",
        "arrests_burglary_count_df_lockdown.head()\n",
        "print(len(arrests_burglary_count_df_lockdown))"
      ],
      "execution_count": 110,
      "outputs": [
        {
          "output_type": "stream",
          "text": [
            "69\n"
          ],
          "name": "stdout"
        }
      ]
    },
    {
      "cell_type": "markdown",
      "metadata": {
        "id": "jEF2TRMFJgg0"
      },
      "source": [
        "We check if arrests pertaining to burglary during lockdown are correlated with confirmed cases during lockdown. We found a low negative correlation between #arrests and #confirmed cases. \n",
        "<br><br><br><br>\n",
        "This implicates that as # of covid cases increased, the arrests numbers decreased. This sounds just. But the correlation coefficient is \"<0.5\" and thus we reject the dependence of these two sets."
      ]
    },
    {
      "cell_type": "code",
      "metadata": {
        "colab": {
          "base_uri": "https://localhost:8080/"
        },
        "id": "IJLGMLpe-7bl",
        "outputId": "2c6dc790-4378-425e-a85f-024e6999bd5b"
      },
      "source": [
        "corr_arrest_burg_cases_lockdown = calculate_pearsons_coefficient(arrests_burglary_count_df_lockdown.loc[:,'Counts'].values,ny_confirmed_count_df_lockdown.loc[:,'Confirmed_Count'].values)\n",
        "print(corr_arrest_burg_cases_lockdown)\n",
        "print(\"Correlation\" if (np.abs(corr_arrest_burg_cases_lockdown)>p_value) else \"No Correlation\")"
      ],
      "execution_count": 111,
      "outputs": [
        {
          "output_type": "stream",
          "text": [
            "X mean = 17.434782608695652\n",
            "Y mean = 4972.391304347826\n",
            "numerator = -461700.7391304347\n",
            "denominator = 2293099.951807953\n",
            "-0.2013434864740262\n",
            "No Correlation\n"
          ],
          "name": "stdout"
        }
      ]
    },
    {
      "cell_type": "markdown",
      "metadata": {
        "id": "SH_PttK3hQIv"
      },
      "source": [
        "We obtain count of arrests pertaining to Serious Crimes like Murder, kidnapping, etc. during the lockdown period as below."
      ]
    },
    {
      "cell_type": "code",
      "metadata": {
        "colab": {
          "base_uri": "https://localhost:8080/"
        },
        "id": "JEzZDwTtHQUF",
        "outputId": "cac3e817-6d0e-4d5d-bee0-af6c458044fd"
      },
      "source": [
        "mask_1 = (arrests_serious_crimes_count_df['ARREST_DATE'] >= '2020-3-7') & (arrests_serious_crimes_count_df['ARREST_DATE'] < '2020-05-15')\n",
        "\n",
        "arrests_serious_crimes_count_df_lockdown = arrests_serious_crimes_count_df.loc[mask_1]\n",
        "arrests_serious_crimes_count_df_lockdown.head()\n",
        "print(len(arrests_serious_crimes_count_df_lockdown))"
      ],
      "execution_count": 112,
      "outputs": [
        {
          "output_type": "stream",
          "text": [
            "69\n"
          ],
          "name": "stdout"
        }
      ]
    },
    {
      "cell_type": "markdown",
      "metadata": {
        "id": "PDNzmdP-JrSQ"
      },
      "source": [
        "**Inference 2** <br>\n",
        "*Serious crimes during lockdown vs confirmed cases and deaths during lockdown*\n",
        "<br>\n",
        "<br>\n",
        "We check if arrests pertaining to serious crimes during lockdown are correlated with confirmed cases during lockdown. We found a significant negative correlation between #arrests and #confirmed cases. \n",
        "<br><br><br><br>\n",
        "This implicates that as # of covid cases increased, the arrests numbers for serious crimes decreased. This sounds just. "
      ]
    },
    {
      "cell_type": "code",
      "metadata": {
        "colab": {
          "base_uri": "https://localhost:8080/"
        },
        "id": "KmTSIZ3BHxLM",
        "outputId": "675d83cd-8033-441c-f6aa-74a172305e7d"
      },
      "source": [
        "corr_arrest_serious_crimes_cases_lockdown = calculate_pearsons_coefficient(arrests_serious_crimes_count_df_lockdown.loc[:,'Counts'].values,ny_confirmed_count_df_lockdown.loc[:,'Confirmed_Count'].values)\n",
        "print(\"Correlation\" if (np.abs(corr_arrest_serious_crimes_cases_lockdown)>p_value) else \"No Correlation\")\n",
        "print(corr_arrest_serious_crimes_cases_lockdown)"
      ],
      "execution_count": 113,
      "outputs": [
        {
          "output_type": "stream",
          "text": [
            "X mean = 35.43478260869565\n",
            "Y mean = 4972.391304347826\n",
            "numerator = -1849140.739130435\n",
            "denominator = 2907190.2642081245\n",
            "Correlation\n",
            "-0.6360576952585913\n"
          ],
          "name": "stdout"
        }
      ]
    },
    {
      "cell_type": "markdown",
      "metadata": {
        "id": "U9zMEwkkJygT"
      },
      "source": [
        "Serious crimes during lockdown vs deaths during lockdowns\n",
        "We check if arrests pertaining to serious crimes during lockdown are correlated with death cases during lockdown. We found a fair negative correlation between #arrests and #death cases. \n",
        "<br><br><br><br>\n",
        "This implicates that as # of covid deaths increased, the arrests for serious crimes numbers decreased. This sounds just. But the correlation coefficient is \"<0.5\" and thus we reject the dependence of these two sets."
      ]
    },
    {
      "cell_type": "code",
      "metadata": {
        "colab": {
          "base_uri": "https://localhost:8080/"
        },
        "id": "X0CfDPa4IB7t",
        "outputId": "e3027ae3-0ebc-4046-a985-cb0f16f34aa5"
      },
      "source": [
        "corr_arrest_serious_crimes_deaths_lockdown = calculate_pearsons_coefficient(arrests_serious_crimes_count_df_lockdown.loc[:,'Counts'].values,ny_deaths_count_df_lockdown.loc[:,'Deaths_Count'].values)\n",
        "print(\"Correlation\" if (np.abs(corr_arrest_serious_crimes_deaths_lockdown)>p_value) else \"No Correlation\")\n",
        "print(corr_arrest_serious_crimes_deaths_lockdown)"
      ],
      "execution_count": 114,
      "outputs": [
        {
          "output_type": "stream",
          "text": [
            "X mean = 35.43478260869565\n",
            "Y mean = 400.84057971014494\n",
            "numerator = -134672.21739130438\n",
            "denominator = 304067.00273626903\n",
            "No Correlation\n",
            "-0.44290309760481195\n"
          ],
          "name": "stdout"
        }
      ]
    },
    {
      "cell_type": "markdown",
      "metadata": {
        "id": "1UxmBUCciEOa"
      },
      "source": [
        "Below functions are defined to do 2 population KS test on #death in NY and #arrest in NY. These functions are also used in Question 2.c. in Main.ipynb"
      ]
    },
    {
      "cell_type": "code",
      "metadata": {
        "id": "NVVKEgfNAEGH"
      },
      "source": [
        "def get_ecdf(X):\n",
        "    c = [None] * len(X)\n",
        "    for i in reversed(range(len(X))):\n",
        "        if i < len(X) - 1 and X[i] == X[i + 1]:\n",
        "            c[i] = c[i + 1]\n",
        "        else:\n",
        "            c[i] = (i + 1) / len(X)\n",
        "        \n",
        "    return c"
      ],
      "execution_count": 115,
      "outputs": []
    },
    {
      "cell_type": "markdown",
      "metadata": {
        "id": "dCo2ceh2iTvj"
      },
      "source": [
        "A threshold of 0.05 is chosen as discussed in class."
      ]
    },
    {
      "cell_type": "code",
      "metadata": {
        "id": "0jOIpNyeAJmQ"
      },
      "source": [
        "threshold = 0.05"
      ],
      "execution_count": 116,
      "outputs": []
    },
    {
      "cell_type": "code",
      "metadata": {
        "id": "aUqy5NPD_KYC"
      },
      "source": [
        "def get_ecdf_val_minus(X, eCDF, x):\n",
        "    for i in range(len(X)):\n",
        "        if X[i] >= x:\n",
        "            if i == 0:\n",
        "                return 0\n",
        "            else:\n",
        "                return eCDF[i - 1]\n",
        "    return 1\n",
        "\n",
        "\n",
        "def get_ecdf_val_plus(X, eCDF, x):\n",
        "    for i in range(len(X)):\n",
        "        if X[i] == x:\n",
        "            return eCDF[i]\n",
        "        elif X[i] > x:\n",
        "            if i == 0:\n",
        "                return 0\n",
        "            else:\n",
        "                return eCDF[i - 1]\n",
        "    return 1"
      ],
      "execution_count": 117,
      "outputs": []
    },
    {
      "cell_type": "code",
      "metadata": {
        "id": "otGbFrPk_kiu"
      },
      "source": [
        "def perform_2_pop_KS(X, Y, X_label, Y_label):\n",
        "    print(\"2 population KS test for\", X_label, \"and\", Y_label)\n",
        "\n",
        "    X.sort()\n",
        "    Y.sort()\n",
        "\n",
        "    X_len = len(X)\n",
        "    Y_len = len(Y)\n",
        "    \n",
        "    if X_len > Y_len:\n",
        "        t = Y\n",
        "        Y = X\n",
        "        X = t\n",
        "        X_len = len(X)\n",
        "        Y_len = len(Y)\n",
        "        t = X_label\n",
        "        X_label = Y_label\n",
        "        Y_label = t\n",
        "\n",
        "    print(\"X len\", X_len)\n",
        "    print(\"Y len\", Y_len)\n",
        "    \n",
        "    X_eCDF = get_ecdf(X)\n",
        "    Y_eCDF = get_ecdf(Y)\n",
        "    print(\"X_eCDF len\", len(X_eCDF))\n",
        "    print(\"Y_eCDF len\", len(Y_eCDF))\n",
        "\n",
        "    d = -1\n",
        "    max_diff_idx = 0\n",
        "    max_diff_vals = [None, None]\n",
        "    for i in range(X_len):\n",
        "        x_plus_y_plus_diff = abs(get_ecdf_val_plus(X, X_eCDF, X[i]) - get_ecdf_val_plus(Y, Y_eCDF, X[i]))\n",
        "        x_minus_y_minus_diff = abs(get_ecdf_val_minus(X, X_eCDF, X[i]) - get_ecdf_val_minus(Y, Y_eCDF, X[i]))\n",
        "        if d < x_plus_y_plus_diff:\n",
        "            max_diff_idx = i\n",
        "            max_diff_vals[0] = get_ecdf_val_plus(X, X_eCDF, X[i])\n",
        "            max_diff_vals[1] = get_ecdf_val_plus(Y, Y_eCDF, X[i])\n",
        "            d = x_plus_y_plus_diff\n",
        "        if d < x_minus_y_minus_diff:\n",
        "            max_diff_idx = i\n",
        "            max_diff_vals[0] = get_ecdf_val_minus(X, X_eCDF, X[i])\n",
        "            max_diff_vals[1] = get_ecdf_val_minus(Y, Y_eCDF, X[i])\n",
        "            d = x_minus_y_minus_diff\n",
        "\n",
        "    print(\"KS statistic =\", d)\n",
        "\n",
        "    print(\"Max value at x =\", X[max_diff_idx], \"with values\", max_diff_vals)\n",
        "\n",
        "    if d >= threshold:\n",
        "        print(\"We Reject the Null Hypothesis:\", X_label, \"and\", Y_label, \"does NOT have the same distribution\")\n",
        "    else:\n",
        "        print(\"We Accept the Null Hypothesis:\", X_label, \"and\", Y_label, \"have the same distribution\")\n",
        "        \n",
        "    plt.xlabel(\"x\")\n",
        "    plt.ylabel('eCDF')\n",
        "    \n",
        "    X_len = len(X)\n",
        "    Y_len = len(Y)\n",
        "    \n",
        "    plt.step(X, X_eCDF, label=X_label)\n",
        "    plt.step(Y, Y_eCDF, label=Y_label)\n",
        "    plt.scatter([X[max_diff_idx], X[max_diff_idx]], max_diff_vals, color='red', marker='x', label='max difference')\n",
        "    plt.legend()\n",
        "    plt.show()\n"
      ],
      "execution_count": 118,
      "outputs": []
    },
    {
      "cell_type": "markdown",
      "metadata": {
        "id": "vy7p3B1jijwd"
      },
      "source": [
        "We extract two dataset from arrest data. One dataset contains #of arrests when death was 0 and another contains #of arrests when death was not 0."
      ]
    },
    {
      "cell_type": "code",
      "metadata": {
        "id": "GTS_CQPmAjgj",
        "colab": {
          "base_uri": "https://localhost:8080/",
          "height": 204
        },
        "outputId": "6279c560-6685-4154-f4fb-b8b3845b9613"
      },
      "source": [
        "mask_no_deaths = (ny_deaths_count_df['Deaths_Count'] == 0)\n",
        "\n",
        "ny_no_deaths_count_df = ny_deaths_count_df.loc[mask_no_deaths]\n",
        "ny_no_deaths_count_df.head()"
      ],
      "execution_count": 119,
      "outputs": [
        {
          "output_type": "execute_result",
          "data": {
            "text/html": [
              "<div>\n",
              "<style scoped>\n",
              "    .dataframe tbody tr th:only-of-type {\n",
              "        vertical-align: middle;\n",
              "    }\n",
              "\n",
              "    .dataframe tbody tr th {\n",
              "        vertical-align: top;\n",
              "    }\n",
              "\n",
              "    .dataframe thead th {\n",
              "        text-align: right;\n",
              "    }\n",
              "</style>\n",
              "<table border=\"1\" class=\"dataframe\">\n",
              "  <thead>\n",
              "    <tr style=\"text-align: right;\">\n",
              "      <th></th>\n",
              "      <th>Date</th>\n",
              "      <th>Deaths_Count</th>\n",
              "    </tr>\n",
              "  </thead>\n",
              "  <tbody>\n",
              "    <tr>\n",
              "      <th>0</th>\n",
              "      <td>2020-01-22</td>\n",
              "      <td>0</td>\n",
              "    </tr>\n",
              "    <tr>\n",
              "      <th>1</th>\n",
              "      <td>2020-01-23</td>\n",
              "      <td>0</td>\n",
              "    </tr>\n",
              "    <tr>\n",
              "      <th>2</th>\n",
              "      <td>2020-01-24</td>\n",
              "      <td>0</td>\n",
              "    </tr>\n",
              "    <tr>\n",
              "      <th>3</th>\n",
              "      <td>2020-01-25</td>\n",
              "      <td>0</td>\n",
              "    </tr>\n",
              "    <tr>\n",
              "      <th>4</th>\n",
              "      <td>2020-01-26</td>\n",
              "      <td>0</td>\n",
              "    </tr>\n",
              "  </tbody>\n",
              "</table>\n",
              "</div>"
            ],
            "text/plain": [
              "        Date  Deaths_Count\n",
              "0 2020-01-22             0\n",
              "1 2020-01-23             0\n",
              "2 2020-01-24             0\n",
              "3 2020-01-25             0\n",
              "4 2020-01-26             0"
            ]
          },
          "metadata": {
            "tags": []
          },
          "execution_count": 119
        }
      ]
    },
    {
      "cell_type": "code",
      "metadata": {
        "colab": {
          "base_uri": "https://localhost:8080/",
          "height": 204
        },
        "id": "eHnB1sceZWny",
        "outputId": "31bfbf3e-170f-4ab3-f757-f898c84c411f"
      },
      "source": [
        "mask_yes_deaths = (ny_deaths_count_df['Deaths_Count'] > 0)\n",
        "\n",
        "ny_yes_deaths_count_df = ny_deaths_count_df.loc[mask_yes_deaths]\n",
        "ny_yes_deaths_count_df.head()"
      ],
      "execution_count": 120,
      "outputs": [
        {
          "output_type": "execute_result",
          "data": {
            "text/html": [
              "<div>\n",
              "<style scoped>\n",
              "    .dataframe tbody tr th:only-of-type {\n",
              "        vertical-align: middle;\n",
              "    }\n",
              "\n",
              "    .dataframe tbody tr th {\n",
              "        vertical-align: top;\n",
              "    }\n",
              "\n",
              "    .dataframe thead th {\n",
              "        text-align: right;\n",
              "    }\n",
              "</style>\n",
              "<table border=\"1\" class=\"dataframe\">\n",
              "  <thead>\n",
              "    <tr style=\"text-align: right;\">\n",
              "      <th></th>\n",
              "      <th>Date</th>\n",
              "      <th>Deaths_Count</th>\n",
              "    </tr>\n",
              "  </thead>\n",
              "  <tbody>\n",
              "    <tr>\n",
              "      <th>52</th>\n",
              "      <td>2020-03-14</td>\n",
              "      <td>3</td>\n",
              "    </tr>\n",
              "    <tr>\n",
              "      <th>54</th>\n",
              "      <td>2020-03-16</td>\n",
              "      <td>11</td>\n",
              "    </tr>\n",
              "    <tr>\n",
              "      <th>55</th>\n",
              "      <td>2020-03-17</td>\n",
              "      <td>8</td>\n",
              "    </tr>\n",
              "    <tr>\n",
              "      <th>56</th>\n",
              "      <td>2020-03-18</td>\n",
              "      <td>8</td>\n",
              "    </tr>\n",
              "    <tr>\n",
              "      <th>57</th>\n",
              "      <td>2020-03-19</td>\n",
              "      <td>20</td>\n",
              "    </tr>\n",
              "  </tbody>\n",
              "</table>\n",
              "</div>"
            ],
            "text/plain": [
              "         Date  Deaths_Count\n",
              "52 2020-03-14             3\n",
              "54 2020-03-16            11\n",
              "55 2020-03-17             8\n",
              "56 2020-03-18             8\n",
              "57 2020-03-19            20"
            ]
          },
          "metadata": {
            "tags": []
          },
          "execution_count": 120
        }
      ]
    },
    {
      "cell_type": "code",
      "metadata": {
        "colab": {
          "base_uri": "https://localhost:8080/",
          "height": 204
        },
        "id": "IVYE2MwJZfrT",
        "outputId": "06442010-f7b1-4c61-a3bb-3bf487761fcf"
      },
      "source": [
        "arrests_count_df['Date'] = arrests_count_df['ARREST_DATE']\n",
        "arrest_count_no_death = pd.merge(arrests_count_df, ny_no_deaths_count_df, on=\"Date\", how=\"inner\")\n",
        "arrest_count_no_death.head()"
      ],
      "execution_count": 121,
      "outputs": [
        {
          "output_type": "execute_result",
          "data": {
            "text/html": [
              "<div>\n",
              "<style scoped>\n",
              "    .dataframe tbody tr th:only-of-type {\n",
              "        vertical-align: middle;\n",
              "    }\n",
              "\n",
              "    .dataframe tbody tr th {\n",
              "        vertical-align: top;\n",
              "    }\n",
              "\n",
              "    .dataframe thead th {\n",
              "        text-align: right;\n",
              "    }\n",
              "</style>\n",
              "<table border=\"1\" class=\"dataframe\">\n",
              "  <thead>\n",
              "    <tr style=\"text-align: right;\">\n",
              "      <th></th>\n",
              "      <th>ARREST_DATE</th>\n",
              "      <th>Counts</th>\n",
              "      <th>Date</th>\n",
              "      <th>Deaths_Count</th>\n",
              "    </tr>\n",
              "  </thead>\n",
              "  <tbody>\n",
              "    <tr>\n",
              "      <th>0</th>\n",
              "      <td>2020-01-22</td>\n",
              "      <td>671</td>\n",
              "      <td>2020-01-22</td>\n",
              "      <td>0</td>\n",
              "    </tr>\n",
              "    <tr>\n",
              "      <th>1</th>\n",
              "      <td>2020-01-23</td>\n",
              "      <td>634</td>\n",
              "      <td>2020-01-23</td>\n",
              "      <td>0</td>\n",
              "    </tr>\n",
              "    <tr>\n",
              "      <th>2</th>\n",
              "      <td>2020-01-24</td>\n",
              "      <td>525</td>\n",
              "      <td>2020-01-24</td>\n",
              "      <td>0</td>\n",
              "    </tr>\n",
              "    <tr>\n",
              "      <th>3</th>\n",
              "      <td>2020-01-25</td>\n",
              "      <td>389</td>\n",
              "      <td>2020-01-25</td>\n",
              "      <td>0</td>\n",
              "    </tr>\n",
              "    <tr>\n",
              "      <th>4</th>\n",
              "      <td>2020-01-26</td>\n",
              "      <td>374</td>\n",
              "      <td>2020-01-26</td>\n",
              "      <td>0</td>\n",
              "    </tr>\n",
              "  </tbody>\n",
              "</table>\n",
              "</div>"
            ],
            "text/plain": [
              "  ARREST_DATE  Counts       Date  Deaths_Count\n",
              "0  2020-01-22     671 2020-01-22             0\n",
              "1  2020-01-23     634 2020-01-23             0\n",
              "2  2020-01-24     525 2020-01-24             0\n",
              "3  2020-01-25     389 2020-01-25             0\n",
              "4  2020-01-26     374 2020-01-26             0"
            ]
          },
          "metadata": {
            "tags": []
          },
          "execution_count": 121
        }
      ]
    },
    {
      "cell_type": "code",
      "metadata": {
        "colab": {
          "base_uri": "https://localhost:8080/",
          "height": 204
        },
        "id": "bJAWwvi7aNhB",
        "outputId": "eac220f0-c544-4113-8dd1-597d32e54b97"
      },
      "source": [
        "arrest_count_yes_death = pd.merge(arrests_count_df, ny_yes_deaths_count_df, on=\"Date\", how=\"inner\")\n",
        "arrest_count_yes_death.head()"
      ],
      "execution_count": 122,
      "outputs": [
        {
          "output_type": "execute_result",
          "data": {
            "text/html": [
              "<div>\n",
              "<style scoped>\n",
              "    .dataframe tbody tr th:only-of-type {\n",
              "        vertical-align: middle;\n",
              "    }\n",
              "\n",
              "    .dataframe tbody tr th {\n",
              "        vertical-align: top;\n",
              "    }\n",
              "\n",
              "    .dataframe thead th {\n",
              "        text-align: right;\n",
              "    }\n",
              "</style>\n",
              "<table border=\"1\" class=\"dataframe\">\n",
              "  <thead>\n",
              "    <tr style=\"text-align: right;\">\n",
              "      <th></th>\n",
              "      <th>ARREST_DATE</th>\n",
              "      <th>Counts</th>\n",
              "      <th>Date</th>\n",
              "      <th>Deaths_Count</th>\n",
              "    </tr>\n",
              "  </thead>\n",
              "  <tbody>\n",
              "    <tr>\n",
              "      <th>0</th>\n",
              "      <td>2020-03-14</td>\n",
              "      <td>491</td>\n",
              "      <td>2020-03-14</td>\n",
              "      <td>3</td>\n",
              "    </tr>\n",
              "    <tr>\n",
              "      <th>1</th>\n",
              "      <td>2020-03-16</td>\n",
              "      <td>327</td>\n",
              "      <td>2020-03-16</td>\n",
              "      <td>11</td>\n",
              "    </tr>\n",
              "    <tr>\n",
              "      <th>2</th>\n",
              "      <td>2020-03-17</td>\n",
              "      <td>367</td>\n",
              "      <td>2020-03-17</td>\n",
              "      <td>8</td>\n",
              "    </tr>\n",
              "    <tr>\n",
              "      <th>3</th>\n",
              "      <td>2020-03-18</td>\n",
              "      <td>482</td>\n",
              "      <td>2020-03-18</td>\n",
              "      <td>8</td>\n",
              "    </tr>\n",
              "    <tr>\n",
              "      <th>4</th>\n",
              "      <td>2020-03-19</td>\n",
              "      <td>414</td>\n",
              "      <td>2020-03-19</td>\n",
              "      <td>20</td>\n",
              "    </tr>\n",
              "  </tbody>\n",
              "</table>\n",
              "</div>"
            ],
            "text/plain": [
              "  ARREST_DATE  Counts       Date  Deaths_Count\n",
              "0  2020-03-14     491 2020-03-14             3\n",
              "1  2020-03-16     327 2020-03-16            11\n",
              "2  2020-03-17     367 2020-03-17             8\n",
              "3  2020-03-18     482 2020-03-18             8\n",
              "4  2020-03-19     414 2020-03-19            20"
            ]
          },
          "metadata": {
            "tags": []
          },
          "execution_count": 122
        }
      ]
    },
    {
      "cell_type": "markdown",
      "metadata": {
        "id": "5a_EIVB_lR5L"
      },
      "source": [
        "**Inference 3** <br>\n",
        "*Whether death/no death matter to number of arrests*\n",
        "<br>\n",
        "<br>\n",
        "\n",
        "We perform 2 population KS test to check if the distrbution of number of arrests on zero death day and number arrests on non zero death. The KS test rejects this.\n",
        "<br>\n",
        "This implicates that zero covid deaths or non-zero covid deaths does not effect the #arrests."
      ]
    },
    {
      "cell_type": "code",
      "metadata": {
        "colab": {
          "base_uri": "https://localhost:8080/",
          "height": 449
        },
        "id": "5UDw5xgCaWJx",
        "outputId": "e03bc86e-8581-4450-dae5-1a3fed385296"
      },
      "source": [
        "perform_2_pop_KS(arrest_count_no_death.loc[:,'Counts'].values,\n",
        "                 arrest_count_yes_death.loc[:,'Counts'].values, \n",
        "                 \"Arrest_Count_no_death\", \"Arrest_Count_yes_death\")\n",
        "print(\"\\n\")"
      ],
      "execution_count": 123,
      "outputs": [
        {
          "output_type": "stream",
          "text": [
            "2 population KS test for Arrest_Count_no_death and Arrest_Count_yes_death\n",
            "X len 68\n",
            "Y len 363\n",
            "X_eCDF len 68\n",
            "Y_eCDF len 363\n",
            "KS statistic = 0.454383406255064\n",
            "Max value at x = 387 with values [0.17647058823529413, 0.6308539944903582]\n",
            "We Reject the Null Hypothesis: Arrest_Count_no_death and Arrest_Count_yes_death does NOT have the same distribution\n"
          ],
          "name": "stdout"
        },
        {
          "output_type": "display_data",
          "data": {
            "image/png": "[encoded data removed]",
            "text/plain": [
              "<Figure size 432x288 with 1 Axes>"
            ]
          },
          "metadata": {
            "tags": [],
            "needs_background": "light"
          }
        },
        {
          "output_type": "stream",
          "text": [
            "\n",
            "\n"
          ],
          "name": "stdout"
        }
      ]
    },
    {
      "cell_type": "markdown",
      "metadata": {
        "id": "Pe-CC-gEmo-a"
      },
      "source": [
        "\n",
        "The End\n",
        "---\n",
        "\n",
        "\n",
        "\n",
        "---\n",
        "\n",
        "\n",
        "\n",
        "---\n",
        "\n",
        "\n",
        "\n",
        "---\n",
        "\n"
      ]
    },
    {
      "cell_type": "code",
      "metadata": {
        "id": "iuFPMCRmajj5"
      },
      "source": [
        ""
      ],
      "execution_count": null,
      "outputs": []
    }
  ]
}