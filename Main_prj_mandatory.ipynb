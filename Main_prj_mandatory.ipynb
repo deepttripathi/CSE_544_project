{
  "nbformat": 4,
  "nbformat_minor": 5,
  "metadata": {
    "colab": {
      "name": "Main.ipynb",
      "provenance": [],
      "collapsed_sections": []
    },
    "kernelspec": {
      "display_name": "Python 3",
      "language": "python",
      "name": "python3"
    },
    "language_info": {
      "codemirror_mode": {
        "name": "ipython",
        "version": 3
      },
      "file_extension": ".py",
      "mimetype": "text/x-python",
      "name": "python",
      "nbconvert_exporter": "python",
      "pygments_lexer": "ipython3",
      "version": "3.9.2"
    }
  },
  "cells": [
    {
      "cell_type": "markdown",
      "metadata": {
        "id": "aOoMoS2jWwDO"
      },
      "source": [
        "**Mandatory tasks to be performed on assigned COVID19 **\n",
        " \n",
        "**1. Cleaning the dataset**\n",
        "<br>\n",
        "We are cleaning the dataset as per following:\n",
        "*  Calculating the daily values (considering the values are cumulative).\n",
        "*  Removing the negative values obtained (as a negative value in this dataset won't make sense).\n",
        "*  Applying Tukey's rule to figure out the outliers in all four columns (SC confirmed, SD confirmed, SC deaths, SD deaths)\n",
        "*  Removing the obtained outliers from the data"
      ],
      "id": "aOoMoS2jWwDO"
    },
    {
      "cell_type": "code",
      "metadata": {
        "id": "b0138554"
      },
      "source": [
        "import pandas as pd\n",
        "import numpy as np\n",
        "import math\n",
        "import matplotlib.pyplot as plt"
      ],
      "id": "b0138554",
      "execution_count": 1,
      "outputs": []
    },
    {
      "cell_type": "code",
      "metadata": {
        "id": "775f34ca"
      },
      "source": [
        "# from google.colab import drive\n",
        "# drive.mount('/content/gdrive')"
      ],
      "id": "775f34ca",
      "execution_count": 2,
      "outputs": []
    },
    {
      "cell_type": "markdown",
      "metadata": {
        "id": "sdPTkV82eFyU"
      },
      "source": [
        "Loading the 21.csv dataset"
      ],
      "id": "sdPTkV82eFyU"
    },
    {
      "cell_type": "code",
      "metadata": {
        "id": "vVpkPKBH_fmU"
      },
      "source": [
        "# %cd '/content/gdrive/MyDrive/probstats_project/'\n",
        "data_cumulative = pd.read_csv('21.csv')\n",
        "data_cumulative[\"Date\"] = pd.to_datetime(data_cumulative[\"Date\"])"
      ],
      "id": "vVpkPKBH_fmU",
      "execution_count": 3,
      "outputs": []
    },
    {
      "cell_type": "markdown",
      "metadata": {
        "id": "GobpQAGXeJwe"
      },
      "source": [
        "Here, we first parse the data to calculate the daily number from the cumulative one and create 4 dataframes, one for each in (SC confirmed, SD confirmed, SC deaths, SD deaths).\n",
        "Then we check in all the four datasets whether there are any negative values in the dataset, if present, we remove them (as negative values don't make sense in this dataset)."
      ],
      "id": "GobpQAGXeJwe"
    },
    {
      "cell_type": "code",
      "metadata": {
        "colab": {
          "base_uri": "https://localhost:8080/"
        },
        "id": "f60a74d3",
        "outputId": "1ec04c7c-97f5-4521-cce7-30044409699f"
      },
      "source": [
        "# create day wise data\n",
        "data = data_cumulative.copy()\n",
        "idx_to_be_deleted_1 = set()\n",
        "idx_to_be_deleted_2 = set()\n",
        "idx_to_be_deleted_3 = set()\n",
        "idx_to_be_deleted_4 = set()\n",
        "for i in range(1, len(data_cumulative)):\n",
        "    data.loc[i, 'SC confirmed'] = data_cumulative.loc[i, 'SC confirmed'] - data_cumulative.loc[i - 1, 'SC confirmed']\n",
        "    if data.loc[i, 'SC confirmed'] < 0:\n",
        "        idx_to_be_deleted_1.add(i)\n",
        "    data.loc[i, 'SD confirmed'] = data_cumulative.loc[i, 'SD confirmed'] - data_cumulative.loc[i - 1, 'SD confirmed']\n",
        "    if data.loc[i, 'SD confirmed'] < 0:\n",
        "        idx_to_be_deleted_2.add(i)\n",
        "    data.loc[i, 'SC deaths'] = data_cumulative.loc[i, 'SC deaths'] - data_cumulative.loc[i - 1, 'SC deaths']\n",
        "    if data.loc[i, 'SC deaths'] < 0:\n",
        "        idx_to_be_deleted_3.add(i)\n",
        "    data.loc[i, 'SD deaths'] = data_cumulative.loc[i, 'SD deaths'] - data_cumulative.loc[i - 1, 'SD deaths']\n",
        "    if data.loc[i, 'SD deaths'] < 0:\n",
        "        idx_to_be_deleted_4.add(i)\n",
        "\n",
        "sc_conf_per_day = data.copy()\n",
        "sd_conf_per_day = data.copy()\n",
        "sc_death_per_day = data.copy()\n",
        "sd_death_per_day = data.copy()\n",
        "\n",
        "print(\"Negative values for SC confirmed at index\", idx_to_be_deleted_4)\n",
        "sc_conf_per_day.drop(list(idx_to_be_deleted_1), 0, inplace=True)\n",
        "print(\"Negative values for SD confirmed at index\", idx_to_be_deleted_4)\n",
        "sd_conf_per_day.drop(list(idx_to_be_deleted_2), 0, inplace=True)\n",
        "print(\"Negative values for SC deaths at index\", idx_to_be_deleted_4)\n",
        "sc_death_per_day.drop(list(idx_to_be_deleted_3), 0, inplace=True)\n",
        "print(\"Negative values for SD deaths at index\", idx_to_be_deleted_4)\n",
        "sd_death_per_day.drop(list(idx_to_be_deleted_4), 0, inplace=True)\n",
        "\n",
        "sc_conf_per_day = sc_conf_per_day.loc[:, ['Date', 'SC confirmed']]\n",
        "sd_conf_per_day = sd_conf_per_day.loc[:, ['Date', 'SD confirmed']]\n",
        "sc_death_per_day = sc_death_per_day.loc[:, ['Date', 'SC deaths']]\n",
        "sd_death_per_day = sd_death_per_day.loc[:, ['Date', 'SD deaths']]"
      ],
      "id": "f60a74d3",
      "execution_count": 4,
      "outputs": [
        {
          "output_type": "stream",
          "text": [
            "Negative values for SC confirmed at index {376}\n",
            "Negative values for SD confirmed at index {376}\n",
            "Negative values for SC deaths at index {376}\n",
            "Negative values for SD deaths at index {376}\n"
          ],
          "name": "stdout"
        }
      ]
    },
    {
      "cell_type": "code",
      "metadata": {
        "id": "40f79050"
      },
      "source": [
        "idx_to_be_deleted_1.clear()\n",
        "idx_to_be_deleted_2.clear()\n",
        "idx_to_be_deleted_3.clear()\n",
        "idx_to_be_deleted_4.clear()"
      ],
      "id": "40f79050",
      "execution_count": 5,
      "outputs": []
    },
    {
      "cell_type": "markdown",
      "metadata": {
        "id": "Yqk3G2OBfMkW"
      },
      "source": [
        "This method caluclates the lower and upper value for the outlier detection using Tukey's rule with alpha = 1.5."
      ],
      "id": "Yqk3G2OBfMkW"
    },
    {
      "cell_type": "code",
      "metadata": {
        "id": "59297ad0"
      },
      "source": [
        "def get_outlier_range(data):\n",
        "    n = len(data)\n",
        "    print(\"min =\", data[0], \"max =\", data[n - 1])\n",
        "    alpha = 1.5\n",
        "    \n",
        "    data.sort()\n",
        "    q1 = math.ceil(0.25 * n) # 1st quartile (25%)\n",
        "    print(\"Q1 at\", q1, \"value =\", data[q1 - 1])\n",
        "    q3 = math.ceil(0.75 * n) # 3rd quartile (75%)\n",
        "    print(\"Q3 at\", q3, \"value =\", data[q3 - 1])\n",
        "    \n",
        "    iqr = data[q3 - 1] - data[q1 - 1] # Inter quartile range\n",
        "    print(\"IQR =\", iqr)\n",
        "    \n",
        "    tmp = iqr * alpha\n",
        "    \n",
        "    s = data[q1 - 1] - tmp\n",
        "    l = data[q3 - 1] + tmp\n",
        "    print(\"Range: [\", s, \",\", l, \"]\")\n",
        "    \n",
        "    return s, l"
      ],
      "id": "59297ad0",
      "execution_count": 6,
      "outputs": []
    },
    {
      "cell_type": "markdown",
      "metadata": {
        "id": "s7s0pqwffa9O"
      },
      "source": [
        "This method gives the indexes considered to be outliers"
      ],
      "id": "s7s0pqwffa9O"
    },
    {
      "cell_type": "code",
      "metadata": {
        "id": "5b557406"
      },
      "source": [
        "def get_outlier_rows(data, idx_to_be_deleted):\n",
        "    s, l = get_outlier_range(data.copy())\n",
        "    for i in range(len(data)):\n",
        "        if (data[i] < s or data[i] > l) and data[i] != 0:\n",
        "            idx_to_be_deleted.add(i)\n"
      ],
      "id": "5b557406",
      "execution_count": 7,
      "outputs": []
    },
    {
      "cell_type": "code",
      "metadata": {
        "colab": {
          "base_uri": "https://localhost:8080/"
        },
        "id": "c02cb611",
        "outputId": "ff276392-eb49-4614-ea46-4df6043d4ea2"
      },
      "source": [
        "print(\"\\nApplying Tukey's for SC confirmed\")\n",
        "get_outlier_rows(sc_conf_per_day.loc[:, \"SC confirmed\"].values, idx_to_be_deleted_1)\n",
        "print(\"No. of outliers in SC confirmed\", len(idx_to_be_deleted_1))\n",
        "print(\"\\nApplying Tukey's for SD confirmed\")\n",
        "get_outlier_rows(sd_conf_per_day.loc[:, \"SD confirmed\"].values, idx_to_be_deleted_2)\n",
        "print(\"No. of outliers in SD confirmed\", len(idx_to_be_deleted_2))\n",
        "print(\"\\nApplying Tukey's for SC deaths\")\n",
        "get_outlier_rows(sc_death_per_day.loc[:, \"SC deaths\"].values, idx_to_be_deleted_3)\n",
        "print(\"No. of outliers in SC deaths\", len(idx_to_be_deleted_3))\n",
        "print(\"\\nApplying Tukey's for SD deaths\")\n",
        "get_outlier_rows(sd_death_per_day.loc[:, \"SD deaths\"].values, idx_to_be_deleted_4)\n",
        "print(\"No. of outliers in SD deaths\", len(idx_to_be_deleted_4))\n",
        "print(\"\\n\")"
      ],
      "id": "c02cb611",
      "execution_count": 8,
      "outputs": [
        {
          "output_type": "stream",
          "text": [
            "\n",
            "Applying Tukey's for SC confirmed\n",
            "min = 0 max = 1241\n",
            "Q1 at 110 value = 158\n",
            "Q3 at 329 value = 1703\n",
            "IQR = 1545\n",
            "Range: [ -2159.5 , 4020.5 ]\n",
            "No. of outliers in SC confirmed 27\n",
            "\n",
            "Applying Tukey's for SD confirmed\n",
            "min = 0 max = 182\n",
            "Q1 at 109 value = 35\n",
            "Q3 at 327 value = 321\n",
            "IQR = 286\n",
            "Range: [ -394.0 , 750.0 ]\n",
            "No. of outliers in SD confirmed 52\n",
            "\n",
            "Applying Tukey's for SC deaths\n",
            "min = 0 max = 16\n",
            "Q1 at 110 value = 3\n",
            "Q3 at 329 value = 30\n",
            "IQR = 27\n",
            "Range: [ -37.5 , 70.5 ]\n",
            "No. of outliers in SC deaths 22\n",
            "\n",
            "Applying Tukey's for SD deaths\n",
            "min = 0 max = 0\n",
            "Q1 at 110 value = 0\n",
            "Q3 at 328 value = 4\n",
            "IQR = 4\n",
            "Range: [ -6.0 , 10.0 ]\n",
            "No. of outliers in SD deaths 57\n",
            "\n",
            "\n"
          ],
          "name": "stdout"
        }
      ]
    },
    {
      "cell_type": "markdown",
      "metadata": {
        "id": "YQ25iLmGgh_V"
      },
      "source": [
        "Here we now create 4 new dataframes to store the outlier removed data.\n",
        "We do this because we may need to use the non outlier removed data in some cases in the following question."
      ],
      "id": "YQ25iLmGgh_V"
    },
    {
      "cell_type": "code",
      "metadata": {
        "id": "TYV5JEveQfUf"
      },
      "source": [
        "sc_conf_per_day_tukey = sc_conf_per_day.copy()\n",
        "sd_conf_per_day_tukey = sd_conf_per_day.copy()\n",
        "sc_death_per_day_tukey = sc_death_per_day.copy()\n",
        "sd_death_per_day_tukey = sd_death_per_day.copy()"
      ],
      "id": "TYV5JEveQfUf",
      "execution_count": 9,
      "outputs": []
    },
    {
      "cell_type": "code",
      "metadata": {
        "id": "14465be1"
      },
      "source": [
        "sc_conf_per_day_tukey.drop(list(idx_to_be_deleted_1), 0, inplace=True)\n",
        "sd_conf_per_day_tukey.drop(list(idx_to_be_deleted_2), 0, inplace=True)\n",
        "sc_death_per_day_tukey.drop(list(idx_to_be_deleted_3), 0, inplace=True)\n",
        "sd_death_per_day_tukey.drop(list(idx_to_be_deleted_4), 0, inplace=True)"
      ],
      "id": "14465be1",
      "execution_count": 10,
      "outputs": []
    },
    {
      "cell_type": "markdown",
      "metadata": {
        "id": "et319uIvlqdi"
      },
      "source": [
        "**2. Solution of required inferences for the COVID19 dataset**\n",
        "\n",
        "**a. Prediction of the COVID19 fatality and #cases for the fourth week in August 2020 using:**<br>\n",
        "(i) AR(3), (ii) AR(5), (iii) EWMA with alpha = 0.5, and (iv) EWMA with alpha = 0.8."
      ],
      "id": "et319uIvlqdi"
    },
    {
      "cell_type": "markdown",
      "metadata": {
        "id": "g_1m0bigXzTP"
      },
      "source": [
        "A plotting function is created to plot predictions and actual data for the last week"
      ],
      "id": "g_1m0bigXzTP"
    },
    {
      "cell_type": "code",
      "metadata": {
        "id": "fXZo7I7Tlumz"
      },
      "source": [
        "def plotpred(x, act, prd,data):\n",
        "    plt.plot(x,act,label=\"Actual\")\n",
        "    plt.plot(x,prd,label=\"Predictions\")\n",
        "    plt.xlabel('Day')\n",
        "    plt.ylabel(data)\n",
        "    plt.legend(loc='upper left')\n",
        "    plt.show()"
      ],
      "id": "fXZo7I7Tlumz",
      "execution_count": 11,
      "outputs": []
    },
    {
      "cell_type": "markdown",
      "metadata": {
        "id": "pURG9qqGX8rT"
      },
      "source": [
        "We obtain outlier free data for August. The code is dynamic in a way that if any data is removed being an outlier, it won't be used in training and testing. We had observed that only a few data from training(2020-08-01 to 2020-08-21) has been removed and none of the test data(2020-08-22 to 2020-08-28) are outlier. We have used np.searchsorted to find the location of the data in our outlier free dataset. If it is not found, its expected location is returned."
      ],
      "id": "pURG9qqGX8rT"
    },
    {
      "cell_type": "code",
      "metadata": {
        "id": "nPX4KJcq9V14"
      },
      "source": [
        "sc_conf_per_day_np = np.array(sc_conf_per_day_tukey)\n",
        "sd_conf_per_day_np = np.array(sd_conf_per_day_tukey)\n",
        "sc_death_per_day_np = np.array(sc_death_per_day_tukey)\n",
        "sd_death_per_day_np = np.array(sd_death_per_day_tukey)"
      ],
      "id": "nPX4KJcq9V14",
      "execution_count": 12,
      "outputs": []
    },
    {
      "cell_type": "markdown",
      "metadata": {
        "id": "MCjz8SAEYoU_"
      },
      "source": [
        "Data set is prepared using below two functions. These give us the training and testing data for performing AR(3) predictions."
      ],
      "id": "MCjz8SAEYoU_"
    },
    {
      "cell_type": "code",
      "metadata": {
        "id": "055x-SFBl1iI"
      },
      "source": [
        "def prepare_train_3(X_W,col=1):\n",
        "  z1 = np.array(pd.to_datetime('2020-08-01'))\n",
        "  z2 = np.array(pd.to_datetime('2020-08-19'))\n",
        "  l2  = np.searchsorted(X_W[:,0], z1 , side='left')\n",
        "  l1 = np.searchsorted(X_W[:,0], z2 , side='left')\n",
        "  AR3_train_X = np.empty((l1-l2,3))\n",
        "  AR3_train_Y = np.empty(l1-l2)\n",
        "  for i in range(l2,l1):\n",
        "    AR3_train_X[i-l2][0] = int(X_W[i][col])\n",
        "    AR3_train_X[i-l2][1] = int(X_W[i+1][col])\n",
        "    AR3_train_X[i-l2][2] = int(X_W[i+2][col])\n",
        "    AR3_train_Y[i-l2] = int(X_W[i+3][col])\n",
        "  return AR3_train_X,AR3_train_Y\n",
        "def prepare_test_3(X_W,col=1):\n",
        "  z1 = np.array(pd.to_datetime('2020-08-19'))\n",
        "  z2 = np.array(pd.to_datetime('2020-08-26'))\n",
        "  l2  = np.searchsorted(X_W[:,0], z1 , side='left')\n",
        "  l1 = np.searchsorted(X_W[:,0], z2 , side='left')\n",
        "  AR3_test_X = np.empty((l1-l2,3))\n",
        "  AR3_test_Y = np.empty(l1-l2)\n",
        "  for i in range(l2,l1):\n",
        "    AR3_test_X[i-l2][0] = int(X_W[i][col])\n",
        "    AR3_test_X[i-l2][1] = int(X_W[i+1][col])\n",
        "    AR3_test_X[i-l2][2] = int(X_W[i+2][col])\n",
        "    AR3_test_Y[i-l2] = int(X_W[i+3][col])\n",
        "  return AR3_test_X,AR3_test_Y"
      ],
      "id": "055x-SFBl1iI",
      "execution_count": 13,
      "outputs": []
    },
    {
      "cell_type": "markdown",
      "metadata": {
        "id": "C4uz1vu5Y4Z3"
      },
      "source": [
        "AR(3) is a multiple linear regression problem on 3 features. These features are the actual data for previous 3 days. As discussed in class, we predict for a given date and for the next day, we train again appending the given date data into the training set. The function below prints the prediction and actual data, plot of the prediction and actual data and returns MAPE and MSE.<br>\n",
        "For MAPE we have ignored the case where Ytest is 0."
      ],
      "id": "C4uz1vu5Y4Z3"
    },
    {
      "cell_type": "code",
      "metadata": {
        "id": "9SVlQEJwl2od"
      },
      "source": [
        "def perform_multiple_linear_regression_AR3(X_train, Y_train, X_test, Y_test,data):\n",
        "    Y_test_preds = []\n",
        "    bias_add = np.full((X_train.shape[0], 1), 1)\n",
        "    X_train = np.concatenate(( X_train,bias_add), axis=1)\n",
        "    bias_add = np.full((X_test.shape[0], 1), 1)\n",
        "    X_test = np.concatenate(( X_test,bias_add), axis=1)\n",
        "    for i in range(len(Y_test)):\n",
        "      X_train_t = np.transpose(X_train)\n",
        "      B_ols = np.linalg.inv(X_train_t @ X_train) @ X_train_t @ Y_train\n",
        "      append_data = [[X_train[len(X_train)-1][1], X_train[len(X_train)-1][2], X_test[i][2],1]]\n",
        "      append_data = np.array(append_data)\n",
        "      Y_test_preds.append(B_ols@X_test[i])\n",
        "      X_train = np.concatenate((X_train,append_data))\n",
        "      Y_train = np.insert(Y_train, len(Y_train), Y_test[i])\n",
        "    Y_test_preds = np.array(Y_test_preds)\n",
        "    print(\"Prediction for the last week:\")\n",
        "    for i in range(len(Y_test_preds)):\n",
        "      print(\"Day:\",i+1,\"Predicted:\",Y_test_preds[i],\"Actual:\",Y_test[i])\n",
        "    plotpred([1,2,3,4,5,6,7],Y_test,Y_test_preds,data)\n",
        "    Errs = Y_test_preds - Y_test\n",
        "    se = (Errs)**2\n",
        "    MAPE = 0\n",
        "    nonzeros = 0\n",
        "    for i in range(len(Y_test)):\n",
        "      if Y_test[i] != 0:\n",
        "        nonzeros = nonzeros+1\n",
        "        MAPE += (np.abs(Errs[i])/Y_test[i])\n",
        "    MAPE = (MAPE/nonzeros)*100\n",
        "    return B_ols, np.mean(se), np.mean(MAPE)"
      ],
      "id": "9SVlQEJwl2od",
      "execution_count": 14,
      "outputs": []
    },
    {
      "cell_type": "markdown",
      "metadata": {
        "id": "2Zg8IuukZjWD"
      },
      "source": [
        "Below code performs AR(3) predictions of fatality and #cases on outlier free datasets of two states SC and SD."
      ],
      "id": "2Zg8IuukZjWD"
    },
    {
      "cell_type": "code",
      "metadata": {
        "colab": {
          "base_uri": "https://localhost:8080/",
          "height": 1000
        },
        "id": "wGor-pOdl7Gh",
        "outputId": "b37fa695-f1e2-46f7-dda7-e99349e33df0"
      },
      "source": [
        "print(\"AR3\")\n",
        "print(\"================\\n\")\n",
        "print(\"\\nSC_Confirmed\")\n",
        "print(\"================\")\n",
        "SC_Confirmed_train_X,SC_Confirmed_train_Y = prepare_train_3(sc_conf_per_day_np)\n",
        "SC_Confirmed_test_X, SC_Confirmed_test_Y = prepare_test_3(sc_conf_per_day_np)\n",
        "dd, mse, mape = perform_multiple_linear_regression_AR3(SC_Confirmed_train_X,SC_Confirmed_train_Y,SC_Confirmed_test_X,SC_Confirmed_test_Y,\"SC_Confirmed\")\n",
        "print(\"MSE: \", mse)\n",
        "print(\"MAPE: \", mape)\n",
        "\n",
        "print(\"\\nSD_Confirmed\")\n",
        "print(\"================\")\n",
        "SD_Confirmed_train_X,SD_Confirmed_train_Y = prepare_train_3(sd_conf_per_day_np)\n",
        "SD_Confirmed_test_X, SD_Confirmed_test_Y = prepare_test_3(sd_conf_per_day_np)\n",
        "dd, mse,mape = perform_multiple_linear_regression_AR3(SD_Confirmed_train_X,SD_Confirmed_train_Y,SD_Confirmed_test_X,SD_Confirmed_test_Y,\"SD_Confirmed\")\n",
        "print(\"MSE: \", mse)\n",
        "print(\"MAPE: \", mape)\n",
        "\n",
        "print(\"\\nSC_Death\")\n",
        "print(\"================\")\n",
        "SC_death_train_X,SC_death_train_Y = prepare_train_3(sc_death_per_day_np)\n",
        "SC_death_test_X, SC_death_test_Y = prepare_test_3(sc_death_per_day_np)\n",
        "dd, mse,mape = perform_multiple_linear_regression_AR3(SC_death_train_X,SC_death_train_Y,SC_death_test_X,SC_death_test_Y,\"SC_Death\")\n",
        "print(\"MSE: \", mse)\n",
        "print(\"MAPE: \", mape)\n",
        "\n",
        "print(\"\\nSD_Death\")\n",
        "print(\"================\")\n",
        "SD_death_train_X,SD_death_train_Y = prepare_train_3(sd_death_per_day_np)\n",
        "SD_death_test_X, SD_death_test_Y = prepare_test_3(sd_death_per_day_np)\n",
        "dd, mse,mape = perform_multiple_linear_regression_AR3(SD_death_train_X,SD_death_train_Y,SD_death_test_X,SD_death_test_Y,\"SD_Death\")\n",
        "print(\"MSE: \", mse)\n",
        "print(\"MAPE: \", mape)"
      ],
      "id": "wGor-pOdl7Gh",
      "execution_count": 15,
      "outputs": [
        {
          "output_type": "stream",
          "text": [
            "AR3\n",
            "================\n",
            "\n",
            "\n",
            "SC_Confirmed\n",
            "================\n",
            "Prediction for the last week:\n",
            "Day: 1 Predicted: 805.0757397163095 Actual: 917.0\n",
            "Day: 2 Predicted: 928.9400582979968 Actual: 693.0\n",
            "Day: 3 Predicted: 997.9100270472802 Actual: 563.0\n",
            "Day: 4 Predicted: 867.6472168594476 Actual: 937.0\n",
            "Day: 5 Predicted: 733.5176399402033 Actual: 605.0\n",
            "Day: 6 Predicted: 694.737113009947 Actual: 505.0\n",
            "Day: 7 Predicted: 853.3546487026254 Actual: 1353.0\n"
          ],
          "name": "stdout"
        },
        {
          "output_type": "display_data",
          "data": {
            "image/png": "[encoded data removed]",
            "text/plain": [
              "<Figure size 432x288 with 1 Axes>"
            ]
          },
          "metadata": {
            "tags": [],
            "needs_background": "light"
          }
        },
        {
          "output_type": "stream",
          "text": [
            "MSE:  80616.2463153637\n",
            "MAPE:  32.37784420131962\n",
            "\n",
            "SD_Confirmed\n",
            "================\n",
            "Prediction for the last week:\n",
            "Day: 1 Predicted: 127.80854425620224 Actual: 251.0\n",
            "Day: 2 Predicted: 246.62368348361002 Actual: 141.0\n",
            "Day: 3 Predicted: 133.32340291959872 Actual: 149.0\n",
            "Day: 4 Predicted: 130.204739511291 Actual: 80.0\n",
            "Day: 5 Predicted: 99.0277981743755 Actual: 66.0\n",
            "Day: 6 Predicted: 74.58323283893556 Actual: 623.0\n",
            "Day: 7 Predicted: 149.6420343394985 Actual: 323.0\n"
          ],
          "name": "stdout"
        },
        {
          "output_type": "display_data",
          "data": {
            "image/png": "[encoded data removed]",
            "text/plain": [
              "<Figure size 432x288 with 1 Axes>"
            ]
          },
          "metadata": {
            "tags": [],
            "needs_background": "light"
          }
        },
        {
          "output_type": "stream",
          "text": [
            "MSE:  51571.93415141825\n",
            "MAPE:  55.57278490572245\n",
            "\n",
            "SC_Death\n",
            "================\n",
            "Prediction for the last week:\n",
            "Day: 1 Predicted: 21.94285538355135 Actual: 34.0\n",
            "Day: 2 Predicted: 31.391305853409772 Actual: 11.0\n",
            "Day: 3 Predicted: 43.69323994198038 Actual: 7.0\n",
            "Day: 4 Predicted: 39.13179109627689 Actual: 18.0\n",
            "Day: 5 Predicted: 29.72899846198899 Actual: 44.0\n",
            "Day: 6 Predicted: 28.902358791379235 Actual: 55.0\n",
            "Day: 7 Predicted: 25.258592884782953 Actual: 27.0\n"
          ],
          "name": "stdout"
        },
        {
          "output_type": "display_data",
          "data": {
            "image/png": "[encoded data removed]",
            "text/plain": [
              "<Figure size 432x288 with 1 Axes>"
            ]
          },
          "metadata": {
            "tags": [],
            "needs_background": "light"
          }
        },
        {
          "output_type": "stream",
          "text": [
            "MSE:  463.1296290540619\n",
            "MAPE:  135.53709805550048\n",
            "\n",
            "SD_Death\n",
            "================\n",
            "Prediction for the last week:\n",
            "Day: 1 Predicted: 1.7562525742166457 Actual: 0.0\n",
            "Day: 2 Predicted: 0.43176225521053924 Actual: 2.0\n",
            "Day: 3 Predicted: 1.2172685157275298 Actual: 0.0\n",
            "Day: 4 Predicted: 1.824906907402064 Actual: 0.0\n",
            "Day: 5 Predicted: 0.5840518043443199 Actual: 1.0\n",
            "Day: 6 Predicted: 1.6536187074115214 Actual: 0.0\n",
            "Day: 7 Predicted: 1.2083941827917735 Actual: 3.0\n"
          ],
          "name": "stdout"
        },
        {
          "output_type": "display_data",
          "data": {
            "image/png": "[encoded data removed]",
            "text/plain": [
              "<Figure size 432x288 with 1 Axes>"
            ]
          },
          "metadata": {
            "tags": [],
            "needs_background": "light"
          }
        },
        {
          "output_type": "stream",
          "text": [
            "MSE:  2.3533056748450174\n",
            "MAPE:  59.90896690399398\n"
          ],
          "name": "stdout"
        }
      ]
    },
    {
      "cell_type": "markdown",
      "metadata": {
        "id": "sRDxyIgZbFfp"
      },
      "source": [
        "We obtain outlier free data for August. The code is dynamic in a way that if any data is removed being an outlier, it won't be used in training and testing. We had observed that only a few data from training(2020-08-01 to 2020-08-21) has been removed and none of the test data(2020-08-22 to 2020-08-28) are outlier. We have used np.searchsorted to find the location of the data in our outlier free dataset. If it is not found, its expected location is returned."
      ],
      "id": "sRDxyIgZbFfp"
    },
    {
      "cell_type": "code",
      "metadata": {
        "id": "yDidoTz9l8yq"
      },
      "source": [
        "def prepare_train_5(X_W,col=1):\n",
        "  z1 = np.array(pd.to_datetime('2020-08-01'))\n",
        "  z2 = np.array(pd.to_datetime('2020-08-17'))\n",
        "  l2  = np.searchsorted(X_W[:,0], z1 , side='left')\n",
        "  l1 = np.searchsorted(X_W[:,0], z2 , side='left')\n",
        "  AR5_train_X = np.empty((l1-l2,5))\n",
        "  AR5_train_Y = np.empty(l1-l2)\n",
        "  for i in range(l2,l1):\n",
        "    AR5_train_X[i-l2][0] = int(X_W[i][col])\n",
        "    AR5_train_X[i-l2][1] = int(X_W[i+1][col])\n",
        "    AR5_train_X[i-l2][2] = int(X_W[i+2][col])\n",
        "    AR5_train_X[i-l2][3] = int(X_W[i+3][col])\n",
        "    AR5_train_X[i-l2][4] = int(X_W[i+4][col])\n",
        "    AR5_train_Y[i-l2] = int(X_W[i+5][col])\n",
        "  return AR5_train_X,AR5_train_Y\n",
        "def prepare_test_5(X_W,col=1):\n",
        "  z1 = np.array(pd.to_datetime('2020-08-17'))\n",
        "  z2 = np.array(pd.to_datetime('2020-08-24'))\n",
        "  l2  = np.searchsorted(X_W[:,0], z1 , side='left')\n",
        "  l1 = np.searchsorted(X_W[:,0], z2 , side='left')\n",
        "  AR5_test_X = np.empty((l1-l2,5))\n",
        "  AR5_test_Y = np.empty(l1-l2)\n",
        "  for i in range(l2,l1):\n",
        "    AR5_test_X[i-l2][0] = int(X_W[i][col])\n",
        "    AR5_test_X[i-l2][1] = int(X_W[i+1][col])\n",
        "    AR5_test_X[i-l2][2] = int(X_W[i+2][col])\n",
        "    AR5_test_X[i-l2][3] = int(X_W[i+3][col])\n",
        "    AR5_test_X[i-l2][4] = int(X_W[i+4][col])\n",
        "    AR5_test_Y[i-l2] = int(X_W[i+5][col])\n",
        "  return AR5_test_X,AR5_test_Y"
      ],
      "id": "yDidoTz9l8yq",
      "execution_count": 16,
      "outputs": []
    },
    {
      "cell_type": "markdown",
      "metadata": {
        "id": "9ZgWFDwwaHms"
      },
      "source": [
        "AR(5) is a multiple linear regression problem on 5 features. These features are the actual data for previous 5 days. As discussed in class, we predict for a given date and for the next day, we train again appending the given date data into the training set. The function below prints the prediction and actual data, plot of the prediction and actual data and returns MAPE and MSE.\n",
        "<br>\n",
        "For MAPE we have ignored the case where Ytest is 0."
      ],
      "id": "9ZgWFDwwaHms"
    },
    {
      "cell_type": "code",
      "metadata": {
        "id": "VBRuhUGDmAsx"
      },
      "source": [
        "def perform_multiple_linear_regression_AR5(X_train, Y_train, X_test, Y_test,data):\n",
        "    Y_test_preds = []\n",
        "    bias_add = np.full((X_train.shape[0], 1), 1)\n",
        "    X_train = np.concatenate(( X_train,bias_add), axis=1)\n",
        "    bias_add = np.full((X_test.shape[0], 1), 1)\n",
        "    X_test = np.concatenate(( X_test,bias_add), axis=1)\n",
        "    for i in range(len(Y_test)):\n",
        "      X_train_t = np.transpose(X_train)\n",
        "      B_ols = np.linalg.inv(X_train_t @ X_train) @ X_train_t @ Y_train\n",
        "      append_data = [[X_train[len(X_train)-1][1], X_train[len(X_train)-1][2],X_train[len(X_train)-1][3],X_train[len(X_train)-1][4], X_test[i][4],1]]\n",
        "      append_data = np.array(append_data)\n",
        "      Y_test_preds.append(B_ols@X_test[i])\n",
        "      X_train = np.concatenate((X_train,append_data))\n",
        "      Y_train = np.insert(Y_train, len(Y_train), Y_test[i])\n",
        "    Y_test_preds = np.array(Y_test_preds)\n",
        "    print(\"Prediction for the last week:\")\n",
        "    for i in range(len(Y_test_preds)):\n",
        "      print(\"Day:\",i+1,\"Predicted:\",Y_test_preds[i],\"Actual:\",Y_test[i])\n",
        "    plotpred([1,2,3,4,5,6,7],Y_test,Y_test_preds,data)\n",
        "    Errs = Y_test_preds - Y_test\n",
        "    se = (Errs)**2\n",
        "    MAPE = 0\n",
        "    nonzeros = 0\n",
        "    for i in range(len(Y_test)):\n",
        "      if Y_test[i] != 0:\n",
        "        nonzeros = nonzeros+1\n",
        "        MAPE += (np.abs(Errs[i])/Y_test[i])\n",
        "    MAPE = (MAPE/nonzeros)*100\n",
        "    return B_ols, np.mean(se), np.mean(MAPE)"
      ],
      "id": "VBRuhUGDmAsx",
      "execution_count": 17,
      "outputs": []
    },
    {
      "cell_type": "markdown",
      "metadata": {
        "id": "zRv9b8z9aGQt"
      },
      "source": [
        "Below code performs AR(5) predictions of fatality and #cases on outlier free datasets of two states SC and SD."
      ],
      "id": "zRv9b8z9aGQt"
    },
    {
      "cell_type": "code",
      "metadata": {
        "colab": {
          "base_uri": "https://localhost:8080/",
          "height": 1000
        },
        "id": "eRE1SxOnmBpy",
        "outputId": "64b675ba-394b-4036-e1dc-675513092ebe"
      },
      "source": [
        "print(\"AR5\")\n",
        "print(\"================\\n\")\n",
        "\n",
        "print(\"\\nSC_Confirmed\")\n",
        "print(\"================\")\n",
        "SC_Confirmed_train_X,SC_Confirmed_train_Y = prepare_train_5(sc_conf_per_day_np)\n",
        "SC_Confirmed_test_X, SC_Confirmed_test_Y = prepare_test_5(sc_conf_per_day_np)\n",
        "dd, mse, mape = perform_multiple_linear_regression_AR5(SC_Confirmed_train_X,SC_Confirmed_train_Y,SC_Confirmed_test_X,SC_Confirmed_test_Y,\"SC_Confirmed\")\n",
        "print(\"MSE: \", mse)\n",
        "print(\"MAPE: \", mape)\n",
        "\n",
        "print(\"\\nSD_Confirmed\")\n",
        "print(\"================\")\n",
        "SD_Confirmed_train_X,SD_Confirmed_train_Y = prepare_train_5(sd_conf_per_day_np)\n",
        "SD_Confirmed_test_X, SD_Confirmed_test_Y = prepare_test_5(sd_conf_per_day_np)\n",
        "dd, mse,mape = perform_multiple_linear_regression_AR5(SD_Confirmed_train_X,SD_Confirmed_train_Y,SD_Confirmed_test_X,SD_Confirmed_test_Y,\"SD_Confirmed\")\n",
        "print(\"MSE: \", mse)\n",
        "print(\"MAPE: \", mape)\n",
        "\n",
        "print(\"\\nSC_Death\")\n",
        "print(\"================\")\n",
        "SC_death_train_X,SC_death_train_Y = prepare_train_5(sc_death_per_day_np)\n",
        "SC_death_test_X, SC_death_test_Y = prepare_test_5(sc_death_per_day_np)\n",
        "dd, mse,mape = perform_multiple_linear_regression_AR5(SC_death_train_X,SC_death_train_Y,SC_death_test_X,SC_death_test_Y,\"SC_Death\")\n",
        "print(\"MSE: \", mse)\n",
        "print(\"MAPE: \", mape)\n",
        "\n",
        "print(\"\\nSD_Death\")\n",
        "print(\"================\")\n",
        "SD_death_train_X,SD_death_train_Y = prepare_train_5(sd_death_per_day_np)\n",
        "SD_death_test_X, SD_death_test_Y = prepare_test_5(sd_death_per_day_np)\n",
        "dd, mse,mape = perform_multiple_linear_regression_AR5(SD_death_train_X,SD_death_train_Y,SD_death_test_X,SD_death_test_Y,\"SD_Death\")\n",
        "print(\"MSE: \", mse)\n",
        "print(\"MAPE: \", mape)"
      ],
      "id": "eRE1SxOnmBpy",
      "execution_count": 18,
      "outputs": [
        {
          "output_type": "stream",
          "text": [
            "AR5\n",
            "================\n",
            "\n",
            "\n",
            "SC_Confirmed\n",
            "================\n",
            "Prediction for the last week:\n",
            "Day: 1 Predicted: 815.9497007167279 Actual: 917.0\n",
            "Day: 2 Predicted: 951.3970725444517 Actual: 693.0\n",
            "Day: 3 Predicted: 1019.2669579229051 Actual: 563.0\n",
            "Day: 4 Predicted: 890.5723159360225 Actual: 937.0\n",
            "Day: 5 Predicted: 718.3986223814272 Actual: 605.0\n",
            "Day: 6 Predicted: 679.948574923412 Actual: 505.0\n",
            "Day: 7 Predicted: 839.6420919420583 Actual: 1353.0\n"
          ],
          "name": "stdout"
        },
        {
          "output_type": "display_data",
          "data": {
            "image/png": "[encoded data removed]",
            "text/plain": [
              "<Figure size 432x288 with 1 Axes>"
            ]
          },
          "metadata": {
            "tags": [],
            "needs_background": "light"
          }
        },
        {
          "output_type": "stream",
          "text": [
            "MSE:  84902.55285941607\n",
            "MAPE:  32.233209416527444\n",
            "\n",
            "SD_Confirmed\n",
            "================\n",
            "Prediction for the last week:\n",
            "Day: 1 Predicted: 122.08847231625066 Actual: 251.0\n",
            "Day: 2 Predicted: 245.76141516856703 Actual: 141.0\n",
            "Day: 3 Predicted: 151.30939704772442 Actual: 149.0\n",
            "Day: 4 Predicted: 113.83089346650932 Actual: 80.0\n",
            "Day: 5 Predicted: 81.74513389543947 Actual: 66.0\n",
            "Day: 6 Predicted: 117.1549134396127 Actual: 623.0\n",
            "Day: 7 Predicted: 444.5563540959079 Actual: 323.0\n"
          ],
          "name": "stdout"
        },
        {
          "output_type": "display_data",
          "data": {
            "image/png": "[encoded data removed]",
            "text/plain": [
              "<Figure size 432x288 with 1 Axes>"
            ]
          },
          "metadata": {
            "tags": [],
            "needs_background": "light"
          }
        },
        {
          "output_type": "stream",
          "text": [
            "MSE:  42806.58668644372\n",
            "MAPE:  44.59734938979336\n",
            "\n",
            "SC_Death\n",
            "================\n",
            "Prediction for the last week:\n",
            "Day: 1 Predicted: 7.879740284820798 Actual: 34.0\n",
            "Day: 2 Predicted: 36.33704017358941 Actual: 11.0\n",
            "Day: 3 Predicted: 31.635143875698542 Actual: 7.0\n",
            "Day: 4 Predicted: 16.750899267061296 Actual: 18.0\n",
            "Day: 5 Predicted: 29.713031269835938 Actual: 44.0\n",
            "Day: 6 Predicted: 46.77400440718777 Actual: 55.0\n",
            "Day: 7 Predicted: 40.74697718565555 Actual: 27.0\n"
          ],
          "name": "stdout"
        },
        {
          "output_type": "display_data",
          "data": {
            "image/png": "[encoded data removed]",
            "text/plain": [
              "<Figure size 432x288 with 1 Axes>"
            ]
          },
          "metadata": {
            "tags": [],
            "needs_background": "light"
          }
        },
        {
          "output_type": "stream",
          "text": [
            "MSE:  341.9211427852112\n",
            "MAPE:  109.19608098013637\n",
            "\n",
            "SD_Death\n",
            "================\n",
            "Prediction for the last week:\n",
            "Day: 1 Predicted: 1.404280316596469 Actual: 0.0\n",
            "Day: 2 Predicted: 0.4590079487531795 Actual: 2.0\n",
            "Day: 3 Predicted: 0.14300406488845518 Actual: 0.0\n",
            "Day: 4 Predicted: 1.6781034775532966 Actual: 0.0\n",
            "Day: 5 Predicted: 1.5694323478523167 Actual: 1.0\n",
            "Day: 6 Predicted: 0.12358640713631186 Actual: 0.0\n",
            "Day: 7 Predicted: 2.106224503090285 Actual: 3.0\n"
          ],
          "name": "stdout"
        },
        {
          "output_type": "display_data",
          "data": {
            "image/png": "[encoded data removed]",
            "text/plain": [
              "<Figure size 432x288 with 1 Axes>"
            ]
          },
          "metadata": {
            "tags": [],
            "needs_background": "light"
          }
        },
        {
          "output_type": "stream",
          "text": [
            "MSE:  1.1887860844604174\n",
            "MAPE:  54.595117970409945\n"
          ],
          "name": "stdout"
        }
      ]
    },
    {
      "cell_type": "markdown",
      "metadata": {
        "id": "nlG0ifOlbxdr"
      },
      "source": [
        "EWMA is performed on the outlier free dataset. The predictions with its plots, MSE and MAPE is printed along."
      ],
      "id": "nlG0ifOlbxdr"
    },
    {
      "cell_type": "code",
      "metadata": {
        "id": "4osgoop4mE-Z"
      },
      "source": [
        "def perform_ewma(ind,X_W, indc, col=1, alpha=0.5):\n",
        "    if(ind==indc):\n",
        "      return int(X_W[:,col][ind])\n",
        "    return alpha*int(X_W[:,col][ind-1]) + (1-alpha)*perform_ewma(ind-1,X_W,indc, col, alpha)\n"
      ],
      "id": "4osgoop4mE-Z",
      "execution_count": 19,
      "outputs": []
    },
    {
      "cell_type": "code",
      "metadata": {
        "id": "SwpKzWfDmGuo"
      },
      "source": [
        "def perform_ewma_set(X_W,data,alpha = 0.5):\n",
        "  z1 = np.array(pd.to_datetime('2020-08-01'))\n",
        "  z2 = np.array(pd.to_datetime('2020-08-22'))\n",
        "  z3 = np.array(pd.to_datetime('2020-08-29'))\n",
        "  l0 = np.searchsorted(X_W[:,0], z1 , side='left')\n",
        "  l1  = np.searchsorted(X_W[:,0], z2 , side='left')\n",
        "  l2 = np.searchsorted(X_W[:,0], z3 , side='left')\n",
        "  y_hat = np.empty(l2-l0)\n",
        "  res = np.empty(l2-l1)\n",
        "  for j in range(y_hat.shape[0]):\n",
        "    y_hat[j] = perform_ewma(j+l0, X_W,l0,alpha = alpha)\n",
        "    if(j>=l1-l0):\n",
        "      print(\"Day:\",j-l1+l0+1,\": Predicted:\", y_hat[j],\"Actual:\", X_W[j+l0][1])\n",
        "      res[j-l1+l0] = y_hat[j] - int(X_W[j+l0][1])\n",
        "  print(\"\\n\")\n",
        "  plotpred([1,2,3,4,5,6,7],X_W[l1:l2,1].astype(int),y_hat[l1-l0:],data)\n",
        "  print(\"mse:\", np.mean(res**2))\n",
        "  MAPE = 0\n",
        "  nonzeros = 0\n",
        "  for i in range(len(res)):\n",
        "    if int(X_W[i+l1][1]) != 0:\n",
        "      nonzeros = nonzeros+1\n",
        "      MAPE += (np.abs(res[i])/int(X_W[i+l1][1]))\n",
        "  MAPE = MAPE/nonzeros*100\n",
        "  print(\"MAPE:\", MAPE) \n",
        "  print(\"\\n\")"
      ],
      "id": "SwpKzWfDmGuo",
      "execution_count": 20,
      "outputs": []
    },
    {
      "cell_type": "code",
      "metadata": {
        "colab": {
          "base_uri": "https://localhost:8080/",
          "height": 1000
        },
        "id": "yJ-6mhZLmKps",
        "outputId": "3c15b526-b111-4740-da97-2e8026cfcdcd"
      },
      "source": [
        "print(\"EWMA\\nAlpha = 0.5\")\n",
        "print(\"================\\n\")\n",
        "print(\"SC_Confirmed\")\n",
        "print(\"=============\")\n",
        "perform_ewma_set(sc_conf_per_day_np,\"SC_Confirmed\")\n",
        "print(\"SD_Confirmed\")\n",
        "print(\"=============\")\n",
        "perform_ewma_set(sd_conf_per_day_np,\"SD_Confirmed\")\n",
        "print(\"SC_Death\")\n",
        "print(\"=============\")\n",
        "perform_ewma_set(sc_death_per_day_np,\"SC_Death\")\n",
        "print(\"SD_Death\")\n",
        "print(\"=============\")\n",
        "perform_ewma_set(sd_death_per_day_np,\"SD_Death\")"
      ],
      "id": "yJ-6mhZLmKps",
      "execution_count": 21,
      "outputs": [
        {
          "output_type": "stream",
          "text": [
            "EWMA\n",
            "Alpha = 0.5\n",
            "================\n",
            "\n",
            "SC_Confirmed\n",
            "=============\n",
            "Day: 1 : Predicted: 931.9483604431152 Actual: 917\n",
            "Day: 2 : Predicted: 924.4741802215576 Actual: 693\n",
            "Day: 3 : Predicted: 808.7370901107788 Actual: 563\n",
            "Day: 4 : Predicted: 685.8685450553894 Actual: 937\n",
            "Day: 5 : Predicted: 811.4342725276947 Actual: 605\n",
            "Day: 6 : Predicted: 708.2171362638474 Actual: 505\n",
            "Day: 7 : Predicted: 606.6085681319237 Actual: 1353\n",
            "\n",
            "\n"
          ],
          "name": "stdout"
        },
        {
          "output_type": "display_data",
          "data": {
            "image/png": "[encoded data removed]",
            "text/plain": [
              "<Figure size 432x288 with 1 Axes>"
            ]
          },
          "metadata": {
            "tags": [],
            "needs_background": "light"
          }
        },
        {
          "output_type": "stream",
          "text": [
            "mse: 116895.70823132632\n",
            "MAPE: 33.57276978782585\n",
            "\n",
            "\n",
            "SD_Confirmed\n",
            "=============\n",
            "Day: 1 : Predicted: 154.99390125274658 Actual: 251\n",
            "Day: 2 : Predicted: 202.9969506263733 Actual: 141\n",
            "Day: 3 : Predicted: 171.99847531318665 Actual: 149\n",
            "Day: 4 : Predicted: 160.49923765659332 Actual: 80\n",
            "Day: 5 : Predicted: 120.24961882829666 Actual: 66\n",
            "Day: 6 : Predicted: 93.12480941414833 Actual: 623\n",
            "Day: 7 : Predicted: 358.06240470707417 Actual: 323\n",
            "\n",
            "\n"
          ],
          "name": "stdout"
        },
        {
          "output_type": "display_data",
          "data": {
            "image/png": "[encoded data removed]",
            "text/plain": [
              "<Figure size 432x288 with 1 Axes>"
            ]
          },
          "metadata": {
            "tags": [],
            "needs_background": "light"
          }
        },
        {
          "output_type": "stream",
          "text": [
            "mse: 43572.85156841586\n",
            "MAPE: 53.76885700120019\n",
            "\n",
            "\n",
            "SC_Death\n",
            "=============\n",
            "Day: 1 : Predicted: 46.12293243408203 Actual: 34\n",
            "Day: 2 : Predicted: 40.061466217041016 Actual: 11\n",
            "Day: 3 : Predicted: 25.530733108520508 Actual: 7\n",
            "Day: 4 : Predicted: 16.265366554260254 Actual: 18\n",
            "Day: 5 : Predicted: 17.132683277130127 Actual: 44\n",
            "Day: 6 : Predicted: 30.566341638565063 Actual: 55\n",
            "Day: 7 : Predicted: 42.78317081928253 Actual: 27\n",
            "\n",
            "\n"
          ],
          "name": "stdout"
        },
        {
          "output_type": "display_data",
          "data": {
            "image/png": "[encoded data removed]",
            "text/plain": [
              "<Figure size 432x288 with 1 Axes>"
            ]
          },
          "metadata": {
            "tags": [],
            "needs_background": "light"
          }
        },
        {
          "output_type": "stream",
          "text": [
            "mse: 415.1280260195436\n",
            "MAPE: 105.45079247026297\n",
            "\n",
            "\n",
            "SD_Death\n",
            "=============\n",
            "Day: 1 : Predicted: 1.730759620666504 Actual: 0\n",
            "Day: 2 : Predicted: 0.865379810333252 Actual: 2\n",
            "Day: 3 : Predicted: 1.432689905166626 Actual: 0\n",
            "Day: 4 : Predicted: 0.716344952583313 Actual: 0\n",
            "Day: 5 : Predicted: 0.3581724762916565 Actual: 1\n",
            "Day: 6 : Predicted: 0.6790862381458282 Actual: 0\n",
            "Day: 7 : Predicted: 0.3395431190729141 Actual: 3\n",
            "\n",
            "\n"
          ],
          "name": "stdout"
        },
        {
          "output_type": "display_data",
          "data": {
            "image/png": "[encoded data removed]",
            "text/plain": [
              "<Figure size 432x288 with 1 Axes>"
            ]
          },
          "metadata": {
            "tags": [],
            "needs_background": "light"
          }
        },
        {
          "output_type": "stream",
          "text": [
            "mse: 2.1142533998697037\n",
            "MAPE: 69.86521929502487\n",
            "\n",
            "\n"
          ],
          "name": "stdout"
        }
      ]
    },
    {
      "cell_type": "code",
      "metadata": {
        "colab": {
          "base_uri": "https://localhost:8080/",
          "height": 1000
        },
        "id": "rLJgigzLmNY9",
        "outputId": "6f9bcc44-74aa-4c57-89f0-2bec645a477c"
      },
      "source": [
        "print(\"EWMA\\nAlpha = 0.8\")\n",
        "print(\"=============\\n\")\n",
        "print(\"SC_Confirmed\")\n",
        "print(\"=============\")\n",
        "perform_ewma_set(sc_conf_per_day_np,\"SC_Confirmed\",alpha = 0.8)\n",
        "print(\"SD_Confirmed\")\n",
        "print(\"=============\")\n",
        "perform_ewma_set(sd_conf_per_day_np,\"SD_Confirmed\",alpha = 0.8)\n",
        "print(\"SC_Death\")\n",
        "print(\"=============\")\n",
        "perform_ewma_set(sc_death_per_day_np,\"SC_Death\",alpha = 0.8)\n",
        "print(\"SD_Death\")\n",
        "print(\"=============\")\n",
        "perform_ewma_set(sd_death_per_day_np,\"SD_Death\",alpha = 0.8)"
      ],
      "id": "rLJgigzLmNY9",
      "execution_count": 22,
      "outputs": [
        {
          "output_type": "stream",
          "text": [
            "EWMA\n",
            "Alpha = 0.8\n",
            "=============\n",
            "\n",
            "SC_Confirmed\n",
            "=============\n",
            "Day: 1 : Predicted: 1020.894389580629 Actual: 917\n",
            "Day: 2 : Predicted: 937.7788779161258 Actual: 693\n",
            "Day: 3 : Predicted: 741.9557755832251 Actual: 563\n",
            "Day: 4 : Predicted: 598.7911551166451 Actual: 937\n",
            "Day: 5 : Predicted: 869.358231023329 Actual: 605\n",
            "Day: 6 : Predicted: 657.8716462046658 Actual: 505\n",
            "Day: 7 : Predicted: 535.5743292409331 Actual: 1353\n",
            "\n",
            "\n"
          ],
          "name": "stdout"
        },
        {
          "output_type": "display_data",
          "data": {
            "image/png": "[encoded data removed]",
            "text/plain": [
              "<Figure size 432x288 with 1 Axes>"
            ]
          },
          "metadata": {
            "tags": [],
            "needs_background": "light"
          }
        },
        {
          "output_type": "stream",
          "text": [
            "mse: 139794.41105302208\n",
            "MAPE: 35.5593411767599\n",
            "\n",
            "\n",
            "SD_Confirmed\n",
            "=============\n",
            "Day: 1 : Predicted: 179.02354454127214 Actual: 251\n",
            "Day: 2 : Predicted: 236.60470890825442 Actual: 141\n",
            "Day: 3 : Predicted: 160.12094178165088 Actual: 149\n",
            "Day: 4 : Predicted: 151.22418835633016 Actual: 80\n",
            "Day: 5 : Predicted: 94.24483767126603 Actual: 66\n",
            "Day: 6 : Predicted: 71.6489675342532 Actual: 623\n",
            "Day: 7 : Predicted: 512.7297935068507 Actual: 323\n",
            "\n",
            "\n"
          ],
          "name": "stdout"
        },
        {
          "output_type": "display_data",
          "data": {
            "image/png": "[encoded data removed]",
            "text/plain": [
              "<Figure size 432x288 with 1 Axes>"
            ]
          },
          "metadata": {
            "tags": [],
            "needs_background": "light"
          }
        },
        {
          "output_type": "stream",
          "text": [
            "mse: 51471.50817989093\n",
            "MAPE: 54.715576774558464\n",
            "\n",
            "\n",
            "SC_Death\n",
            "=============\n",
            "Day: 1 : Predicted: 53.8856975789405 Actual: 34\n",
            "Day: 2 : Predicted: 37.9771395157881 Actual: 11\n",
            "Day: 3 : Predicted: 16.395427903157618 Actual: 7\n",
            "Day: 4 : Predicted: 8.879085580631523 Actual: 18\n",
            "Day: 5 : Predicted: 16.175817116126304 Actual: 44\n",
            "Day: 6 : Predicted: 38.43516342322526 Actual: 55\n",
            "Day: 7 : Predicted: 51.68703268464505 Actual: 27\n",
            "\n",
            "\n"
          ],
          "name": "stdout"
        },
        {
          "output_type": "display_data",
          "data": {
            "image/png": "[encoded data removed]",
            "text/plain": [
              "<Figure size 432x288 with 1 Axes>"
            ]
          },
          "metadata": {
            "tags": [],
            "needs_background": "light"
          }
        },
        {
          "output_type": "stream",
          "text": [
            "mse: 421.814388103927\n",
            "MAPE: 96.2020474908816\n",
            "\n",
            "\n",
            "SD_Death\n",
            "=============\n",
            "Day: 1 : Predicted: 1.958782977815169 Actual: 0\n",
            "Day: 2 : Predicted: 0.3917565955630337 Actual: 2\n",
            "Day: 3 : Predicted: 1.6783513191126067 Actual: 0\n",
            "Day: 4 : Predicted: 0.33567026382252124 Actual: 0\n",
            "Day: 5 : Predicted: 0.06713405276450424 Actual: 1\n",
            "Day: 6 : Predicted: 0.8134268105529009 Actual: 0\n",
            "Day: 7 : Predicted: 0.16268536211058013 Actual: 3\n",
            "\n",
            "\n"
          ],
          "name": "stdout"
        },
        {
          "output_type": "display_data",
          "data": {
            "image/png": "[encoded data removed]",
            "text/plain": [
              "<Figure size 432x288 with 1 Axes>"
            ]
          },
          "metadata": {
            "tags": [],
            "needs_background": "light"
          }
        },
        {
          "output_type": "stream",
          "text": [
            "mse: 2.705010240642084\n",
            "MAPE: 89.42530651390396\n",
            "\n",
            "\n"
          ],
          "name": "stdout"
        }
      ]
    },
    {
      "cell_type": "markdown",
      "metadata": {
        "id": "u-CPz3wc3xmU"
      },
      "source": [
        "**b. Checking how the mean of monthly COVID19 stats has changed between Feb 2021 and March 2021**"
      ],
      "id": "u-CPz3wc3xmU"
    },
    {
      "cell_type": "code",
      "metadata": {
        "id": "9WavbWC_4UAK"
      },
      "source": [
        "sc_conf_per_day_tukey_np = np.array(sc_conf_per_day_tukey)\n",
        "sd_conf_per_day_tukey_np = np.array(sd_conf_per_day_tukey)\n",
        "sc_death_per_day_tukey_np = np.array(sc_death_per_day_tukey)\n",
        "sd_death_per_day_tukey_np = np.array(sd_death_per_day_tukey)"
      ],
      "id": "9WavbWC_4UAK",
      "execution_count": 23,
      "outputs": []
    },
    {
      "cell_type": "code",
      "metadata": {
        "id": "81EmB02G30Zg"
      },
      "source": [
        "var_sc_cnf = np.var(sc_conf_per_day_tukey_np[:,1].astype(int),ddof=1)\n",
        "var_sd_cnf = np.var(sd_conf_per_day_tukey_np[:,1].astype(int),ddof=1)\n",
        "var_sc_dth = np.var(sc_death_per_day_tukey_np[:,1].astype(int),ddof=1)\n",
        "var_sd_dth = np.var(sd_death_per_day_tukey_np[:,1].astype(int),ddof=1)"
      ],
      "id": "81EmB02G30Zg",
      "execution_count": 24,
      "outputs": []
    },
    {
      "cell_type": "markdown",
      "metadata": {
        "id": "Ff85N2lcdlsi"
      },
      "source": [
        "Corrected Variance is obtained for each outlier free dataset. It is used in Z-test."
      ],
      "id": "Ff85N2lcdlsi"
    },
    {
      "cell_type": "code",
      "metadata": {
        "colab": {
          "base_uri": "https://localhost:8080/"
        },
        "id": "sf8Lo1hH4tYO",
        "outputId": "ede1384a-1690-412f-ba4b-c69641af0e65"
      },
      "source": [
        "print(var_sc_cnf,var_sc_dth,var_sd_cnf,var_sd_dth)"
      ],
      "id": "sf8Lo1hH4tYO",
      "execution_count": 25,
      "outputs": [
        {
          "output_type": "stream",
          "text": [
            "934817.3575336775 284.82515639481 30755.372688207142 6.682537147618387\n"
          ],
          "name": "stdout"
        }
      ]
    },
    {
      "cell_type": "markdown",
      "metadata": {
        "id": "bBuYLlL8dv5t"
      },
      "source": [
        "Dataset is obtained for February. We have used np.searchsorted for positioning our data."
      ],
      "id": "bBuYLlL8dv5t"
    },
    {
      "cell_type": "code",
      "metadata": {
        "colab": {
          "base_uri": "https://localhost:8080/"
        },
        "id": "_Js1kaKu42-1",
        "outputId": "ecaead0c-24b3-4f67-cc55-cfd76f18f0cc"
      },
      "source": [
        "z1 = np.array(pd.to_datetime('2021-02-01'))\n",
        "z2 = np.array(pd.to_datetime('2021-03-01'))\n",
        "l1 = np.searchsorted(sc_conf_per_day_tukey_np[:,0], z1 , side='left')\n",
        "l2  = np.searchsorted(sc_conf_per_day_tukey_np[:,0], z2 , side='left')\n",
        "feb_sc_cnf = sc_conf_per_day_tukey_np[l1:l2,1].astype(int)\n",
        "mean_feb_sc_cnf = np.mean(feb_sc_cnf)\n",
        "\n",
        "l1 = np.searchsorted(sd_conf_per_day_tukey_np[:,0], z1 , side='left')\n",
        "l2  = np.searchsorted(sd_conf_per_day_tukey_np[:,0], z2 , side='left')\n",
        "# print(sd_conf_per_day_tukey_np[l1:l2])\n",
        "feb_sd_cnf = sd_conf_per_day_tukey_np[l1:l2,1].astype(int)\n",
        "mean_feb_sd_cnf = np.mean(feb_sd_cnf)\n",
        "\n",
        "l1 = np.searchsorted(sc_death_per_day_tukey_np[:,0], z1 , side='left')\n",
        "l2  = np.searchsorted(sc_death_per_day_tukey_np[:,0], z2 , side='left')\n",
        "feb_sc_dth = sc_death_per_day_tukey_np[l1:l2,1].astype(int)\n",
        "mean_feb_sc_dth = np.mean(feb_sc_dth)\n",
        "\n",
        "l1 = np.searchsorted(sd_death_per_day_tukey_np[:,0], z1 , side='left')\n",
        "l2  = np.searchsorted(sd_death_per_day_tukey_np[:,0], z2 , side='left')\n",
        "feb_sd_dth = sd_death_per_day_tukey_np[l1:l2,1].astype(int)\n",
        "mean_feb_sd_dth = np.mean(feb_sd_dth)\n",
        "\n",
        "print(mean_feb_sc_cnf,mean_feb_sc_dth,mean_feb_sd_cnf,mean_feb_sd_dth)"
      ],
      "id": "_Js1kaKu42-1",
      "execution_count": 26,
      "outputs": [
        {
          "output_type": "stream",
          "text": [
            "2430.3076923076924 39.73913043478261 149.21428571428572 4.2\n"
          ],
          "name": "stdout"
        }
      ]
    },
    {
      "cell_type": "markdown",
      "metadata": {
        "id": "VKDqvIU1eLFz"
      },
      "source": [
        "Dataset is obtained for March. We have used np.searchsorted for positioning our data."
      ],
      "id": "VKDqvIU1eLFz"
    },
    {
      "cell_type": "code",
      "metadata": {
        "colab": {
          "base_uri": "https://localhost:8080/"
        },
        "id": "1ZtmheCy6GFy",
        "outputId": "592f943a-36f2-4897-e390-9960cc6a4481"
      },
      "source": [
        "z1 = np.array(pd.to_datetime('2021-03-01'))\n",
        "z2 = np.array(pd.to_datetime('2021-04-01'))\n",
        "l1 = np.searchsorted(sc_conf_per_day_tukey_np[:,0], z1 , side='left')\n",
        "l2  = np.searchsorted(sc_conf_per_day_tukey_np[:,0], z2 , side='left')\n",
        "mar_sc_cnf = sc_conf_per_day_tukey_np[l1:l2,1].astype(int)\n",
        "mean_mar_sc_cnf = np.mean(mar_sc_cnf)\n",
        "\n",
        "l1 = np.searchsorted(sd_conf_per_day_tukey_np[:,0], z1 , side='left')\n",
        "l2  = np.searchsorted(sd_conf_per_day_tukey_np[:,0], z2 , side='left')\n",
        "# print(sd_conf_per_day_tukey_np[l1:l2])\n",
        "mar_sd_cnf = sd_conf_per_day_tukey_np[l1:l2,1].astype(int)\n",
        "mean_mar_sd_cnf = np.mean(mar_sd_cnf)\n",
        "\n",
        "l1 = np.searchsorted(sc_death_per_day_tukey_np[:,0], z1 , side='left')\n",
        "l2  = np.searchsorted(sc_death_per_day_tukey_np[:,0], z2 , side='left')\n",
        "mar_sc_dth = sc_death_per_day_tukey_np[l1:l2,1].astype(int)\n",
        "mean_mar_sc_dth = np.mean(mar_sc_dth)\n",
        "\n",
        "l1 = np.searchsorted(sd_death_per_day_tukey_np[:,0], z1 , side='left')\n",
        "l2  = np.searchsorted(sd_death_per_day_tukey_np[:,0], z2 , side='left')\n",
        "mar_sd_dth = sd_death_per_day_tukey_np[l1:l2,1].astype(int)\n",
        "mean_mar_sd_dth = np.mean(mar_sd_dth)\n",
        "\n",
        "print(mean_mar_sc_cnf,mean_mar_sc_dth,mean_mar_sd_cnf,mean_mar_sd_dth)"
      ],
      "id": "1ZtmheCy6GFy",
      "execution_count": 27,
      "outputs": [
        {
          "output_type": "stream",
          "text": [
            "1122.8387096774193 19.483870967741936 178.86666666666667 1.5161290322580645\n"
          ],
          "name": "stdout"
        }
      ]
    },
    {
      "cell_type": "markdown",
      "metadata": {
        "id": "pc0AdADHeNs-"
      },
      "source": [
        "Below is the definition for wald, Z-test, T-test, wald two population and T-test for two population hypothesis tests."
      ],
      "id": "pc0AdADHeNs-"
    },
    {
      "cell_type": "code",
      "metadata": {
        "id": "0rpFe2Mw6lwE"
      },
      "source": [
        "def wald(theta, theta_0, Z_alphaby2):\n",
        "  theta_cap = np.mean(theta)\n",
        "  se_cap = np.sqrt(np.mean(theta)/theta.shape[0])#corrected variance estimator\n",
        "  wald = (theta_cap - theta_0)/se_cap\n",
        "  print(wald)\n",
        "  return np.abs(wald)<=Z_alphaby2\n",
        "def wald2pop(theta_X,theta_Y,Z_alphaby2):\n",
        "  var_cap_X, var_cap_Y = np.mean(theta_X), np.mean(theta_Y)\n",
        "  se_cap = np.sqrt((var_cap_X/theta_X.shape[0]) + (var_cap_Y/theta_Y.shape[0]))\n",
        "  delta_cap = np.mean(theta_X) - np.mean(theta_Y)\n",
        "  wald = delta_cap/se_cap\n",
        "  print(wald)\n",
        "  return np.abs(wald)<=Z_alphaby2\n",
        "def Z_test(theta, theta_0, se, Z_alphaby2):\n",
        "  theta_bar = np.mean(theta)\n",
        "  Z = (theta_bar - theta_0)/(se/np.sqrt(len(theta)))\n",
        "  print(Z)\n",
        "  return np.abs(Z)<=Z_alphaby2\n",
        "def t_test(theta, theta_0, thr):\n",
        "  print(\"threshold used: t\",len(theta)-1,\"alpha/2\")\n",
        "  theta_bar = np.mean(theta)\n",
        "  se_cap = np.sqrt(np.var(theta,ddof=1))\n",
        "  t = (theta_bar - theta_0)/(se_cap/np.sqrt(len(theta)))\n",
        "  print(t)\n",
        "  return np.abs(t)<=thr\n",
        "def t_test_2pop(theta_X,theta_Y,thr):\n",
        "  print(\"threshold used: t\",len(theta_X)+len(theta_Y)-2,\"alpha/2\")\n",
        "  var_cap_X, var_cap_Y = np.var(theta_X,ddof=1), np.var(theta_Y,ddof=1)\n",
        "  se_cap = np.sqrt((var_cap_X/theta_X.shape[0]) + (var_cap_Y/theta_Y.shape[0]))\n",
        "  delta_cap = np.mean(theta_X) - np.mean(theta_Y)\n",
        "  t = delta_cap/se_cap\n",
        "  print(t)\n",
        "  return np.abs(t)<=thr"
      ],
      "id": "0rpFe2Mw6lwE",
      "execution_count": 28,
      "outputs": []
    },
    {
      "cell_type": "code",
      "metadata": {
        "colab": {
          "base_uri": "https://localhost:8080/"
        },
        "id": "YokpKuPJ6pkU",
        "outputId": "a1c55827-beb7-4d9e-e921-09f7aa78dd41"
      },
      "source": [
        "print(\"wald test for mar_sc_cnf with mean_feb_sc_cnf and Z_alphaby2 = 1.96\")\n",
        "print(\"Accept\" if (wald(mar_sc_cnf,mean_feb_sc_cnf,Z_alphaby2 = 1.96)==True) else \"Reject\")\n",
        "print(\"wald test for mar_sd_cnf with mean_feb_sd_cnf and Z_alphaby2 = 1.96\")\n",
        "print(\"Accept\" if (wald(mar_sd_cnf,mean_feb_sd_cnf,Z_alphaby2 = 1.96)==True) else \"Reject\")\n",
        "\n",
        "print(\"wald test for mar_sc_dth with mean_feb_sc_dth and Z_alphaby2 = 1.96\")\n",
        "print(\"Accept\" if (wald(mar_sc_dth,mean_feb_sc_dth,Z_alphaby2 = 1.96)==True) else \"Reject\")\n",
        "print(\"wald test for mar_sd_dth with mean_feb_sd_dth and Z_alphaby2 = 1.96\")\n",
        "print(\"Accept\" if (wald(mar_sd_dth,mean_feb_sd_dth,Z_alphaby2 = 1.96)==True) else \"Reject\")"
      ],
      "id": "YokpKuPJ6pkU",
      "execution_count": 29,
      "outputs": [
        {
          "output_type": "stream",
          "text": [
            "wald test for mar_sc_cnf with mean_feb_sc_cnf and Z_alphaby2 = 1.96\n",
            "-217.24688273326123\n",
            "Reject\n",
            "wald test for mar_sd_cnf with mean_feb_sd_cnf and Z_alphaby2 = 1.96\n",
            "12.143824759349986\n",
            "Reject\n",
            "wald test for mar_sc_dth with mean_feb_sc_dth and Z_alphaby2 = 1.96\n",
            "-25.549419394724097\n",
            "Reject\n",
            "wald test for mar_sd_dth with mean_feb_sd_dth and Z_alphaby2 = 1.96\n",
            "-12.135967292624827\n",
            "Reject\n"
          ],
          "name": "stdout"
        }
      ]
    },
    {
      "cell_type": "code",
      "metadata": {
        "colab": {
          "base_uri": "https://localhost:8080/"
        },
        "id": "JqqDfGST62ow",
        "outputId": "da94e1f6-dc2b-494d-93f7-7a2e957ada4a"
      },
      "source": [
        "print(\"Z_test test for mar_sc_cnf with mean_feb_sc_cnf and Z_alphaby2 = 1.96\")\n",
        "print(\"Accept\" if (Z_test(mar_sc_cnf,mean_feb_sc_cnf,np.sqrt(var_sc_cnf),Z_alphaby2 = 1.96)==True) else \"Reject\")\n",
        "print(\"Z_test test for mar_sd_cnf with mean_feb_sd_cnf and Z_alphaby2 = 1.96\")\n",
        "print(\"Accept\" if (Z_test(mar_sd_cnf,mean_feb_sd_cnf,np.sqrt(var_sd_cnf),Z_alphaby2 = 1.96)==True) else \"Reject\")\n",
        "\n",
        "print(\"Z_test test for mar_sc_dth with mean_feb_sc_dth and Z_alphaby2 = 1.96\")\n",
        "print(\"Accept\" if (Z_test(mar_sc_dth,mean_feb_sc_dth,np.sqrt(var_sc_dth),Z_alphaby2 = 1.96)==True) else \"Reject\")\n",
        "print(\"Z_test test for mar_sd_dth with mean_feb_sd_dth and Z_alphaby2 = 1.96\")\n",
        "print(\"Accept\" if (Z_test(mar_sd_dth,mean_feb_sd_dth,np.sqrt(var_sd_dth),Z_alphaby2 = 1.96)==True) else \"Reject\")"
      ],
      "id": "JqqDfGST62ow",
      "execution_count": 30,
      "outputs": [
        {
          "output_type": "stream",
          "text": [
            "Z_test test for mar_sc_cnf with mean_feb_sc_cnf and Z_alphaby2 = 1.96\n",
            "-7.529200421273575\n",
            "Reject\n",
            "Z_test test for mar_sd_cnf with mean_feb_sd_cnf and Z_alphaby2 = 1.96\n",
            "0.9261038748306993\n",
            "Accept\n",
            "Z_test test for mar_sc_dth with mean_feb_sc_dth and Z_alphaby2 = 1.96\n",
            "-6.68235410237649\n",
            "Reject\n",
            "Z_test test for mar_sd_dth with mean_feb_sd_dth and Z_alphaby2 = 1.96\n",
            "-5.780584959369736\n",
            "Reject\n"
          ],
          "name": "stdout"
        }
      ]
    },
    {
      "cell_type": "code",
      "metadata": {
        "colab": {
          "base_uri": "https://localhost:8080/"
        },
        "id": "9qhCI2wo7EaC",
        "outputId": "bede6f1c-cc6e-464a-8c5b-df1008399df8"
      },
      "source": [
        "print(\"t_test test for mar_sc_cnf with mean_feb_sc_cnf and Threshold = 2.042\")\n",
        "print(\"Accept\" if (t_test(mar_sc_cnf,mean_feb_sc_cnf,thr = 2.042)==True) else \"Reject\")\n",
        "print(\"t_test test for mar_sd_cnf with mean_feb_sd_cnf and Threshold = 2.045\")\n",
        "print(\"Accept\" if (t_test(mar_sd_cnf,mean_feb_sd_cnf,thr = 2.045)==True) else \"Reject\")\n",
        "\n",
        "print(\"t_test test for mar_sc_dth with mean_feb_sc_dth and Threshold = 2.042\")\n",
        "print(\"Accept\" if (t_test(mar_sc_dth,mean_feb_sc_dth,thr = 2.042)==True) else \"Reject\")\n",
        "print(\"t_test test for mar_sd_dth with mean_feb_sd_dth and Threshold = 2.042\")\n",
        "print(\"Accept\" if (t_test(mar_sd_dth,mean_feb_sd_dth,thr = 2.042)==True) else \"Reject\")"
      ],
      "id": "9qhCI2wo7EaC",
      "execution_count": 31,
      "outputs": [
        {
          "output_type": "stream",
          "text": [
            "t_test test for mar_sc_cnf with mean_feb_sc_cnf and Threshold = 2.042\n",
            "threshold used: t 30 alpha/2\n",
            "-22.1752363552327\n",
            "Reject\n",
            "t_test test for mar_sd_cnf with mean_feb_sd_cnf and Threshold = 2.045\n",
            "threshold used: t 29 alpha/2\n",
            "1.2846733174201763\n",
            "Accept\n",
            "t_test test for mar_sc_dth with mean_feb_sc_dth and Threshold = 2.042\n",
            "threshold used: t 30 alpha/2\n",
            "-7.719023695419868\n",
            "Reject\n",
            "t_test test for mar_sd_dth with mean_feb_sd_dth and Threshold = 2.042\n",
            "threshold used: t 30 alpha/2\n",
            "-8.737747724334783\n",
            "Reject\n"
          ],
          "name": "stdout"
        }
      ]
    },
    {
      "cell_type": "code",
      "metadata": {
        "colab": {
          "base_uri": "https://localhost:8080/"
        },
        "id": "PDKTHL5m7HPg",
        "outputId": "a1b13a8e-6eca-44cc-a6d0-824931e6ef5a"
      },
      "source": [
        "print(\"t_test_2pop test for mar_sc_cnf with feb_sc_cnf and Threshold = 2.004\")\n",
        "print(\"Accept\" if (t_test_2pop(mar_sc_cnf,feb_sc_cnf,thr = 2.004)==True) else \"Reject\")\n",
        "print(\"t_test_2pop test for mar_sd_cnf with feb_sd_cnf and Threshold = 2.003\")\n",
        "print(\"Accept\" if (t_test_2pop(mar_sd_cnf,feb_sd_cnf,thr = 2.003)==True) else \"Reject\")\n",
        "\n",
        "print(\"t_test_2pop test for mar_sc_dth with feb_sc_dth and Threshold = 2.007\")\n",
        "print(\"Accept\" if (t_test_2pop(mar_sc_dth,feb_sc_dth,thr = 2.007)==True) else \"Reject\")\n",
        "print(\"t_test_2pop test for mar_sd_dth with feb_sd_dth and Threshold = 2.005\")\n",
        "print(\"Accept\" if (t_test_2pop(mar_sd_dth,feb_sd_dth,thr = 2.005)==True) else \"Reject\")"
      ],
      "id": "PDKTHL5m7HPg",
      "execution_count": 32,
      "outputs": [
        {
          "output_type": "stream",
          "text": [
            "t_test_2pop test for mar_sc_cnf with feb_sc_cnf and Threshold = 2.004\n",
            "threshold used: t 55 alpha/2\n",
            "-8.74116865967289\n",
            "Reject\n",
            "t_test_2pop test for mar_sd_cnf with feb_sd_cnf and Threshold = 2.003\n",
            "threshold used: t 56 alpha/2\n",
            "0.8998316343566365\n",
            "Accept\n",
            "t_test_2pop test for mar_sc_dth with feb_sc_dth and Threshold = 2.007\n",
            "threshold used: t 52 alpha/2\n",
            "-4.5055413850181845\n",
            "Reject\n",
            "t_test_2pop test for mar_sd_dth with feb_sd_dth and Threshold = 2.005\n",
            "threshold used: t 54 alpha/2\n",
            "-2.4524000953385863\n",
            "Reject\n"
          ],
          "name": "stdout"
        }
      ]
    },
    {
      "cell_type": "code",
      "metadata": {
        "colab": {
          "base_uri": "https://localhost:8080/"
        },
        "id": "oZJLVUlF7Li4",
        "outputId": "bed48a9a-0115-4201-ead3-9774cf082834"
      },
      "source": [
        "print(\"wald2pop test for mar_sc_cnf with feb_sc_cnf and Z_alphaby2 = 1.96\")\n",
        "print(\"Accept\" if (wald2pop(mar_sc_cnf,feb_sc_cnf,Z_alphaby2 = 1.96)==True) else \"Reject\")\n",
        "print(\"wald2pop test for mar_sd_cnf with feb_sd_cnf and Z_alphaby2 = 1.96\")\n",
        "print(\"Accept\" if (wald2pop(mar_sd_cnf,feb_sd_cnf,Z_alphaby2 = 1.96)==True) else \"Reject\")\n",
        "\n",
        "print(\"wald2pop test for mar_sc_dth with feb_sc_dth and Z_alphaby2 = 1.96\")\n",
        "print(\"Accept\" if (wald2pop(mar_sc_dth,feb_sc_dth,Z_alphaby2 = 1.96)==True) else \"Reject\")\n",
        "print(\"wald2pop test for mar_sd_dth with feb_sd_dth and Z_alphaby2 = 1.96\")\n",
        "print(\"Accept\" if (wald2pop(mar_sd_dth,feb_sd_dth,Z_alphaby2 = 1.96)==True) else \"Reject\")"
      ],
      "id": "oZJLVUlF7Li4",
      "execution_count": 33,
      "outputs": [
        {
          "output_type": "stream",
          "text": [
            "wald2pop test for mar_sc_cnf with feb_sc_cnf and Z_alphaby2 = 1.96\n",
            "-114.8078256762813\n",
            "Reject\n",
            "wald2pop test for mar_sd_cnf with feb_sd_cnf and Z_alphaby2 = 1.96\n",
            "8.824447499883284\n",
            "Reject\n",
            "wald2pop test for mar_sc_dth with feb_sc_dth and Z_alphaby2 = 1.96\n",
            "-13.195398076278138\n",
            "Reject\n",
            "wald2pop test for mar_sd_dth with feb_sd_dth and Z_alphaby2 = 1.96\n",
            "-5.762679416372183\n",
            "Reject\n"
          ],
          "name": "stdout"
        }
      ]
    },
    {
      "cell_type": "markdown",
      "metadata": {
        "id": "WqTRiLyrnY_7"
      },
      "source": [
        "**Check and comment on whether the tests are applicable or not**\n",
        "\n",
        "1. Wald's test: The wald test seems applicable.\n",
        "2. Z-Test: The Z-test seems most applicable as it is considering true se.\n",
        "3. T-test: The T-test does not seem to be applicable as #death and #cases are not normally distributed. Its tempting that the no. of datapoints are less but t-test is still not applicable."
      ],
      "id": "WqTRiLyrnY_7"
    },
    {
      "cell_type": "markdown",
      "metadata": {
        "id": "A5JoBlu9K_eZ"
      },
      "source": [
        "**2 c. Infer the equality of distributions in the two states**<br>\n",
        "(i) 1-population KS test (poisson, geometric, binomial)<br>\n",
        "(ii) 2-population KS test<br>\n",
        "(iii) Permutation test"
      ],
      "id": "A5JoBlu9K_eZ"
    },
    {
      "cell_type": "markdown",
      "metadata": {
        "id": "zzYZmr5-h2c2"
      },
      "source": [
        "As we want to infer the equality only for last 3 months of 2020 (Oct, Nov, Dec)\n",
        "We first create 4 dataframes with data only in the concerned range.\n",
        "For this we use the outlier removed data first"
      ],
      "id": "zzYZmr5-h2c2"
    },
    {
      "cell_type": "code",
      "metadata": {
        "colab": {
          "base_uri": "https://localhost:8080/"
        },
        "id": "bBOeriIhWDgd",
        "outputId": "ecf187b1-f5d3-40e1-930a-a72f5ca09488"
      },
      "source": [
        "mask_1 = (sc_conf_per_day_tukey['Date'] > '2020-9-30') & (sc_conf_per_day_tukey['Date'] < '2021-1-1')\n",
        "sc_conf_per_day_ = sc_conf_per_day_tukey.loc[mask_1]\n",
        "len(sc_conf_per_day_)"
      ],
      "id": "bBOeriIhWDgd",
      "execution_count": 34,
      "outputs": [
        {
          "output_type": "execute_result",
          "data": {
            "text/plain": [
              "86"
            ]
          },
          "metadata": {
            "tags": []
          },
          "execution_count": 34
        }
      ]
    },
    {
      "cell_type": "markdown",
      "metadata": {
        "id": "ieJYqlgBiMkc"
      },
      "source": [
        "Here we can see, for SD confirmed data, due to outlier removal, very less data was left, so we are using the original data (per day) instead."
      ],
      "id": "ieJYqlgBiMkc"
    },
    {
      "cell_type": "code",
      "metadata": {
        "colab": {
          "base_uri": "https://localhost:8080/"
        },
        "id": "iO4_FVFEW7nV",
        "outputId": "5276021c-d326-4729-8040-3c36dd0fe928"
      },
      "source": [
        "mask_2 = (sd_conf_per_day_tukey['Date'] > '2020-9-30') & (sd_conf_per_day_tukey['Date'] < '2021-1-1')\n",
        "sd_conf_per_day_ = sd_conf_per_day_tukey.loc[mask_2]\n",
        "print(\"Length of outlier removed data\", len(sd_conf_per_day_))\n",
        "\n",
        "#using non tukey removed data as very less data\n",
        "mask_2 = (sd_conf_per_day['Date'] > '2020-9-30') & (sd_conf_per_day['Date'] < '2021-1-1')\n",
        "sd_conf_per_day_ = sd_conf_per_day.loc[mask_2]\n",
        "len(sd_conf_per_day_)"
      ],
      "id": "iO4_FVFEW7nV",
      "execution_count": 35,
      "outputs": [
        {
          "output_type": "stream",
          "text": [
            "Length of outlier removed data 40\n"
          ],
          "name": "stdout"
        },
        {
          "output_type": "execute_result",
          "data": {
            "text/plain": [
              "91"
            ]
          },
          "metadata": {
            "tags": []
          },
          "execution_count": 35
        }
      ]
    },
    {
      "cell_type": "code",
      "metadata": {
        "colab": {
          "base_uri": "https://localhost:8080/"
        },
        "id": "NXIzdr5DXHgA",
        "outputId": "e4916308-7deb-4887-8b92-a8d8efeb4a2d"
      },
      "source": [
        "mask_3 = (sc_death_per_day_tukey['Date'] > '2020-9-30') & (sc_death_per_day_tukey['Date'] < '2021-1-1')\n",
        "sc_death_per_day_ = sc_death_per_day_tukey.loc[mask_3]\n",
        "len(sc_death_per_day_)"
      ],
      "id": "NXIzdr5DXHgA",
      "execution_count": 36,
      "outputs": [
        {
          "output_type": "execute_result",
          "data": {
            "text/plain": [
              "89"
            ]
          },
          "metadata": {
            "tags": []
          },
          "execution_count": 36
        }
      ]
    },
    {
      "cell_type": "markdown",
      "metadata": {
        "id": "W-DF9myJitXH"
      },
      "source": [
        "Here we can see, for SD deaths data, due to outlier removal, very less data was left, so we are using the original data (per day) instead."
      ],
      "id": "W-DF9myJitXH"
    },
    {
      "cell_type": "code",
      "metadata": {
        "colab": {
          "base_uri": "https://localhost:8080/"
        },
        "id": "ufMhJAVVXLw_",
        "outputId": "9996e2d7-d7b5-4a88-dff5-34b54dc0441d"
      },
      "source": [
        "mask_4 = (sd_death_per_day_tukey['Date'] > '2020-9-30') & (sd_death_per_day_tukey['Date'] < '2021-1-1')\n",
        "sd_death_per_day_ = sd_death_per_day_tukey.loc[mask_4]\n",
        "print(\"Length of outlier removed data\", len(sd_death_per_day_))\n",
        "\n",
        "#using non tukey removed data as very less data\n",
        "mask_4 = (sd_death_per_day['Date'] > '2020-9-30') & (sd_death_per_day['Date'] < '2021-1-1')\n",
        "sd_death_per_day_ = sd_death_per_day.loc[mask_4]\n",
        "len(sd_death_per_day_)"
      ],
      "id": "ufMhJAVVXLw_",
      "execution_count": 37,
      "outputs": [
        {
          "output_type": "stream",
          "text": [
            "Length of outlier removed data 51\n"
          ],
          "name": "stdout"
        },
        {
          "output_type": "execute_result",
          "data": {
            "text/plain": [
              "92"
            ]
          },
          "metadata": {
            "tags": []
          },
          "execution_count": 37
        }
      ]
    },
    {
      "cell_type": "code",
      "metadata": {
        "id": "rC5OrV-XZ0Wj"
      },
      "source": [
        "def calculate_sample_mean(X):\n",
        "    return sum(X) / len(X)\n",
        "\n",
        "\n",
        "def calculate_estimated_second_moment(X):\n",
        "    return sum([x * x for x in X]) / len(X)"
      ],
      "id": "rC5OrV-XZ0Wj",
      "execution_count": 38,
      "outputs": []
    },
    {
      "cell_type": "markdown",
      "metadata": {
        "id": "hkxKiobri0eB"
      },
      "source": [
        "Using threshold as 0.05 for both tests"
      ],
      "id": "hkxKiobri0eB"
    },
    {
      "cell_type": "code",
      "metadata": {
        "id": "1wVZKqBYZ6Na"
      },
      "source": [
        "threshold = 0.05"
      ],
      "id": "1wVZKqBYZ6Na",
      "execution_count": 39,
      "outputs": []
    },
    {
      "cell_type": "markdown",
      "metadata": {
        "id": "VxR-tF9IaDq7"
      },
      "source": [
        "KS TEST"
      ],
      "id": "VxR-tF9IaDq7"
    },
    {
      "cell_type": "code",
      "metadata": {
        "id": "-PSF8zWoZ69z"
      },
      "source": [
        "def get_ecdf(X):\n",
        "    c = [None] * len(X)\n",
        "    for i in reversed(range(len(X))):\n",
        "        if i < len(X) - 1 and X[i] == X[i + 1]:\n",
        "            c[i] = c[i + 1]\n",
        "        else:\n",
        "            c[i] = (i + 1) / len(X)\n",
        "        \n",
        "    return c"
      ],
      "id": "-PSF8zWoZ69z",
      "execution_count": 40,
      "outputs": []
    },
    {
      "cell_type": "markdown",
      "metadata": {
        "id": "gBiPmNU5aIHf"
      },
      "source": [
        "1-population KS test"
      ],
      "id": "gBiPmNU5aIHf"
    },
    {
      "cell_type": "code",
      "metadata": {
        "id": "TFtvtZQuaLbv"
      },
      "source": [
        "from scipy.stats import poisson, geom, binom"
      ],
      "id": "TFtvtZQuaLbv",
      "execution_count": 41,
      "outputs": []
    },
    {
      "cell_type": "code",
      "metadata": {
        "id": "Pwvgt9RDaQVH"
      },
      "source": [
        "def get_MME_params(X, dist):\n",
        "    sample_mean = calculate_sample_mean(X)\n",
        "    if dist == \"poisson\":\n",
        "        return sample_mean, None\n",
        "    elif dist == \"geometric\":\n",
        "        return 1 / sample_mean, None\n",
        "    elif dist == \"binomial\":\n",
        "        sample_sec_mom = calculate_estimated_second_moment(X)\n",
        "        t1 = sample_mean ** 2\n",
        "        t2 = sample_mean - sample_sec_mom + t1\n",
        "        return t1 / t2, t2 / sample_mean\n",
        "    else:\n",
        "        return None, None\n",
        "\n",
        "    \n",
        "def get_true_cdf(X, dist, param1, param2):\n",
        "    c = [None] * len(X)\n",
        "    if dist == \"poisson\":\n",
        "        print(\"Poisson dist with lambda =\", param1)\n",
        "        for i in range(len(X)):\n",
        "            c[i] = poisson.cdf(X[i], param1)\n",
        "    elif dist == \"geometric\":\n",
        "        print(\"Geometric dist with p =\", param1)\n",
        "        for i in range(len(X)):\n",
        "            c[i] = geom.cdf(X[i], param1)\n",
        "    elif dist == \"binomial\":\n",
        "        print(\"Binomial dist with n =\", param1, \"p =\", param2)\n",
        "        for i in range(len(X)):\n",
        "            c[i] = binom.cdf(X[i], param1, param2)\n",
        "    return c"
      ],
      "id": "Pwvgt9RDaQVH",
      "execution_count": 42,
      "outputs": []
    },
    {
      "cell_type": "code",
      "metadata": {
        "id": "4ToPYW1gaYRn"
      },
      "source": [
        "def get_ecdf_minus_vals(eCDF):\n",
        "    return [0] + eCDF[:-1]\n",
        "\n",
        "\n",
        "def get_ecdf_plus_vals(eCDF):\n",
        "    return eCDF"
      ],
      "id": "4ToPYW1gaYRn",
      "execution_count": 43,
      "outputs": []
    },
    {
      "cell_type": "code",
      "metadata": {
        "colab": {
          "base_uri": "https://localhost:8080/",
          "height": 1000
        },
        "id": "5Wnd0RQBaaE_",
        "outputId": "650d31ca-b4b2-4d4d-adc5-8968231b074a"
      },
      "source": [
        "def perform_1_pop_KS(X, Y, X_label, Y_label, dist):\n",
        "    print(\"1 population KS test for\", X_label, \"and\", Y_label, \"with\", dist, \"as true distribution\")\n",
        "    \n",
        "    # Obtain MME parameters from data of first state\n",
        "    param1, param2 = get_MME_params(X, dist)\n",
        "    \n",
        "    # Using the MME parameters obtained on data of second state\n",
        "    Y.sort()\n",
        "    \n",
        "    n = len(Y)\n",
        "\n",
        "    true_cdfs_Y = get_true_cdf(Y, dist, param1, param2)\n",
        "    print(\"true cdf range\", true_cdfs_Y[0], true_cdfs_Y[-1])\n",
        "    \n",
        "    ecdf_Y = get_ecdf(Y)\n",
        "    e_minus = get_ecdf_minus_vals(ecdf_Y)\n",
        "    e_plus = get_ecdf_plus_vals(ecdf_Y)\n",
        "\n",
        "    d = -1\n",
        "    max_diff_idx = 0\n",
        "    max_diff_vals = [None, None]\n",
        "    for i in range(n):\n",
        "        true_minus_diff = abs(true_cdfs_Y[i] - e_minus[i])\n",
        "        true_plus_diff = abs(true_cdfs_Y[i] - e_plus[i])\n",
        "        if d < true_minus_diff:\n",
        "            max_diff_idx = i\n",
        "            max_diff_vals[0] = true_cdfs_Y[i]\n",
        "            max_diff_vals[1] = e_minus[i]\n",
        "            d = true_minus_diff\n",
        "        if d < true_plus_diff:\n",
        "            max_diff_idx = i\n",
        "            max_diff_vals[0] = true_cdfs_Y[i]\n",
        "            max_diff_vals[1] = e_plus[i]\n",
        "            d = true_plus_diff\n",
        "\n",
        "    print(\"KS statistic =\", d)\n",
        "\n",
        "    print(\"Max value at x =\", Y[max_diff_idx], \"with values\", max_diff_vals)\n",
        "\n",
        "    if d >= threshold:\n",
        "        print(\"We Reject the Null Hypothesis:\", X_label, \"and\", Y_label, \"does NOT have the same distribution\")\n",
        "    else:\n",
        "        print(\"We Accept the Null Hypothesis:\", X_label, \"and\", Y_label, \"have the same distribution\")\n",
        "        \n",
        "    plt.xlabel(\"x\")\n",
        "    plt.ylabel('CDF')\n",
        "    \n",
        "    X_len = len(X)\n",
        "    Y_len = len(Y)\n",
        "    \n",
        "    plt.step(Y, true_cdfs_Y, label=Y_label+\" true CDF\")\n",
        "    plt.step(Y, ecdf_Y, label=Y_label+\" eCDF\")\n",
        "    plt.scatter([Y[max_diff_idx], Y[max_diff_idx]], max_diff_vals, color='red', marker='x', label='max difference')\n",
        "#     plt.scatter(Y, [0] * n, color='blue', marker='x', label=Y_label)\n",
        "    plt.legend()\n",
        "    plt.show()\n",
        "\n",
        "\n",
        "distributions = [\"poisson\", \"geometric\", \"binomial\"]\n",
        "for i in range(len(distributions)):\n",
        "    perform_1_pop_KS(sc_conf_per_day_.loc[:, \"SC confirmed\"].values, \n",
        "                     sd_conf_per_day_.loc[:, \"SD confirmed\"].values, \n",
        "                     \"SC confirmed\", \"SD confirmed\", distributions[i])\n",
        "    print(\"\\n\")\n",
        "    perform_1_pop_KS(sc_death_per_day_.loc[:, \"SC deaths\"].values, \n",
        "                     sd_death_per_day_.loc[:, \"SD deaths\"].values, \n",
        "                     \"SC deaths\", \"SD deaths\", distributions[i])\n",
        "    print(\"\\n\")\n"
      ],
      "id": "5Wnd0RQBaaE_",
      "execution_count": 44,
      "outputs": [
        {
          "output_type": "stream",
          "text": [
            "1 population KS test for SC confirmed and SD confirmed with poisson as true distribution\n",
            "Poisson dist with lambda = 1485.1627906976744\n",
            "true cdf range 0.0 1.0\n",
            "KS statistic = 0.8848520997021351\n",
            "Max value at x = 1387 with values [0.005257790407755003, 0.8901098901098901]\n",
            "We Reject the Null Hypothesis: SC confirmed and SD confirmed does NOT have the same distribution\n"
          ],
          "name": "stdout"
        },
        {
          "output_type": "display_data",
          "data": {
            "image/png": "[encoded data removed]",
            "text/plain": [
              "<Figure size 432x288 with 1 Axes>"
            ]
          },
          "metadata": {
            "tags": [],
            "needs_background": "light"
          }
        },
        {
          "output_type": "stream",
          "text": [
            "\n",
            "\n",
            "1 population KS test for SC deaths and SD deaths with poisson as true distribution\n",
            "Poisson dist with lambda = 18.662921348314608\n",
            "true cdf range 7.848673123327148e-09 1.0\n",
            "KS statistic = 0.5354961058052318\n",
            "Max value at x = 11 with values [0.04059085071650736, 0.5760869565217391]\n",
            "We Reject the Null Hypothesis: SC deaths and SD deaths does NOT have the same distribution\n"
          ],
          "name": "stdout"
        },
        {
          "output_type": "display_data",
          "data": {
            "image/png": "[encoded data removed]",
            "text/plain": [
              "<Figure size 432x288 with 1 Axes>"
            ]
          },
          "metadata": {
            "tags": [],
            "needs_background": "light"
          }
        },
        {
          "output_type": "stream",
          "text": [
            "\n",
            "\n",
            "1 population KS test for SC confirmed and SD confirmed with geometric as true distribution\n",
            "Geometric dist with p = 0.0006733268610441264\n",
            "true cdf range 0.0 0.8526453509910681\n",
            "KS statistic = 0.29391366781914063\n",
            "Max value at x = 1611 with values [0.6621302882248155, 0.9560439560439561]\n",
            "We Reject the Null Hypothesis: SC confirmed and SD confirmed does NOT have the same distribution\n"
          ],
          "name": "stdout"
        },
        {
          "output_type": "display_data",
          "data": {
            "image/png": "[encoded data removed]",
            "text/plain": [
              "<Figure size 432x288 with 1 Axes>"
            ]
          },
          "metadata": {
            "tags": [],
            "needs_background": "light"
          }
        },
        {
          "output_type": "stream",
          "text": [
            "\n",
            "\n",
            "1 population KS test for SC deaths and SD deaths with geometric as true distribution\n",
            "Geometric dist with p = 0.05358217940999398\n",
            "true cdf range 0.0 0.986370908046822\n",
            "KS statistic = 0.28337434232913644\n",
            "Max value at x = 1 with values [0.05358217940999398, 0.33695652173913043]\n",
            "We Reject the Null Hypothesis: SC deaths and SD deaths does NOT have the same distribution\n"
          ],
          "name": "stdout"
        },
        {
          "output_type": "display_data",
          "data": {
            "image/png": "[encoded data removed]",
            "text/plain": [
              "<Figure size 432x288 with 1 Axes>"
            ]
          },
          "metadata": {
            "tags": [],
            "needs_background": "light"
          }
        },
        {
          "output_type": "stream",
          "text": [
            "\n",
            "\n",
            "1 population KS test for SC confirmed and SD confirmed with binomial as true distribution\n",
            "Binomial dist with n = -2.0403501030428166 p = -727.8960549382285\n",
            "true cdf range 1.0 1.0\n",
            "KS statistic = 1.0\n",
            "Max value at x = 0 with values [1.0, 0]\n",
            "We Reject the Null Hypothesis: SC confirmed and SD confirmed does NOT have the same distribution\n"
          ],
          "name": "stdout"
        },
        {
          "output_type": "display_data",
          "data": {
            "image/png": "[encoded data removed]",
            "text/plain": [
              "<Figure size 432x288 with 1 Axes>"
            ]
          },
          "metadata": {
            "tags": [],
            "needs_background": "light"
          }
        },
        {
          "output_type": "stream",
          "text": [
            "\n",
            "\n",
            "1 population KS test for SC deaths and SD deaths with binomial as true distribution\n",
            "Binomial dist with n = -1.915075525827884 p = -9.745266490336803\n",
            "true cdf range 1.0 1.0\n",
            "KS statistic = 1.0\n",
            "Max value at x = 0 with values [1.0, 0]\n",
            "We Reject the Null Hypothesis: SC deaths and SD deaths does NOT have the same distribution\n"
          ],
          "name": "stdout"
        },
        {
          "output_type": "display_data",
          "data": {
            "image/png": "[encoded data removed]",
            "text/plain": [
              "<Figure size 432x288 with 1 Axes>"
            ]
          },
          "metadata": {
            "tags": [],
            "needs_background": "light"
          }
        },
        {
          "output_type": "stream",
          "text": [
            "\n",
            "\n"
          ],
          "name": "stdout"
        }
      ]
    },
    {
      "cell_type": "markdown",
      "metadata": {
        "id": "aFgqgl2ZjnM1"
      },
      "source": [
        "2-population KS Test"
      ],
      "id": "aFgqgl2ZjnM1"
    },
    {
      "cell_type": "code",
      "metadata": {
        "id": "PbkMrEdFjmcv"
      },
      "source": [
        "def get_ecdf_val_minus(X, eCDF, x):\n",
        "    for i in range(len(X)):\n",
        "        if X[i] >= x:\n",
        "            if i == 0:\n",
        "                return 0\n",
        "            else:\n",
        "                return eCDF[i - 1]\n",
        "    return 1\n",
        "\n",
        "\n",
        "def get_ecdf_val_plus(X, eCDF, x):\n",
        "    for i in range(len(X)):\n",
        "        if X[i] == x:\n",
        "            return eCDF[i]\n",
        "        elif X[i] > x:\n",
        "            if i == 0:\n",
        "                return 0\n",
        "            else:\n",
        "                return eCDF[i - 1]\n",
        "    return 1"
      ],
      "id": "PbkMrEdFjmcv",
      "execution_count": 45,
      "outputs": []
    },
    {
      "cell_type": "code",
      "metadata": {
        "colab": {
          "base_uri": "https://localhost:8080/",
          "height": 881
        },
        "id": "t9SG9ypqiCnW",
        "outputId": "6ce24eb9-fb4c-4aa6-961c-0aef0550782d"
      },
      "source": [
        "def perform_2_pop_KS(X, Y, X_label, Y_label):\n",
        "    print(\"2 population KS test for\", X_label, \"and\", Y_label)\n",
        "\n",
        "    X.sort()\n",
        "    Y.sort()\n",
        "\n",
        "    X_len = len(X)\n",
        "    Y_len = len(Y)\n",
        "    \n",
        "    if X_len > Y_len:\n",
        "        t = Y\n",
        "        Y = X\n",
        "        X = t\n",
        "        X_len = len(X)\n",
        "        Y_len = len(Y)\n",
        "        t = X_label\n",
        "        X_label = Y_label\n",
        "        Y_label = t\n",
        "\n",
        "    print(\"X len\", X_len)\n",
        "    print(\"Y len\", Y_len)\n",
        "    \n",
        "    X_eCDF = get_ecdf(X)\n",
        "    Y_eCDF = get_ecdf(Y)\n",
        "    print(\"X_eCDF len\", len(X_eCDF))\n",
        "    print(\"Y_eCDF len\", len(Y_eCDF))\n",
        "\n",
        "    d = -1\n",
        "    max_diff_idx = 0\n",
        "    max_diff_vals = [None, None]\n",
        "    for i in range(X_len):\n",
        "        x_plus_y_plus_diff = abs(get_ecdf_val_plus(X, X_eCDF, X[i]) - get_ecdf_val_plus(Y, Y_eCDF, X[i]))\n",
        "        x_minus_y_minus_diff = abs(get_ecdf_val_minus(X, X_eCDF, X[i]) - get_ecdf_val_minus(Y, Y_eCDF, X[i]))\n",
        "        if d < x_plus_y_plus_diff:\n",
        "            max_diff_idx = i\n",
        "            max_diff_vals[0] = get_ecdf_val_plus(X, X_eCDF, X[i])\n",
        "            max_diff_vals[1] = get_ecdf_val_plus(Y, Y_eCDF, X[i])\n",
        "            d = x_plus_y_plus_diff\n",
        "        if d < x_minus_y_minus_diff:\n",
        "            max_diff_idx = i\n",
        "            max_diff_vals[0] = get_ecdf_val_minus(X, X_eCDF, X[i])\n",
        "            max_diff_vals[1] = get_ecdf_val_minus(Y, Y_eCDF, X[i])\n",
        "            d = x_minus_y_minus_diff\n",
        "\n",
        "    print(\"KS statistic =\", d)\n",
        "\n",
        "    print(\"Max value at x =\", X[max_diff_idx], \"with values\", max_diff_vals)\n",
        "\n",
        "    if d >= threshold:\n",
        "        print(\"We Reject the Null Hypothesis:\", X_label, \"and\", Y_label, \"does NOT have the same distribution\")\n",
        "    else:\n",
        "        print(\"We Accept the Null Hypothesis:\", X_label, \"and\", Y_label, \"have the same distribution\")\n",
        "        \n",
        "    plt.xlabel(\"x\")\n",
        "    plt.ylabel('eCDF')\n",
        "    \n",
        "    X_len = len(X)\n",
        "    Y_len = len(Y)\n",
        "    \n",
        "    plt.step(X, X_eCDF, label=X_label)\n",
        "    plt.step(Y, Y_eCDF, label=Y_label)\n",
        "    plt.scatter([X[max_diff_idx], X[max_diff_idx]], max_diff_vals, color='red', marker='x', label='max difference')\n",
        "    plt.legend()\n",
        "    plt.show()\n",
        "\n",
        "\n",
        "perform_2_pop_KS(sc_conf_per_day_.loc[:, \"SC confirmed\"].values, \n",
        "                 sd_conf_per_day_.loc[:, \"SD confirmed\"].values, \n",
        "                 \"SC confirmed\", \"SD confirmed\")\n",
        "print(\"\\n\")\n",
        "perform_2_pop_KS(sc_death_per_day_.loc[:, \"SC deaths\"].values, \n",
        "                 sd_death_per_day_.loc[:, \"SD deaths\"].values, \n",
        "                 \"SC deaths\", \"SD deaths\")\n",
        "print(\"\\n\")\n"
      ],
      "id": "t9SG9ypqiCnW",
      "execution_count": 46,
      "outputs": [
        {
          "output_type": "stream",
          "text": [
            "2 population KS test for SC confirmed and SD confirmed\n",
            "X len 86\n",
            "Y len 91\n",
            "X_eCDF len 86\n",
            "Y_eCDF len 91\n",
            "KS statistic = 0.3067978533094813\n",
            "Max value at x = 1493 with values [0.6162790697674418, 0.9230769230769231]\n",
            "We Reject the Null Hypothesis: SC confirmed and SD confirmed does NOT have the same distribution\n"
          ],
          "name": "stdout"
        },
        {
          "output_type": "display_data",
          "data": {
            "image/png": "[encoded data removed]",
            "text/plain": [
              "<Figure size 432x288 with 1 Axes>"
            ]
          },
          "metadata": {
            "tags": [],
            "needs_background": "light"
          }
        },
        {
          "output_type": "stream",
          "text": [
            "\n",
            "\n",
            "2 population KS test for SC deaths and SD deaths\n",
            "X len 89\n",
            "Y len 92\n",
            "X_eCDF len 89\n",
            "Y_eCDF len 92\n",
            "KS statistic = 0.2774792379091353\n",
            "Max value at x = 3 with values [0.15730337078651685, 0.43478260869565216]\n",
            "We Reject the Null Hypothesis: SC deaths and SD deaths does NOT have the same distribution\n"
          ],
          "name": "stdout"
        },
        {
          "output_type": "display_data",
          "data": {
            "image/png": "[encoded data removed]",
            "text/plain": [
              "<Figure size 432x288 with 1 Axes>"
            ]
          },
          "metadata": {
            "tags": [],
            "needs_background": "light"
          }
        },
        {
          "output_type": "stream",
          "text": [
            "\n",
            "\n"
          ],
          "name": "stdout"
        }
      ]
    },
    {
      "cell_type": "markdown",
      "metadata": {
        "id": "cqjDTbaVkRiR"
      },
      "source": [
        "Permutation Test"
      ],
      "id": "cqjDTbaVkRiR"
    },
    {
      "cell_type": "code",
      "metadata": {
        "id": "u0bAsHVTkDhl"
      },
      "source": [
        "from numpy.random import default_rng\n",
        "rng = default_rng()"
      ],
      "id": "u0bAsHVTkDhl",
      "execution_count": 47,
      "outputs": []
    },
    {
      "cell_type": "code",
      "metadata": {
        "id": "Ni70r1e4kVjU"
      },
      "source": [
        "def calculate_T(D, X_len, Y_len):\n",
        "    X_mean = sum(D[0:X_len]) / X_len\n",
        "    Y_mean = sum(D[X_len:]) / Y_len\n",
        "    return abs(X_mean - Y_mean)\n",
        "\n",
        "\n",
        "def get_p_value(D, X_len, Y_len, n, T_obs):\n",
        "    sampled_data = []\n",
        "    while len(sampled_data) != n:\n",
        "        perm = rng.permutation(D).tolist()\n",
        "        if perm in sampled_data:\n",
        "            continue\n",
        "        else:\n",
        "            sampled_data.append(perm)\n",
        "            \n",
        "    count = 0\n",
        "    for i in range(n):\n",
        "        if calculate_T(sampled_data[i], X_len, Y_len) > T_obs:\n",
        "            count = count + 1\n",
        "    \n",
        "    return count / n"
      ],
      "id": "Ni70r1e4kVjU",
      "execution_count": 48,
      "outputs": []
    },
    {
      "cell_type": "code",
      "metadata": {
        "colab": {
          "base_uri": "https://localhost:8080/"
        },
        "id": "In48MoIZkYLv",
        "outputId": "ba560a28-637f-46ee-c001-a55dbf38dc3e"
      },
      "source": [
        "def perfrom_permutation_test(X, Y, X_label, Y_label):\n",
        "    print(\"Permutation test for\", X_label, \"and\", Y_label)\n",
        "    \n",
        "    X_len = len(X)\n",
        "    Y_len = len(Y)\n",
        "\n",
        "    D = np.append(X, Y)\n",
        "    T_obs = calculate_T(D, X_len, Y_len)\n",
        "    print(\"X len =\", X_len)\n",
        "    print(\"Y len =\", Y_len)\n",
        "    print(\"T observed =\", T_obs)\n",
        "\n",
        "    p_val2 = get_p_value(D, X_len, Y_len, 1000, T_obs)\n",
        "    print(\"For n = 1000, p value is\", p_val2)\n",
        "    if p_val2 <= threshold:\n",
        "        print(\"We Reject the Null Hypothesis:\", X_label, \"and\", Y_label, \"does NOT have the same distribution\")\n",
        "    else:\n",
        "        print(\"We Accept the Null Hypothesis:\", X_label, \"and\", Y_label, \"have the same distribution\")\n",
        "\n",
        "\n",
        "perfrom_permutation_test(sc_conf_per_day_.loc[:, \"SC confirmed\"].values, \n",
        "                 sd_conf_per_day_.loc[:, \"SD confirmed\"].values, \n",
        "                 \"SC confirmed\", \"SD confirmed\")\n",
        "print(\"\\n\")\n",
        "perfrom_permutation_test(sc_death_per_day_.loc[:, \"SC deaths\"].values, \n",
        "                 sd_death_per_day_.loc[:, \"SD deaths\"].values, \n",
        "                 \"SC deaths\", \"SD deaths\")\n",
        "print(\"\\n\")\n"
      ],
      "id": "In48MoIZkYLv",
      "execution_count": 49,
      "outputs": [
        {
          "output_type": "stream",
          "text": [
            "Permutation test for SC confirmed and SD confirmed\n",
            "X len = 86\n",
            "Y len = 91\n",
            "T observed = 639.5034500383338\n",
            "For n = 1000, p value is 0.0\n",
            "We Reject the Null Hypothesis: SC confirmed and SD confirmed does NOT have the same distribution\n",
            "\n",
            "\n",
            "Permutation test for SC deaths and SD deaths\n",
            "X len = 89\n",
            "Y len = 92\n",
            "T observed = 4.912921348314608\n",
            "For n = 1000, p value is 0.036\n",
            "We Reject the Null Hypothesis: SC deaths and SD deaths does NOT have the same distribution\n",
            "\n",
            "\n"
          ],
          "name": "stdout"
        }
      ]
    },
    {
      "cell_type": "markdown",
      "metadata": {
        "id": "DI16c9ntA6kg"
      },
      "source": [
        "Question 2.d."
      ],
      "id": "DI16c9ntA6kg"
    },
    {
      "cell_type": "markdown",
      "metadata": {
        "id": "OM0wJIRbsrMw"
      },
      "source": [
        "- sc_conf_per_day_tukey and sd_conf_per_day_tukey dataframes contain the daily cases data for the two states with outliers removed. An inner join is used to to merge the tables for the common dates to give conf_combined\n"
      ],
      "id": "OM0wJIRbsrMw"
    },
    {
      "cell_type": "code",
      "metadata": {
        "colab": {
          "base_uri": "https://localhost:8080/",
          "height": 419
        },
        "id": "mkdAQlROhI_J",
        "outputId": "97662eaa-6282-4c12-da94-bc464cc98127"
      },
      "source": [
        "conf_combined = pd.merge(sc_conf_per_day_tukey, sd_conf_per_day_tukey, on='Date', how='inner')\n",
        "conf_combined"
      ],
      "id": "mkdAQlROhI_J",
      "execution_count": 50,
      "outputs": [
        {
          "output_type": "execute_result",
          "data": {
            "text/html": [
              "<div>\n",
              "<style scoped>\n",
              "    .dataframe tbody tr th:only-of-type {\n",
              "        vertical-align: middle;\n",
              "    }\n",
              "\n",
              "    .dataframe tbody tr th {\n",
              "        vertical-align: top;\n",
              "    }\n",
              "\n",
              "    .dataframe thead th {\n",
              "        text-align: right;\n",
              "    }\n",
              "</style>\n",
              "<table border=\"1\" class=\"dataframe\">\n",
              "  <thead>\n",
              "    <tr style=\"text-align: right;\">\n",
              "      <th></th>\n",
              "      <th>Date</th>\n",
              "      <th>SC confirmed</th>\n",
              "      <th>SD confirmed</th>\n",
              "    </tr>\n",
              "  </thead>\n",
              "  <tbody>\n",
              "    <tr>\n",
              "      <th>0</th>\n",
              "      <td>2020-01-22</td>\n",
              "      <td>0</td>\n",
              "      <td>0</td>\n",
              "    </tr>\n",
              "    <tr>\n",
              "      <th>1</th>\n",
              "      <td>2020-01-23</td>\n",
              "      <td>0</td>\n",
              "      <td>0</td>\n",
              "    </tr>\n",
              "    <tr>\n",
              "      <th>2</th>\n",
              "      <td>2020-01-24</td>\n",
              "      <td>0</td>\n",
              "      <td>0</td>\n",
              "    </tr>\n",
              "    <tr>\n",
              "      <th>3</th>\n",
              "      <td>2020-01-25</td>\n",
              "      <td>0</td>\n",
              "      <td>0</td>\n",
              "    </tr>\n",
              "    <tr>\n",
              "      <th>4</th>\n",
              "      <td>2020-01-26</td>\n",
              "      <td>0</td>\n",
              "      <td>0</td>\n",
              "    </tr>\n",
              "    <tr>\n",
              "      <th>...</th>\n",
              "      <td>...</td>\n",
              "      <td>...</td>\n",
              "      <td>...</td>\n",
              "    </tr>\n",
              "    <tr>\n",
              "      <th>354</th>\n",
              "      <td>2021-03-30</td>\n",
              "      <td>600</td>\n",
              "      <td>143</td>\n",
              "    </tr>\n",
              "    <tr>\n",
              "      <th>355</th>\n",
              "      <td>2021-03-31</td>\n",
              "      <td>961</td>\n",
              "      <td>266</td>\n",
              "    </tr>\n",
              "    <tr>\n",
              "      <th>356</th>\n",
              "      <td>2021-04-01</td>\n",
              "      <td>1091</td>\n",
              "      <td>230</td>\n",
              "    </tr>\n",
              "    <tr>\n",
              "      <th>357</th>\n",
              "      <td>2021-04-02</td>\n",
              "      <td>1315</td>\n",
              "      <td>198</td>\n",
              "    </tr>\n",
              "    <tr>\n",
              "      <th>358</th>\n",
              "      <td>2021-04-03</td>\n",
              "      <td>1241</td>\n",
              "      <td>182</td>\n",
              "    </tr>\n",
              "  </tbody>\n",
              "</table>\n",
              "<p>359 rows × 3 columns</p>\n",
              "</div>"
            ],
            "text/plain": [
              "          Date  SC confirmed  SD confirmed\n",
              "0   2020-01-22             0             0\n",
              "1   2020-01-23             0             0\n",
              "2   2020-01-24             0             0\n",
              "3   2020-01-25             0             0\n",
              "4   2020-01-26             0             0\n",
              "..         ...           ...           ...\n",
              "354 2021-03-30           600           143\n",
              "355 2021-03-31           961           266\n",
              "356 2021-04-01          1091           230\n",
              "357 2021-04-02          1315           198\n",
              "358 2021-04-03          1241           182\n",
              "\n",
              "[359 rows x 3 columns]"
            ]
          },
          "metadata": {
            "tags": []
          },
          "execution_count": 50
        }
      ]
    },
    {
      "cell_type": "markdown",
      "metadata": {
        "id": "OTJHqOZgsyme"
      },
      "source": [
        "- Here, we find the index in the dataframe where date='June 1st 2020' is situated. Since we need 8 weeks worth of data, we initialize the last_date_index such that it can be used to fetch 56 days data\n",
        "- First date index: Index of Date='1st June 2020' \n",
        "- Last date index: Index of last day for required data (last day of 8th week)"
      ],
      "id": "OTJHqOZgsyme"
    },
    {
      "cell_type": "code",
      "metadata": {
        "id": "T-6QuXdwoBeG"
      },
      "source": [
        "idx = conf_combined.index\n",
        "first_date_index = idx[conf_combined[\"Date\"] == \"2020-06-01\"][0]\n",
        "last_date_index = first_date_index + 7*8"
      ],
      "id": "T-6QuXdwoBeG",
      "execution_count": 51,
      "outputs": []
    },
    {
      "cell_type": "markdown",
      "metadata": {
        "id": "xyOdjoC4tMum"
      },
      "source": [
        "- The conf_combined dataframe has 3 columns ['date', 'sc_conf', 'sd_conf']. Since we need total cases for both states combined, we add the values for each day and assign it to new numpy array conf_final"
      ],
      "id": "xyOdjoC4tMum"
    },
    {
      "cell_type": "code",
      "metadata": {
        "id": "mN7g1mEVmECC"
      },
      "source": [
        "conf_combined_np = np.array(conf_combined)\n",
        "conf_final = np.zeros((359, 2), dtype=np.object)\n",
        "conf_final[:, 0] = conf_combined_np[:, 0]\n",
        "conf_final[:, 1] = conf_combined_np[:, 1] + conf_combined_np[:, 2]"
      ],
      "id": "mN7g1mEVmECC",
      "execution_count": 52,
      "outputs": []
    },
    {
      "cell_type": "markdown",
      "metadata": {
        "id": "PBrt_InXthYy"
      },
      "source": [
        "- Here, we filter for the required 8 weeks data, using the variables 'first_date_index' and 'last_date_index'"
      ],
      "id": "PBrt_InXthYy"
    },
    {
      "cell_type": "code",
      "metadata": {
        "id": "gO8hAli3opNG"
      },
      "source": [
        "conf_required_data = conf_final[first_date_index:last_date_index]"
      ],
      "id": "gO8hAli3opNG",
      "execution_count": 53,
      "outputs": []
    },
    {
      "cell_type": "markdown",
      "metadata": {
        "id": "AlOaWg2bbsxt"
      },
      "source": [
        "- Finally, we plot the posterior using the given prior \n",
        "- The prior is given as exponential whose parameter, $\\beta$ is calculated as $\\beta = \\lambda_{MME} = \\sum_{i=1}^{28} x_i$, where $x_i$ is cases for ith day\n",
        "- This gives us the prior,\n",
        "$$ Exp(1/ \\beta) = 1 / \\beta * e^{x/ \\beta }$$\n",
        "- We are also given likelihood of the data which is Poisson\n",
        "- Then, posterior for fifth week is calculated as \n",
        "$$ Posterior_{1} \\propto Likelihood * prior $$\n",
        "- Therefore, for any $ith$ week where $i \\ge 1$\n",
        "$$ Posterior_{i} \\propto \\lambda^{a}*e^{-b\\lambda} $$\n",
        "where\n",
        "$$ n = 7*i $$\n",
        "$$ a = \\sum_{j=0}^n x_i $$ \n",
        "$$ b = 1/(n + 1/\\beta)$$"
      ],
      "id": "AlOaWg2bbsxt"
    },
    {
      "cell_type": "code",
      "metadata": {
        "colab": {
          "base_uri": "https://localhost:8080/",
          "height": 499
        },
        "id": "GPU6bhm4oyrv",
        "outputId": "ff859d1d-20f4-4bbb-bf4c-4dbac4b58b3a"
      },
      "source": [
        "from scipy import stats\n",
        "import matplotlib.pyplot as plt\n",
        "\n",
        "\n",
        "four_weeks_data = conf_required_data[:28]\n",
        "\n",
        "# Calculating beta for prior distribution, as sample mean of first four weeks of data\n",
        "beta = sum(four_weeks_data[:, 1])/28\n",
        "\n",
        "a = 0\n",
        "for i in range(4):\n",
        "  # Fetch weeks data\n",
        "  week_data = conf_required_data[28+7*i:28+7*(i+1)]\n",
        "\n",
        "  # Calculate number of days to consider in the new posterior\n",
        "  n = 7*(i+1)\n",
        "\n",
        "  # set paramters for gamma distribution\n",
        "  a = a + sum(week_data[:, 1])\n",
        "  b = 1./(n + 1./beta)\n",
        "\n",
        "  print(\"Week 5: \")\n",
        "  print(\"Alpha: {}, Scale: {}\".format(str(a), str(b)))\n",
        "\n",
        "  #get the least and maximum possible x axis value for distribution\n",
        "  x1 = np.linspace(stats.gamma.ppf(0.001, a=a, scale=b), stats.gamma.ppf(0.999, a=a, scale=b), 100000)\n",
        "\n",
        "  # get pdf for gamma using paramters a and b\n",
        "  y1 = stats.gamma.pdf(x1, a=a, scale=b)\n",
        "\n",
        "  # get MAP\n",
        "  index_map = np.argmax(y1)\n",
        "  map = x1[index_map]\n",
        "  print(\"MAP: {}\".format(str(map)))\n",
        "\n",
        "  # plot the PDF\n",
        "  plt.plot(x1, y1)\n",
        "  plt.title(\"Posterior Distribution for Confirmed cases\")\n",
        "  plt.xlabel('Lambda')\n",
        "  plt.ylabel('PDF')\n",
        "plt.show()"
      ],
      "id": "GPU6bhm4oyrv",
      "execution_count": 54,
      "outputs": [
        {
          "output_type": "stream",
          "text": [
            "Week 5: \n",
            "Alpha: 11878, Scale: 0.14283236170568667\n",
            "MAP: 1696.4199897511935\n",
            "Week 5: \n",
            "Alpha: 24082, Scale: 0.07142237560331849\n",
            "MAP: 1719.9221527067161\n",
            "Week 5: \n",
            "Alpha: 37769, Scale: 0.047616293839312825\n",
            "MAP: 1798.3721941718466\n",
            "Week 5: \n",
            "Alpha: 49349, Scale: 0.03571273669079013\n",
            "MAP: 1762.3520808921019\n"
          ],
          "name": "stdout"
        },
        {
          "output_type": "display_data",
          "data": {
            "image/png": "[encoded data removed]",
            "text/plain": [
              "<Figure size 432x288 with 1 Axes>"
            ]
          },
          "metadata": {
            "tags": [],
            "needs_background": "light"
          }
        }
      ]
    },
    {
      "cell_type": "markdown",
      "metadata": {
        "id": "jMIaUUgWuUYy"
      },
      "source": [
        "- sc_death_per_day_tukey and sd_death_per_day_tukey dataframes contain the daily death data for the two states with outliers removed. An inner join is used to to merge the tables for the common dates to give death_combined"
      ],
      "id": "jMIaUUgWuUYy"
    },
    {
      "cell_type": "code",
      "metadata": {
        "colab": {
          "base_uri": "https://localhost:8080/",
          "height": 419
        },
        "id": "mjve51WDlPQE",
        "outputId": "62c5f54c-ef28-494e-ac17-6e4241a24819"
      },
      "source": [
        "death_combined = pd.merge(sc_death_per_day_tukey, sd_death_per_day_tukey, on='Date', how='inner')\n",
        "death_combined"
      ],
      "id": "mjve51WDlPQE",
      "execution_count": 55,
      "outputs": [
        {
          "output_type": "execute_result",
          "data": {
            "text/html": [
              "<div>\n",
              "<style scoped>\n",
              "    .dataframe tbody tr th:only-of-type {\n",
              "        vertical-align: middle;\n",
              "    }\n",
              "\n",
              "    .dataframe tbody tr th {\n",
              "        vertical-align: top;\n",
              "    }\n",
              "\n",
              "    .dataframe thead th {\n",
              "        text-align: right;\n",
              "    }\n",
              "</style>\n",
              "<table border=\"1\" class=\"dataframe\">\n",
              "  <thead>\n",
              "    <tr style=\"text-align: right;\">\n",
              "      <th></th>\n",
              "      <th>Date</th>\n",
              "      <th>SC deaths</th>\n",
              "      <th>SD deaths</th>\n",
              "    </tr>\n",
              "  </thead>\n",
              "  <tbody>\n",
              "    <tr>\n",
              "      <th>0</th>\n",
              "      <td>2020-01-22</td>\n",
              "      <td>0</td>\n",
              "      <td>0</td>\n",
              "    </tr>\n",
              "    <tr>\n",
              "      <th>1</th>\n",
              "      <td>2020-01-23</td>\n",
              "      <td>0</td>\n",
              "      <td>0</td>\n",
              "    </tr>\n",
              "    <tr>\n",
              "      <th>2</th>\n",
              "      <td>2020-01-24</td>\n",
              "      <td>0</td>\n",
              "      <td>0</td>\n",
              "    </tr>\n",
              "    <tr>\n",
              "      <th>3</th>\n",
              "      <td>2020-01-25</td>\n",
              "      <td>0</td>\n",
              "      <td>0</td>\n",
              "    </tr>\n",
              "    <tr>\n",
              "      <th>4</th>\n",
              "      <td>2020-01-26</td>\n",
              "      <td>0</td>\n",
              "      <td>0</td>\n",
              "    </tr>\n",
              "    <tr>\n",
              "      <th>...</th>\n",
              "      <td>...</td>\n",
              "      <td>...</td>\n",
              "      <td>...</td>\n",
              "    </tr>\n",
              "    <tr>\n",
              "      <th>363</th>\n",
              "      <td>2021-03-30</td>\n",
              "      <td>4</td>\n",
              "      <td>2</td>\n",
              "    </tr>\n",
              "    <tr>\n",
              "      <th>364</th>\n",
              "      <td>2021-03-31</td>\n",
              "      <td>20</td>\n",
              "      <td>0</td>\n",
              "    </tr>\n",
              "    <tr>\n",
              "      <th>365</th>\n",
              "      <td>2021-04-01</td>\n",
              "      <td>27</td>\n",
              "      <td>3</td>\n",
              "    </tr>\n",
              "    <tr>\n",
              "      <th>366</th>\n",
              "      <td>2021-04-02</td>\n",
              "      <td>7</td>\n",
              "      <td>9</td>\n",
              "    </tr>\n",
              "    <tr>\n",
              "      <th>367</th>\n",
              "      <td>2021-04-03</td>\n",
              "      <td>16</td>\n",
              "      <td>0</td>\n",
              "    </tr>\n",
              "  </tbody>\n",
              "</table>\n",
              "<p>368 rows × 3 columns</p>\n",
              "</div>"
            ],
            "text/plain": [
              "          Date  SC deaths  SD deaths\n",
              "0   2020-01-22          0          0\n",
              "1   2020-01-23          0          0\n",
              "2   2020-01-24          0          0\n",
              "3   2020-01-25          0          0\n",
              "4   2020-01-26          0          0\n",
              "..         ...        ...        ...\n",
              "363 2021-03-30          4          2\n",
              "364 2021-03-31         20          0\n",
              "365 2021-04-01         27          3\n",
              "366 2021-04-02          7          9\n",
              "367 2021-04-03         16          0\n",
              "\n",
              "[368 rows x 3 columns]"
            ]
          },
          "metadata": {
            "tags": []
          },
          "execution_count": 55
        }
      ]
    },
    {
      "cell_type": "markdown",
      "metadata": {
        "id": "SfTqvwewuYvP"
      },
      "source": [
        "- Here, we find the index in the dataframe where date='June 1st 2020' is situated. Since we need 8 weeks worth of data, we initialize the last_date_index such that it can be used to fetch 56 days data\n",
        "- First date index: Index of Date='1st June 2020' \n",
        "- Last date index: Index of last day for required data (last day of 8th week)"
      ],
      "id": "SfTqvwewuYvP"
    },
    {
      "cell_type": "code",
      "metadata": {
        "id": "uRL68qruqEP6"
      },
      "source": [
        "idx = death_combined.index\n",
        "first_date_index = idx[death_combined[\"Date\"] == \"2020-06-01\"][0]\n",
        "last_date_index = first_date_index + 7*8"
      ],
      "id": "uRL68qruqEP6",
      "execution_count": 56,
      "outputs": []
    },
    {
      "cell_type": "markdown",
      "metadata": {
        "id": "ucL_Z2cDun5l"
      },
      "source": [
        "- The conf_combined dataframe has 3 columns ['date', 'sc_death', 'sd_death']. Since we need total deaths for both states combined, we add the values for each day and assign it to new numpy array death_final"
      ],
      "id": "ucL_Z2cDun5l"
    },
    {
      "cell_type": "code",
      "metadata": {
        "id": "OfcJ_I6Tlm9H"
      },
      "source": [
        "death_combined_np = np.array(death_combined)\n",
        "death_final = np.zeros((368, 2), dtype=np.object)\n",
        "death_final[:, 0] = death_combined_np[:, 0]\n",
        "death_final[:, 1] = death_combined_np[:, 1] + death_combined_np[:, 2]"
      ],
      "id": "OfcJ_I6Tlm9H",
      "execution_count": 57,
      "outputs": []
    },
    {
      "cell_type": "markdown",
      "metadata": {
        "id": "ZQ3nMEFmuzWf"
      },
      "source": [
        "- Filtering for 8 weeks worth of data"
      ],
      "id": "ZQ3nMEFmuzWf"
    },
    {
      "cell_type": "code",
      "metadata": {
        "id": "_KQQnowDmCYU"
      },
      "source": [
        "death_required_data = death_final[first_date_index:last_date_index]"
      ],
      "id": "_KQQnowDmCYU",
      "execution_count": 58,
      "outputs": []
    },
    {
      "cell_type": "markdown",
      "metadata": {
        "id": "lPd3yMnhWweS"
      },
      "source": [
        "- Finally, we plot the posterior using the given prior \n",
        "- The prior is given as exponential whose parameter, $\\beta$ is calculated as $\\beta = \\lambda_{MME} = \\sum_{i=1}^{28} x_i$, where $x_i$ is death for ith day\n",
        "- This gives us the prior,\n",
        "$$ Exp(1/ \\beta) = 1 / \\beta * e^{x/ \\beta }$$\n",
        "- We are also given likelihood of the data which is Poisson\n",
        "- Then, posterior for fifth week is calculated as \n",
        "$$ Posterior_{1} \\propto Likelihood * prior $$\n",
        "- Therefore, for any $ith$ week where $i \\ge 1$\n",
        "$$ Posterior_{i} \\propto \\lambda^{a}*e^{-b\\lambda} $$\n",
        "where\n",
        "$$ n = 7*i $$\n",
        "$$ a = \\sum_{j=0}^n x_i $$ \n",
        "$$ b = 1/(n + 1/\\beta)$$"
      ],
      "id": "lPd3yMnhWweS"
    },
    {
      "cell_type": "code",
      "metadata": {
        "colab": {
          "base_uri": "https://localhost:8080/",
          "height": 499
        },
        "id": "eCY8QZxRkvhH",
        "outputId": "33a3351d-590d-4554-f072-879c427af608"
      },
      "source": [
        "from scipy import stats\n",
        "import matplotlib.pyplot as plt\n",
        "\n",
        "four_weeks_data = death_required_data[:28]\n",
        "\n",
        "# find paramter for prior using first four weeks for calculating sample mean\n",
        "beta = sum(four_weeks_data[:, 1])/28\n",
        "\n",
        "a = 0\n",
        "for i in range(4):\n",
        "  # fetch week data\n",
        "  week_data = death_required_data[28+7*i:28+7*(i+1)]\n",
        "  n = 7*(i+1)\n",
        "\n",
        "  # calculate paramters for gamma distribution\n",
        "  a = a + sum(week_data[:, 1])\n",
        "  b = 1./(n + 1./beta)\n",
        "  print(\"Week 5: \")\n",
        "  print(\"Alpha: {}, Scale: {}\".format(str(a), str(b)))\n",
        "\n",
        "  # get x and y(pdf) values for plotting the gamma distribution\n",
        "  x1 = np.linspace(stats.gamma.ppf(0.001, a=a, scale=b), stats.gamma.ppf(0.999, a=a, scale=b), 100000)\n",
        "  y1 = stats.gamma.pdf(x1, a=a, scale=b)\n",
        "\n",
        "  # Get Map by indexing for x-axis value pertaining to max pdf value\n",
        "  index_map = np.argmax(y1)\n",
        "  map = x1[index_map]\n",
        "  print(\"MAP: {}\".format(str(map)))\n",
        "\n",
        "  plt.plot(x1, y1)\n",
        "  plt.title(\"Posterior Distribution for Deaths\")\n",
        "  plt.xlabel('Lambda')\n",
        "  plt.ylabel('PDF')\n",
        "plt.show()"
      ],
      "id": "eCY8QZxRkvhH",
      "execution_count": 59,
      "outputs": [
        {
          "output_type": "stream",
          "text": [
            "Week 5: \n",
            "Alpha: 108, Scale: 0.14059853190287974\n",
            "MAP: 15.044007045842026\n",
            "Week 5: \n",
            "Alpha: 256, Scale: 0.07085941946499716\n",
            "MAP: 18.069148886872338\n",
            "Week 5: \n",
            "Alpha: 453, Scale: 0.04736541753852007\n",
            "MAP: 21.409169042896576\n",
            "Week 5: \n",
            "Alpha: 699, Scale: 0.035571428571428566\n",
            "MAP: 24.828853163378398\n"
          ],
          "name": "stdout"
        },
        {
          "output_type": "display_data",
          "data": {
            "image/png": "[encoded data removed]",
            "text/plain": [
              "<Figure size 432x288 with 1 Axes>"
            ]
          },
          "metadata": {
            "tags": [],
            "needs_background": "light"
          }
        }
      ]
    },
    {
      "cell_type": "markdown",
      "metadata": {
        "id": "uzFSbm7-WY5f"
      },
      "source": [
        "Question. 3\n",
        "**Exploratory Section**"
      ],
      "id": "uzFSbm7-WY5f"
    },
    {
      "cell_type": "code",
      "metadata": {
        "id": "hWh0f9KNkhb_"
      },
      "source": [
        ""
      ],
      "id": "hWh0f9KNkhb_",
      "execution_count": 59,
      "outputs": []
    }
  ]
}